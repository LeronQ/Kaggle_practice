{
 "cells": [
  {
   "cell_type": "markdown",
   "id": "3cbb6212",
   "metadata": {},
   "source": [
    "参考https://www.codeleading.com/article/36904728547/"
   ]
  },
  {
   "cell_type": "markdown",
   "id": "cdddceb2",
   "metadata": {},
   "source": [
    "参考https://zhuanlan.zhihu.com/p/369931425"
   ]
  },
  {
   "cell_type": "markdown",
   "id": "2e18bf31",
   "metadata": {},
   "source": [
    "特征解释https://www.codeleading.com/article/94584690260/"
   ]
  },
  {
   "cell_type": "code",
   "execution_count": 1,
   "id": "7039d770",
   "metadata": {
    "ExecuteTime": {
     "end_time": "2022-04-07T06:57:56.939034Z",
     "start_time": "2022-04-07T06:57:53.574988Z"
    }
   },
   "outputs": [],
   "source": [
    "import pandas as pd\n",
    "import numpy as np\n",
    "import matplotlib.pyplot as plt\n",
    "import seaborn as sns\n",
    "import datetime\n",
    "import warnings\n",
    "warnings.filterwarnings('ignore')"
   ]
  },
  {
   "cell_type": "markdown",
   "id": "a3f6f607",
   "metadata": {},
   "source": [
    "# EDA分析"
   ]
  },
  {
   "cell_type": "code",
   "execution_count": 42,
   "id": "3ae24ef9",
   "metadata": {
    "ExecuteTime": {
     "end_time": "2022-04-07T07:15:17.152007Z",
     "start_time": "2022-04-07T07:15:13.353326Z"
    }
   },
   "outputs": [],
   "source": [
    "# 2.1 读取文件\n",
    "data_train = pd.read_csv('train.csv')\n",
    "data_test_a = pd.read_csv('testA.csv')"
   ]
  },
  {
   "cell_type": "code",
   "execution_count": 3,
   "id": "f6ac5b25",
   "metadata": {
    "ExecuteTime": {
     "end_time": "2022-04-07T06:58:33.720008Z",
     "start_time": "2022-04-07T06:58:33.685677Z"
    }
   },
   "outputs": [
    {
     "data": {
      "text/html": [
       "<div>\n",
       "<style scoped>\n",
       "    .dataframe tbody tr th:only-of-type {\n",
       "        vertical-align: middle;\n",
       "    }\n",
       "\n",
       "    .dataframe tbody tr th {\n",
       "        vertical-align: top;\n",
       "    }\n",
       "\n",
       "    .dataframe thead th {\n",
       "        text-align: right;\n",
       "    }\n",
       "</style>\n",
       "<table border=\"1\" class=\"dataframe\">\n",
       "  <thead>\n",
       "    <tr style=\"text-align: right;\">\n",
       "      <th></th>\n",
       "      <th>id</th>\n",
       "      <th>loanAmnt</th>\n",
       "      <th>term</th>\n",
       "      <th>interestRate</th>\n",
       "      <th>installment</th>\n",
       "      <th>grade</th>\n",
       "      <th>subGrade</th>\n",
       "      <th>employmentTitle</th>\n",
       "      <th>employmentLength</th>\n",
       "      <th>homeOwnership</th>\n",
       "      <th>...</th>\n",
       "      <th>n5</th>\n",
       "      <th>n6</th>\n",
       "      <th>n7</th>\n",
       "      <th>n8</th>\n",
       "      <th>n9</th>\n",
       "      <th>n10</th>\n",
       "      <th>n11</th>\n",
       "      <th>n12</th>\n",
       "      <th>n13</th>\n",
       "      <th>n14</th>\n",
       "    </tr>\n",
       "  </thead>\n",
       "  <tbody>\n",
       "    <tr>\n",
       "      <th>0</th>\n",
       "      <td>0</td>\n",
       "      <td>35000.0</td>\n",
       "      <td>5</td>\n",
       "      <td>19.52</td>\n",
       "      <td>917.97</td>\n",
       "      <td>E</td>\n",
       "      <td>E2</td>\n",
       "      <td>320.0</td>\n",
       "      <td>2 years</td>\n",
       "      <td>2</td>\n",
       "      <td>...</td>\n",
       "      <td>9.0</td>\n",
       "      <td>8.0</td>\n",
       "      <td>4.0</td>\n",
       "      <td>12.0</td>\n",
       "      <td>2.0</td>\n",
       "      <td>7.0</td>\n",
       "      <td>0.0</td>\n",
       "      <td>0.0</td>\n",
       "      <td>0.0</td>\n",
       "      <td>2.0</td>\n",
       "    </tr>\n",
       "    <tr>\n",
       "      <th>1</th>\n",
       "      <td>1</td>\n",
       "      <td>18000.0</td>\n",
       "      <td>5</td>\n",
       "      <td>18.49</td>\n",
       "      <td>461.90</td>\n",
       "      <td>D</td>\n",
       "      <td>D2</td>\n",
       "      <td>219843.0</td>\n",
       "      <td>5 years</td>\n",
       "      <td>0</td>\n",
       "      <td>...</td>\n",
       "      <td>NaN</td>\n",
       "      <td>NaN</td>\n",
       "      <td>NaN</td>\n",
       "      <td>NaN</td>\n",
       "      <td>NaN</td>\n",
       "      <td>13.0</td>\n",
       "      <td>NaN</td>\n",
       "      <td>NaN</td>\n",
       "      <td>NaN</td>\n",
       "      <td>NaN</td>\n",
       "    </tr>\n",
       "    <tr>\n",
       "      <th>2</th>\n",
       "      <td>2</td>\n",
       "      <td>12000.0</td>\n",
       "      <td>5</td>\n",
       "      <td>16.99</td>\n",
       "      <td>298.17</td>\n",
       "      <td>D</td>\n",
       "      <td>D3</td>\n",
       "      <td>31698.0</td>\n",
       "      <td>8 years</td>\n",
       "      <td>0</td>\n",
       "      <td>...</td>\n",
       "      <td>0.0</td>\n",
       "      <td>21.0</td>\n",
       "      <td>4.0</td>\n",
       "      <td>5.0</td>\n",
       "      <td>3.0</td>\n",
       "      <td>11.0</td>\n",
       "      <td>0.0</td>\n",
       "      <td>0.0</td>\n",
       "      <td>0.0</td>\n",
       "      <td>4.0</td>\n",
       "    </tr>\n",
       "    <tr>\n",
       "      <th>799997</th>\n",
       "      <td>799997</td>\n",
       "      <td>6000.0</td>\n",
       "      <td>3</td>\n",
       "      <td>13.33</td>\n",
       "      <td>203.12</td>\n",
       "      <td>C</td>\n",
       "      <td>C3</td>\n",
       "      <td>2582.0</td>\n",
       "      <td>10+ years</td>\n",
       "      <td>1</td>\n",
       "      <td>...</td>\n",
       "      <td>4.0</td>\n",
       "      <td>26.0</td>\n",
       "      <td>4.0</td>\n",
       "      <td>10.0</td>\n",
       "      <td>4.0</td>\n",
       "      <td>5.0</td>\n",
       "      <td>0.0</td>\n",
       "      <td>0.0</td>\n",
       "      <td>1.0</td>\n",
       "      <td>4.0</td>\n",
       "    </tr>\n",
       "    <tr>\n",
       "      <th>799998</th>\n",
       "      <td>799998</td>\n",
       "      <td>19200.0</td>\n",
       "      <td>3</td>\n",
       "      <td>6.92</td>\n",
       "      <td>592.14</td>\n",
       "      <td>A</td>\n",
       "      <td>A4</td>\n",
       "      <td>151.0</td>\n",
       "      <td>10+ years</td>\n",
       "      <td>0</td>\n",
       "      <td>...</td>\n",
       "      <td>10.0</td>\n",
       "      <td>6.0</td>\n",
       "      <td>12.0</td>\n",
       "      <td>22.0</td>\n",
       "      <td>8.0</td>\n",
       "      <td>16.0</td>\n",
       "      <td>0.0</td>\n",
       "      <td>0.0</td>\n",
       "      <td>0.0</td>\n",
       "      <td>5.0</td>\n",
       "    </tr>\n",
       "    <tr>\n",
       "      <th>799999</th>\n",
       "      <td>799999</td>\n",
       "      <td>9000.0</td>\n",
       "      <td>3</td>\n",
       "      <td>11.06</td>\n",
       "      <td>294.91</td>\n",
       "      <td>B</td>\n",
       "      <td>B3</td>\n",
       "      <td>13.0</td>\n",
       "      <td>5 years</td>\n",
       "      <td>0</td>\n",
       "      <td>...</td>\n",
       "      <td>3.0</td>\n",
       "      <td>4.0</td>\n",
       "      <td>4.0</td>\n",
       "      <td>8.0</td>\n",
       "      <td>3.0</td>\n",
       "      <td>7.0</td>\n",
       "      <td>0.0</td>\n",
       "      <td>0.0</td>\n",
       "      <td>0.0</td>\n",
       "      <td>2.0</td>\n",
       "    </tr>\n",
       "  </tbody>\n",
       "</table>\n",
       "<p>6 rows × 47 columns</p>\n",
       "</div>"
      ],
      "text/plain": [
       "            id  loanAmnt  term  interestRate  installment grade subGrade  \\\n",
       "0            0   35000.0     5         19.52       917.97     E       E2   \n",
       "1            1   18000.0     5         18.49       461.90     D       D2   \n",
       "2            2   12000.0     5         16.99       298.17     D       D3   \n",
       "799997  799997    6000.0     3         13.33       203.12     C       C3   \n",
       "799998  799998   19200.0     3          6.92       592.14     A       A4   \n",
       "799999  799999    9000.0     3         11.06       294.91     B       B3   \n",
       "\n",
       "        employmentTitle employmentLength  homeOwnership  ...    n5    n6  \\\n",
       "0                 320.0          2 years              2  ...   9.0   8.0   \n",
       "1              219843.0          5 years              0  ...   NaN   NaN   \n",
       "2               31698.0          8 years              0  ...   0.0  21.0   \n",
       "799997           2582.0        10+ years              1  ...   4.0  26.0   \n",
       "799998            151.0        10+ years              0  ...  10.0   6.0   \n",
       "799999             13.0          5 years              0  ...   3.0   4.0   \n",
       "\n",
       "          n7    n8   n9   n10  n11  n12  n13  n14  \n",
       "0        4.0  12.0  2.0   7.0  0.0  0.0  0.0  2.0  \n",
       "1        NaN   NaN  NaN  13.0  NaN  NaN  NaN  NaN  \n",
       "2        4.0   5.0  3.0  11.0  0.0  0.0  0.0  4.0  \n",
       "799997   4.0  10.0  4.0   5.0  0.0  0.0  1.0  4.0  \n",
       "799998  12.0  22.0  8.0  16.0  0.0  0.0  0.0  5.0  \n",
       "799999   4.0   8.0  3.0   7.0  0.0  0.0  0.0  2.0  \n",
       "\n",
       "[6 rows x 47 columns]"
      ]
     },
     "execution_count": 3,
     "metadata": {},
     "output_type": "execute_result"
    }
   ],
   "source": [
    "# 2.2 总体了解\n",
    "# 将前三行与后三行拼起来\n",
    "data_train.head(3).append(data_train.tail(3))"
   ]
  },
  {
   "cell_type": "code",
   "execution_count": 4,
   "id": "f30a26a6",
   "metadata": {
    "ExecuteTime": {
     "end_time": "2022-04-07T06:58:48.088399Z",
     "start_time": "2022-04-07T06:58:47.937819Z"
    }
   },
   "outputs": [
    {
     "name": "stdout",
     "output_type": "stream",
     "text": [
      "There are 22 columns in train dataset with missing values.\n"
     ]
    }
   ],
   "source": [
    "# 2.3 查看数据集中特征缺失值，唯一值等\n",
    "# 多少列有缺失值\n",
    "print(f\"There are {data_train.isnull().any().sum()} columns in train dataset with missing values.\")"
   ]
  },
  {
   "cell_type": "code",
   "execution_count": 6,
   "id": "e175b1e0",
   "metadata": {
    "ExecuteTime": {
     "end_time": "2022-04-07T06:59:05.198446Z",
     "start_time": "2022-04-07T06:59:05.020836Z"
    }
   },
   "outputs": [
    {
     "data": {
      "text/plain": [
       "{}"
      ]
     },
     "execution_count": 6,
     "metadata": {},
     "output_type": "execute_result"
    }
   ],
   "source": [
    "# 查看缺失特征中缺失率大于50%的特征\n",
    "have_null_fea_dict = (data_train.isnull().sum()/len(data_train)).to_dict()\n",
    "fea_null_moreThanHalf = {}\n",
    "for key,value in have_null_fea_dict.items():\n",
    "    if value > 0.5:\n",
    "        fea_null_moreThanHalf[key] = value\n",
    "        \n",
    "fea_null_moreThanHalf  # 无"
   ]
  },
  {
   "cell_type": "code",
   "execution_count": 12,
   "id": "d6f6c2cc",
   "metadata": {
    "ExecuteTime": {
     "end_time": "2022-04-07T07:00:47.978310Z",
     "start_time": "2022-04-07T07:00:47.633021Z"
    }
   },
   "outputs": [
    {
     "data": {
      "image/png": "[encoded data removed]",
      "text/plain": [
       "<Figure size 432x288 with 1 Axes>"
      ]
     },
     "metadata": {
      "needs_background": "light"
     },
     "output_type": "display_data"
    }
   ],
   "source": [
    "# 可视化\n",
    "missing = data_train.isnull().sum()/len(data_train)\n",
    "missing = missing[missing > 0]\n",
    "missing.sort_values(inplace=True)\n",
    "missing.plot.bar()\n",
    "plt.title('missing rate')\n",
    "plt.grid()"
   ]
  },
  {
   "cell_type": "code",
   "execution_count": 13,
   "id": "fcfad326",
   "metadata": {
    "ExecuteTime": {
     "end_time": "2022-04-07T07:01:28.164056Z",
     "start_time": "2022-04-07T07:01:27.492699Z"
    }
   },
   "outputs": [],
   "source": [
    "# 查看训练集测试集中特征属性只有一值的特征\n",
    "one_value_fea = [col for col in data_train.columns if data_train[col].nunique() <= 1]\n",
    "one_value_fea_test = [col for col in data_test_a.columns if data_test_a[col].nunique() <= 1]\n",
    "\n",
    "print(f'There are {len(one_value_fea)} columns {one_value_fea} in train dataset with one unique value')\n",
    "print(f'There are {len(one_value_fea_test)} columns {one_value_fea_test} in testA dataset with one unique value')"
   ]
  },
  {
   "cell_type": "code",
   "execution_count": 15,
   "id": "8545106e",
   "metadata": {
    "ExecuteTime": {
     "end_time": "2022-04-07T07:01:33.410766Z",
     "start_time": "2022-04-07T07:01:33.400763Z"
    }
   },
   "outputs": [
    {
     "data": {
      "text/plain": [
       "(['policyCode'], ['policyCode'])"
      ]
     },
     "execution_count": 15,
     "metadata": {},
     "output_type": "execute_result"
    }
   ],
   "source": [
    "one_value_fea,one_value_fea_test"
   ]
  },
  {
   "cell_type": "code",
   "execution_count": 17,
   "id": "59b8a3bc",
   "metadata": {
    "ExecuteTime": {
     "end_time": "2022-04-07T07:03:08.574208Z",
     "start_time": "2022-04-07T07:03:08.486592Z"
    }
   },
   "outputs": [],
   "source": [
    "# 2.4 查看特征的数值类型有哪些，对象类型有哪些\n",
    "numerical_fea = list(data_train.select_dtypes(exclude=['object']).columns)\n",
    "category_fea = list(filter(lambda x: x not in numerical_fea,list(data_train.columns)))"
   ]
  },
  {
   "cell_type": "code",
   "execution_count": 18,
   "id": "e52e1cf4",
   "metadata": {
    "ExecuteTime": {
     "end_time": "2022-04-07T07:03:12.549035Z",
     "start_time": "2022-04-07T07:03:12.542039Z"
    }
   },
   "outputs": [
    {
     "data": {
      "text/plain": [
       "['id',\n",
       " 'loanAmnt',\n",
       " 'term',\n",
       " 'interestRate',\n",
       " 'installment',\n",
       " 'employmentTitle',\n",
       " 'homeOwnership',\n",
       " 'annualIncome',\n",
       " 'verificationStatus',\n",
       " 'isDefault',\n",
       " 'purpose',\n",
       " 'postCode',\n",
       " 'regionCode',\n",
       " 'dti',\n",
       " 'delinquency_2years',\n",
       " 'ficoRangeLow',\n",
       " 'ficoRangeHigh',\n",
       " 'openAcc',\n",
       " 'pubRec',\n",
       " 'pubRecBankruptcies',\n",
       " 'revolBal',\n",
       " 'revolUtil',\n",
       " 'totalAcc',\n",
       " 'initialListStatus',\n",
       " 'applicationType',\n",
       " 'title',\n",
       " 'policyCode',\n",
       " 'n0',\n",
       " 'n1',\n",
       " 'n2',\n",
       " 'n3',\n",
       " 'n4',\n",
       " 'n5',\n",
       " 'n6',\n",
       " 'n7',\n",
       " 'n8',\n",
       " 'n9',\n",
       " 'n10',\n",
       " 'n11',\n",
       " 'n12',\n",
       " 'n13',\n",
       " 'n14']"
      ]
     },
     "execution_count": 18,
     "metadata": {},
     "output_type": "execute_result"
    }
   ],
   "source": [
    "numerical_fea"
   ]
  },
  {
   "cell_type": "code",
   "execution_count": 19,
   "id": "f6dab35d",
   "metadata": {
    "ExecuteTime": {
     "end_time": "2022-04-07T07:03:20.672043Z",
     "start_time": "2022-04-07T07:03:20.664048Z"
    }
   },
   "outputs": [
    {
     "data": {
      "text/plain": [
       "['grade', 'subGrade', 'employmentLength', 'issueDate', 'earliesCreditLine']"
      ]
     },
     "execution_count": 19,
     "metadata": {},
     "output_type": "execute_result"
    }
   ],
   "source": [
    "category_fea"
   ]
  },
  {
   "cell_type": "code",
   "execution_count": 21,
   "id": "1dab9372",
   "metadata": {
    "ExecuteTime": {
     "end_time": "2022-04-07T07:03:49.928959Z",
     "start_time": "2022-04-07T07:03:49.543002Z"
    }
   },
   "outputs": [],
   "source": [
    "#划分数值型变量中的连续变量和分类变量\n",
    "# 过滤数值型类别特征\n",
    "def get_numerical_serial_fea(data,feas):\n",
    "\tnumerical_serial_fea = []\n",
    "\tnumerical_noserial_fea = []\n",
    "\tfor fea in feas:\n",
    "\t\ttemp = data[fea].nunique()\n",
    "\t\tif temp <= 10:\n",
    "\t\t\tnumerical_noserial_fea.append(fea)\n",
    "\t\t\tcontinue\n",
    "\t\tnumerical_serial_fea.append(fea)\n",
    "\treturn numerical_serial_fea,numerical_noserial_fea\n",
    "\n",
    "numerical_serial_fea,numerical_noserial_fea = get_numerical_serial_fea(data_train,numerical_fea)"
   ]
  },
  {
   "cell_type": "code",
   "execution_count": 22,
   "id": "0f20a919",
   "metadata": {
    "ExecuteTime": {
     "end_time": "2022-04-07T07:04:00.033921Z",
     "start_time": "2022-04-07T07:04:00.022537Z"
    }
   },
   "outputs": [
    {
     "data": {
      "text/plain": [
       "['id',\n",
       " 'loanAmnt',\n",
       " 'interestRate',\n",
       " 'installment',\n",
       " 'employmentTitle',\n",
       " 'annualIncome',\n",
       " 'purpose',\n",
       " 'postCode',\n",
       " 'regionCode',\n",
       " 'dti',\n",
       " 'delinquency_2years',\n",
       " 'ficoRangeLow',\n",
       " 'ficoRangeHigh',\n",
       " 'openAcc',\n",
       " 'pubRec',\n",
       " 'pubRecBankruptcies',\n",
       " 'revolBal',\n",
       " 'revolUtil',\n",
       " 'totalAcc',\n",
       " 'title',\n",
       " 'n0',\n",
       " 'n1',\n",
       " 'n2',\n",
       " 'n3',\n",
       " 'n4',\n",
       " 'n5',\n",
       " 'n6',\n",
       " 'n7',\n",
       " 'n8',\n",
       " 'n9',\n",
       " 'n10',\n",
       " 'n13',\n",
       " 'n14']"
      ]
     },
     "execution_count": 22,
     "metadata": {},
     "output_type": "execute_result"
    }
   ],
   "source": [
    "numerical_serial_fea"
   ]
  },
  {
   "cell_type": "code",
   "execution_count": 23,
   "id": "23c02640",
   "metadata": {
    "ExecuteTime": {
     "end_time": "2022-04-07T07:04:09.553962Z",
     "start_time": "2022-04-07T07:04:09.547964Z"
    }
   },
   "outputs": [
    {
     "data": {
      "text/plain": [
       "['term',\n",
       " 'homeOwnership',\n",
       " 'verificationStatus',\n",
       " 'isDefault',\n",
       " 'initialListStatus',\n",
       " 'applicationType',\n",
       " 'policyCode',\n",
       " 'n11',\n",
       " 'n12']"
      ]
     },
     "execution_count": 23,
     "metadata": {},
     "output_type": "execute_result"
    }
   ],
   "source": [
    "numerical_noserial_fea"
   ]
  },
  {
   "cell_type": "code",
   "execution_count": 26,
   "id": "5caa2805",
   "metadata": {
    "ExecuteTime": {
     "end_time": "2022-04-07T07:08:53.321622Z",
     "start_time": "2022-04-07T07:08:53.304620Z"
    }
   },
   "outputs": [
    {
     "data": {
      "text/plain": [
       "3    606902\n",
       "5    193098\n",
       "Name: term, dtype: int64"
      ]
     },
     "execution_count": 26,
     "metadata": {},
     "output_type": "execute_result"
    }
   ],
   "source": [
    "# 1) 数值类别型变量分析\n",
    "data_train['term'].value_counts() #离散型变量"
   ]
  },
  {
   "cell_type": "code",
   "execution_count": 27,
   "id": "356db968",
   "metadata": {
    "ExecuteTime": {
     "end_time": "2022-04-07T07:08:53.499447Z",
     "start_time": "2022-04-07T07:08:53.491337Z"
    }
   },
   "outputs": [
    {
     "data": {
      "text/plain": [
       "0    395732\n",
       "1    317660\n",
       "2     86309\n",
       "3       185\n",
       "5        81\n",
       "4        33\n",
       "Name: homeOwnership, dtype: int64"
      ]
     },
     "execution_count": 27,
     "metadata": {},
     "output_type": "execute_result"
    }
   ],
   "source": [
    "data_train['homeOwnership'].value_counts()#离散型变量"
   ]
  },
  {
   "cell_type": "code",
   "execution_count": 28,
   "id": "aa87fdad",
   "metadata": {
    "ExecuteTime": {
     "end_time": "2022-04-07T07:08:53.719655Z",
     "start_time": "2022-04-07T07:08:53.698641Z"
    }
   },
   "outputs": [
    {
     "data": {
      "text/plain": [
       "1    309810\n",
       "2    248968\n",
       "0    241222\n",
       "Name: verificationStatus, dtype: int64"
      ]
     },
     "execution_count": 28,
     "metadata": {},
     "output_type": "execute_result"
    }
   ],
   "source": [
    "data_train['verificationStatus'].value_counts()#离散型变量"
   ]
  },
  {
   "cell_type": "code",
   "execution_count": 29,
   "id": "72166f1e",
   "metadata": {
    "ExecuteTime": {
     "end_time": "2022-04-07T07:08:53.923379Z",
     "start_time": "2022-04-07T07:08:53.909421Z"
    }
   },
   "outputs": [
    {
     "data": {
      "text/plain": [
       "0    466438\n",
       "1    333562\n",
       "Name: initialListStatus, dtype: int64"
      ]
     },
     "execution_count": 29,
     "metadata": {},
     "output_type": "execute_result"
    }
   ],
   "source": [
    "data_train['initialListStatus'].value_counts()#离散型变量"
   ]
  },
  {
   "cell_type": "code",
   "execution_count": 30,
   "id": "225d51d2",
   "metadata": {
    "ExecuteTime": {
     "end_time": "2022-04-07T07:08:54.238729Z",
     "start_time": "2022-04-07T07:08:54.209750Z"
    }
   },
   "outputs": [
    {
     "data": {
      "text/plain": [
       "0    784586\n",
       "1     15414\n",
       "Name: applicationType, dtype: int64"
      ]
     },
     "execution_count": 30,
     "metadata": {},
     "output_type": "execute_result"
    }
   ],
   "source": [
    "data_train['applicationType'].value_counts()#离散型变量"
   ]
  },
  {
   "cell_type": "code",
   "execution_count": 31,
   "id": "f637ccdf",
   "metadata": {
    "ExecuteTime": {
     "end_time": "2022-04-07T07:08:54.553045Z",
     "start_time": "2022-04-07T07:08:54.529608Z"
    }
   },
   "outputs": [
    {
     "data": {
      "text/plain": [
       "1.0    800000\n",
       "Name: policyCode, dtype: int64"
      ]
     },
     "execution_count": 31,
     "metadata": {},
     "output_type": "execute_result"
    }
   ],
   "source": [
    "data_train['policyCode'].value_counts()#离散型变量，无用，全部一个值"
   ]
  },
  {
   "cell_type": "code",
   "execution_count": 32,
   "id": "def4a907",
   "metadata": {
    "ExecuteTime": {
     "end_time": "2022-04-07T07:08:54.868868Z",
     "start_time": "2022-04-07T07:08:54.857856Z"
    }
   },
   "outputs": [
    {
     "data": {
      "text/plain": [
       "0.0    729682\n",
       "1.0       540\n",
       "2.0        24\n",
       "4.0         1\n",
       "3.0         1\n",
       "Name: n11, dtype: int64"
      ]
     },
     "execution_count": 32,
     "metadata": {},
     "output_type": "execute_result"
    }
   ],
   "source": [
    "data_train['n11'].value_counts()#离散型变量，相差悬殊，用不用再分析"
   ]
  },
  {
   "cell_type": "code",
   "execution_count": 33,
   "id": "12bb471a",
   "metadata": {
    "ExecuteTime": {
     "end_time": "2022-04-07T07:08:55.441271Z",
     "start_time": "2022-04-07T07:08:55.426267Z"
    }
   },
   "outputs": [
    {
     "data": {
      "text/plain": [
       "0.0    757315\n",
       "1.0      2281\n",
       "2.0       115\n",
       "3.0        16\n",
       "4.0         3\n",
       "Name: n12, dtype: int64"
      ]
     },
     "execution_count": 33,
     "metadata": {},
     "output_type": "execute_result"
    }
   ],
   "source": [
    "data_train['n12'].value_counts()#离散型变量，相差悬殊，用不用再分析"
   ]
  },
  {
   "cell_type": "code",
   "execution_count": 35,
   "id": "66b00759",
   "metadata": {
    "ExecuteTime": {
     "end_time": "2022-04-07T07:13:25.949866Z",
     "start_time": "2022-04-07T07:09:23.513078Z"
    }
   },
   "outputs": [
    {
     "data": {
      "image/png": "[encoded data removed]",
      "text/plain": [
       "<Figure size 432x3672 with 33 Axes>"
      ]
     },
     "metadata": {
      "needs_background": "light"
     },
     "output_type": "display_data"
    }
   ],
   "source": [
    "# 2) 数值连续型变量分析\n",
    "#每个数字特征得分布可视化\n",
    "f = pd.melt(data_train, value_vars=numerical_serial_fea)\n",
    "g = sns.FacetGrid(f, col=\"variable\", col_wrap=2, sharex=False, sharey=False)\n",
    "g = g.map(sns.distplot, \"value\")"
   ]
  },
  {
   "cell_type": "code",
   "execution_count": 36,
   "id": "094e7980",
   "metadata": {
    "ExecuteTime": {
     "end_time": "2022-04-07T07:13:25.983718Z",
     "start_time": "2022-04-07T07:13:25.952188Z"
    }
   },
   "outputs": [
    {
     "data": {
      "text/plain": [
       "B    233690\n",
       "C    227118\n",
       "A    139661\n",
       "D    119453\n",
       "E     55661\n",
       "F     19053\n",
       "G      5364\n",
       "Name: grade, dtype: int64"
      ]
     },
     "execution_count": 36,
     "metadata": {},
     "output_type": "execute_result"
    }
   ],
   "source": [
    "# 3) 非数值类别型变量分析\n",
    "data_train['grade'].value_counts()"
   ]
  },
  {
   "cell_type": "code",
   "execution_count": 37,
   "id": "85a441e3",
   "metadata": {
    "ExecuteTime": {
     "end_time": "2022-04-07T07:13:26.037388Z",
     "start_time": "2022-04-07T07:13:25.985718Z"
    }
   },
   "outputs": [
    {
     "data": {
      "text/plain": [
       "C1    50763\n",
       "B4    49516\n",
       "B5    48965\n",
       "B3    48600\n",
       "C2    47068\n",
       "C3    44751\n",
       "C4    44272\n",
       "B2    44227\n",
       "B1    42382\n",
       "C5    40264\n",
       "A5    38045\n",
       "A4    30928\n",
       "D1    30538\n",
       "D2    26528\n",
       "A1    25909\n",
       "D3    23410\n",
       "A3    22655\n",
       "A2    22124\n",
       "D4    21139\n",
       "D5    17838\n",
       "E1    14064\n",
       "E2    12746\n",
       "E3    10925\n",
       "E4     9273\n",
       "E5     8653\n",
       "F1     5925\n",
       "F2     4340\n",
       "F3     3577\n",
       "F4     2859\n",
       "F5     2352\n",
       "G1     1759\n",
       "G2     1231\n",
       "G3      978\n",
       "G4      751\n",
       "G5      645\n",
       "Name: subGrade, dtype: int64"
      ]
     },
     "execution_count": 37,
     "metadata": {},
     "output_type": "execute_result"
    }
   ],
   "source": [
    "data_train['subGrade'].value_counts()"
   ]
  },
  {
   "cell_type": "code",
   "execution_count": 38,
   "id": "080ca926",
   "metadata": {
    "ExecuteTime": {
     "end_time": "2022-04-07T07:13:26.097151Z",
     "start_time": "2022-04-07T07:13:26.040391Z"
    }
   },
   "outputs": [
    {
     "data": {
      "text/plain": [
       "10+ years    262753\n",
       "2 years       72358\n",
       "< 1 year      64237\n",
       "3 years       64152\n",
       "1 year        52489\n",
       "5 years       50102\n",
       "4 years       47985\n",
       "6 years       37254\n",
       "8 years       36192\n",
       "7 years       35407\n",
       "9 years       30272\n",
       "Name: employmentLength, dtype: int64"
      ]
     },
     "execution_count": 38,
     "metadata": {},
     "output_type": "execute_result"
    }
   ],
   "source": [
    "data_train['employmentLength'].value_counts()"
   ]
  },
  {
   "cell_type": "code",
   "execution_count": 39,
   "id": "1d55d9fe",
   "metadata": {
    "ExecuteTime": {
     "end_time": "2022-04-07T07:13:26.157172Z",
     "start_time": "2022-04-07T07:13:26.099155Z"
    }
   },
   "outputs": [
    {
     "data": {
      "text/plain": [
       "2016-03-01    29066\n",
       "2015-10-01    25525\n",
       "2015-07-01    24496\n",
       "2015-12-01    23245\n",
       "2014-10-01    21461\n",
       "              ...  \n",
       "2007-08-01       23\n",
       "2007-07-01       21\n",
       "2008-09-01       19\n",
       "2007-09-01        7\n",
       "2007-06-01        1\n",
       "Name: issueDate, Length: 139, dtype: int64"
      ]
     },
     "execution_count": 39,
     "metadata": {},
     "output_type": "execute_result"
    }
   ],
   "source": [
    "data_train['issueDate'].value_counts()"
   ]
  },
  {
   "cell_type": "code",
   "execution_count": 40,
   "id": "d18f616e",
   "metadata": {
    "ExecuteTime": {
     "end_time": "2022-04-07T07:13:26.217188Z",
     "start_time": "2022-04-07T07:13:26.159167Z"
    }
   },
   "outputs": [
    {
     "data": {
      "text/plain": [
       "Aug-2001    5567\n",
       "Sep-2003    5403\n",
       "Aug-2002    5403\n",
       "Oct-2001    5258\n",
       "Aug-2000    5246\n",
       "            ... \n",
       "Feb-1960       1\n",
       "Sep-1957       1\n",
       "Jul-1955       1\n",
       "May-1960       1\n",
       "Jan-1946       1\n",
       "Name: earliesCreditLine, Length: 720, dtype: int64"
      ]
     },
     "execution_count": 40,
     "metadata": {},
     "output_type": "execute_result"
    }
   ],
   "source": [
    "data_train['earliesCreditLine'].value_counts()"
   ]
  },
  {
   "cell_type": "code",
   "execution_count": 43,
   "id": "79b0c0c5",
   "metadata": {
    "ExecuteTime": {
     "end_time": "2022-04-07T07:15:23.513312Z",
     "start_time": "2022-04-07T07:15:23.494966Z"
    }
   },
   "outputs": [
    {
     "data": {
      "text/plain": [
       "0    640390\n",
       "1    159610\n",
       "Name: isDefault, dtype: int64"
      ]
     },
     "execution_count": 43,
     "metadata": {},
     "output_type": "execute_result"
    }
   ],
   "source": [
    "data_train['isDefault'].value_counts()"
   ]
  },
  {
   "cell_type": "markdown",
   "id": "0f06a1f9",
   "metadata": {},
   "source": [
    "# 特征分析及转换"
   ]
  },
  {
   "cell_type": "code",
   "execution_count": 74,
   "id": "2004ee3c",
   "metadata": {
    "ExecuteTime": {
     "end_time": "2022-04-07T07:42:21.921891Z",
     "start_time": "2022-04-07T07:42:18.042417Z"
    }
   },
   "outputs": [],
   "source": [
    "data_train =pd.read_csv('train.csv')\n",
    "data_test_a = pd.read_csv('testA.csv')"
   ]
  },
  {
   "cell_type": "code",
   "execution_count": 75,
   "id": "41918be3",
   "metadata": {
    "ExecuteTime": {
     "end_time": "2022-04-07T07:42:22.014986Z",
     "start_time": "2022-04-07T07:42:21.921891Z"
    }
   },
   "outputs": [],
   "source": [
    "# 特征预处理\n",
    "numerical_fea = list(data_train.select_dtypes(exclude=['object']).columns)\n",
    "category_fea = list(filter(lambda x: x not in numerical_fea,list(data_train.columns)))\n",
    "label = 'isDefault'\n",
    "numerical_fea.remove(label)"
   ]
  },
  {
   "cell_type": "code",
   "execution_count": 76,
   "id": "824241b0",
   "metadata": {
    "ExecuteTime": {
     "end_time": "2022-04-07T07:42:22.029989Z",
     "start_time": "2022-04-07T07:42:22.016987Z"
    }
   },
   "outputs": [
    {
     "data": {
      "text/plain": [
       "['id',\n",
       " 'loanAmnt',\n",
       " 'term',\n",
       " 'interestRate',\n",
       " 'installment',\n",
       " 'employmentTitle',\n",
       " 'homeOwnership',\n",
       " 'annualIncome',\n",
       " 'verificationStatus',\n",
       " 'purpose',\n",
       " 'postCode',\n",
       " 'regionCode',\n",
       " 'dti',\n",
       " 'delinquency_2years',\n",
       " 'ficoRangeLow',\n",
       " 'ficoRangeHigh',\n",
       " 'openAcc',\n",
       " 'pubRec',\n",
       " 'pubRecBankruptcies',\n",
       " 'revolBal',\n",
       " 'revolUtil',\n",
       " 'totalAcc',\n",
       " 'initialListStatus',\n",
       " 'applicationType',\n",
       " 'title',\n",
       " 'policyCode',\n",
       " 'n0',\n",
       " 'n1',\n",
       " 'n2',\n",
       " 'n3',\n",
       " 'n4',\n",
       " 'n5',\n",
       " 'n6',\n",
       " 'n7',\n",
       " 'n8',\n",
       " 'n9',\n",
       " 'n10',\n",
       " 'n11',\n",
       " 'n12',\n",
       " 'n13',\n",
       " 'n14']"
      ]
     },
     "execution_count": 76,
     "metadata": {},
     "output_type": "execute_result"
    }
   ],
   "source": [
    "numerical_fea"
   ]
  },
  {
   "cell_type": "code",
   "execution_count": 77,
   "id": "00cc13dd",
   "metadata": {
    "ExecuteTime": {
     "end_time": "2022-04-07T07:42:22.222752Z",
     "start_time": "2022-04-07T07:42:22.032718Z"
    }
   },
   "outputs": [
    {
     "data": {
      "text/plain": [
       "id                        0\n",
       "loanAmnt                  0\n",
       "term                      0\n",
       "interestRate              0\n",
       "installment               0\n",
       "grade                     0\n",
       "subGrade                  0\n",
       "employmentTitle           1\n",
       "employmentLength      46799\n",
       "homeOwnership             0\n",
       "annualIncome              0\n",
       "verificationStatus        0\n",
       "issueDate                 0\n",
       "isDefault                 0\n",
       "purpose                   0\n",
       "postCode                  1\n",
       "regionCode                0\n",
       "dti                     239\n",
       "delinquency_2years        0\n",
       "ficoRangeLow              0\n",
       "ficoRangeHigh             0\n",
       "openAcc                   0\n",
       "pubRec                    0\n",
       "pubRecBankruptcies      405\n",
       "revolBal                  0\n",
       "revolUtil               531\n",
       "totalAcc                  0\n",
       "initialListStatus         0\n",
       "applicationType           0\n",
       "earliesCreditLine         0\n",
       "title                     1\n",
       "policyCode                0\n",
       "n0                    40270\n",
       "n1                    40270\n",
       "n2                    40270\n",
       "n3                    40270\n",
       "n4                    33239\n",
       "n5                    40270\n",
       "n6                    40270\n",
       "n7                    40270\n",
       "n8                    40271\n",
       "n9                    40270\n",
       "n10                   33239\n",
       "n11                   69752\n",
       "n12                   40270\n",
       "n13                   40270\n",
       "n14                   40270\n",
       "dtype: int64"
      ]
     },
     "execution_count": 77,
     "metadata": {},
     "output_type": "execute_result"
    }
   ],
   "source": [
    "# 缺失值填充\n",
    "data_train.isnull().sum()"
   ]
  },
  {
   "cell_type": "code",
   "execution_count": 78,
   "id": "b0c7df77",
   "metadata": {
    "ExecuteTime": {
     "end_time": "2022-04-07T07:42:24.545367Z",
     "start_time": "2022-04-07T07:42:22.223736Z"
    }
   },
   "outputs": [],
   "source": [
    "#按照平均数填充数值型特征\n",
    "data_train[numerical_fea] = data_train[numerical_fea].fillna(data_train[numerical_fea].median())\n",
    "data_test_a[numerical_fea] = data_test_a[numerical_fea].fillna(data_train[numerical_fea].median())\n",
    "#按照众数填充类别型特征\n",
    "data_train[category_fea] = data_train[category_fea].fillna(data_train[category_fea].mode())\n",
    "data_test_a[category_fea] = data_test_a[category_fea].fillna(data_train[category_fea].mode())"
   ]
  },
  {
   "cell_type": "code",
   "execution_count": 79,
   "id": "5c77c6c7",
   "metadata": {
    "ExecuteTime": {
     "end_time": "2022-04-07T07:42:24.725696Z",
     "start_time": "2022-04-07T07:42:24.547562Z"
    }
   },
   "outputs": [
    {
     "data": {
      "text/plain": [
       "id                        0\n",
       "loanAmnt                  0\n",
       "term                      0\n",
       "interestRate              0\n",
       "installment               0\n",
       "grade                     0\n",
       "subGrade                  0\n",
       "employmentTitle           0\n",
       "employmentLength      46799\n",
       "homeOwnership             0\n",
       "annualIncome              0\n",
       "verificationStatus        0\n",
       "issueDate                 0\n",
       "isDefault                 0\n",
       "purpose                   0\n",
       "postCode                  0\n",
       "regionCode                0\n",
       "dti                       0\n",
       "delinquency_2years        0\n",
       "ficoRangeLow              0\n",
       "ficoRangeHigh             0\n",
       "openAcc                   0\n",
       "pubRec                    0\n",
       "pubRecBankruptcies        0\n",
       "revolBal                  0\n",
       "revolUtil                 0\n",
       "totalAcc                  0\n",
       "initialListStatus         0\n",
       "applicationType           0\n",
       "earliesCreditLine         0\n",
       "title                     0\n",
       "policyCode                0\n",
       "n0                        0\n",
       "n1                        0\n",
       "n2                        0\n",
       "n3                        0\n",
       "n4                        0\n",
       "n5                        0\n",
       "n6                        0\n",
       "n7                        0\n",
       "n8                        0\n",
       "n9                        0\n",
       "n10                       0\n",
       "n11                       0\n",
       "n12                       0\n",
       "n13                       0\n",
       "n14                       0\n",
       "dtype: int64"
      ]
     },
     "execution_count": 79,
     "metadata": {},
     "output_type": "execute_result"
    }
   ],
   "source": [
    "data_train.isnull().sum()"
   ]
  },
  {
   "cell_type": "code",
   "execution_count": 80,
   "id": "1fa7c770",
   "metadata": {
    "ExecuteTime": {
     "end_time": "2022-04-07T07:42:24.736112Z",
     "start_time": "2022-04-07T07:42:24.728688Z"
    }
   },
   "outputs": [
    {
     "data": {
      "text/plain": [
       "['id',\n",
       " 'loanAmnt',\n",
       " 'term',\n",
       " 'interestRate',\n",
       " 'installment',\n",
       " 'employmentTitle',\n",
       " 'homeOwnership',\n",
       " 'annualIncome',\n",
       " 'verificationStatus',\n",
       " 'purpose',\n",
       " 'postCode',\n",
       " 'regionCode',\n",
       " 'dti',\n",
       " 'delinquency_2years',\n",
       " 'ficoRangeLow',\n",
       " 'ficoRangeHigh',\n",
       " 'openAcc',\n",
       " 'pubRec',\n",
       " 'pubRecBankruptcies',\n",
       " 'revolBal',\n",
       " 'revolUtil',\n",
       " 'totalAcc',\n",
       " 'initialListStatus',\n",
       " 'applicationType',\n",
       " 'title',\n",
       " 'policyCode',\n",
       " 'n0',\n",
       " 'n1',\n",
       " 'n2',\n",
       " 'n3',\n",
       " 'n4',\n",
       " 'n5',\n",
       " 'n6',\n",
       " 'n7',\n",
       " 'n8',\n",
       " 'n9',\n",
       " 'n10',\n",
       " 'n11',\n",
       " 'n12',\n",
       " 'n13',\n",
       " 'n14']"
      ]
     },
     "execution_count": 80,
     "metadata": {},
     "output_type": "execute_result"
    }
   ],
   "source": [
    "#查看数值特征\n",
    "numerical_fea"
   ]
  },
  {
   "cell_type": "code",
   "execution_count": 81,
   "id": "26aabd4d",
   "metadata": {
    "ExecuteTime": {
     "end_time": "2022-04-07T07:42:24.751548Z",
     "start_time": "2022-04-07T07:42:24.736628Z"
    }
   },
   "outputs": [
    {
     "data": {
      "text/plain": [
       "['grade', 'subGrade', 'employmentLength', 'issueDate', 'earliesCreditLine']"
      ]
     },
     "execution_count": 81,
     "metadata": {},
     "output_type": "execute_result"
    }
   ],
   "source": [
    "#查看类别特征\n",
    "category_fea"
   ]
  },
  {
   "cell_type": "code",
   "execution_count": 82,
   "id": "2dd6f479",
   "metadata": {
    "ExecuteTime": {
     "end_time": "2022-04-07T07:42:24.833074Z",
     "start_time": "2022-04-07T07:42:24.753554Z"
    }
   },
   "outputs": [
    {
     "data": {
      "text/plain": [
       "('2007-06-01', '2018-12-01')"
      ]
     },
     "execution_count": 82,
     "metadata": {},
     "output_type": "execute_result"
    }
   ],
   "source": [
    "data_train['issueDate'].min(),data_train['issueDate'].max()"
   ]
  },
  {
   "cell_type": "code",
   "execution_count": 83,
   "id": "0104fa8e",
   "metadata": {
    "ExecuteTime": {
     "end_time": "2022-04-07T07:42:36.837054Z",
     "start_time": "2022-04-07T07:42:24.835075Z"
    }
   },
   "outputs": [],
   "source": [
    "# 时间格式处理\n",
    "#转化成时间格式\n",
    "for data in [data_train, data_test_a]:\n",
    "\tdata['issueDate'] = pd.to_datetime(data['issueDate'],format='%Y-%m-%d')\n",
    "\tstartdate = datetime.datetime.strptime('2007-06-01', '%Y-%m-%d')\n",
    "\t#构造时间特征\n",
    "\tdata['issueDateDT'] = data['issueDate'].apply(lambda x: x-startdate).dt.days"
   ]
  },
  {
   "cell_type": "code",
   "execution_count": 84,
   "id": "24aa1e68",
   "metadata": {
    "ExecuteTime": {
     "end_time": "2022-04-07T07:42:36.895804Z",
     "start_time": "2022-04-07T07:42:36.838105Z"
    }
   },
   "outputs": [
    {
     "data": {
      "text/plain": [
       "1 year        52489\n",
       "10+ years    262753\n",
       "2 years       72358\n",
       "3 years       64152\n",
       "4 years       47985\n",
       "5 years       50102\n",
       "6 years       37254\n",
       "7 years       35407\n",
       "8 years       36192\n",
       "9 years       30272\n",
       "< 1 year      64237\n",
       "NaN           46799\n",
       "Name: employmentLength, dtype: int64"
      ]
     },
     "execution_count": 84,
     "metadata": {},
     "output_type": "execute_result"
    }
   ],
   "source": [
    "data_train['employmentLength'].value_counts(dropna=False).sort_index()"
   ]
  },
  {
   "cell_type": "code",
   "execution_count": 85,
   "id": "7c007a63",
   "metadata": {
    "ExecuteTime": {
     "end_time": "2022-04-07T07:42:38.239822Z",
     "start_time": "2022-04-07T07:42:36.898967Z"
    }
   },
   "outputs": [
    {
     "data": {
      "text/plain": [
       "0.0     15989\n",
       "1.0     13182\n",
       "2.0     18207\n",
       "3.0     16011\n",
       "4.0     11833\n",
       "5.0     12543\n",
       "6.0      9328\n",
       "7.0      8823\n",
       "8.0      8976\n",
       "9.0      7594\n",
       "10.0    65772\n",
       "NaN     11742\n",
       "Name: employmentLength, dtype: int64"
      ]
     },
     "execution_count": 85,
     "metadata": {},
     "output_type": "execute_result"
    }
   ],
   "source": [
    "# 对象类型特征转换到数值\n",
    "def employmentLength_to_int(s):\n",
    "\tif pd.isnull(s):\n",
    "\t\treturn s\n",
    "\telse:\n",
    "\t\treturn np.int8(s.split()[0])\n",
    "    \n",
    "for data in [data_train, data_test_a]:\n",
    "\tdata['employmentLength'].replace(to_replace='10+ years', value='10 years', inplace=True)\n",
    "\tdata['employmentLength'].replace('< 1 year', '0 years', inplace=True)\n",
    "\tdata['employmentLength'] = data['employmentLength'].apply(employmentLength_to_int)\n",
    "\n",
    "data['employmentLength'].value_counts(dropna=False).sort_index()"
   ]
  },
  {
   "cell_type": "code",
   "execution_count": 86,
   "id": "d2ad8666",
   "metadata": {
    "ExecuteTime": {
     "end_time": "2022-04-07T07:42:38.255127Z",
     "start_time": "2022-04-07T07:42:38.242136Z"
    }
   },
   "outputs": [
    {
     "data": {
      "text/plain": [
       "0    Aug-2001\n",
       "1    May-2002\n",
       "2    May-2006\n",
       "3    May-1999\n",
       "4    Aug-1977\n",
       "Name: earliesCreditLine, dtype: object"
      ]
     },
     "execution_count": 86,
     "metadata": {},
     "output_type": "execute_result"
    }
   ],
   "source": [
    "# 对earliesCreditLine进行预处理\n",
    "data_train['earliesCreditLine'].head(5)"
   ]
  },
  {
   "cell_type": "code",
   "execution_count": 87,
   "id": "76995656",
   "metadata": {
    "ExecuteTime": {
     "end_time": "2022-04-07T07:42:38.746971Z",
     "start_time": "2022-04-07T07:42:38.257126Z"
    }
   },
   "outputs": [],
   "source": [
    "for data in [data_train, data_test_a]:\n",
    "\tdata['earliesCreditLine'] = data['earliesCreditLine'].apply(lambda s: int(s[-4:]))"
   ]
  },
  {
   "cell_type": "code",
   "execution_count": 88,
   "id": "f2f4a79e",
   "metadata": {
    "ExecuteTime": {
     "end_time": "2022-04-07T07:42:38.758404Z",
     "start_time": "2022-04-07T07:42:38.748492Z"
    }
   },
   "outputs": [
    {
     "data": {
      "text/plain": [
       "0    2001\n",
       "1    2002\n",
       "2    2006\n",
       "3    1999\n",
       "4    1977\n",
       "Name: earliesCreditLine, dtype: int64"
      ]
     },
     "execution_count": 88,
     "metadata": {},
     "output_type": "execute_result"
    }
   ],
   "source": [
    "# 查看处理后的结果\n",
    "data_train['earliesCreditLine'].head(5)"
   ]
  },
  {
   "cell_type": "code",
   "execution_count": 89,
   "id": "8670a3cb",
   "metadata": {
    "ExecuteTime": {
     "end_time": "2022-04-07T07:43:19.703106Z",
     "start_time": "2022-04-07T07:43:19.697096Z"
    }
   },
   "outputs": [
    {
     "data": {
      "text/plain": [
       "['grade', 'subGrade', 'employmentLength', 'issueDate', 'earliesCreditLine']"
      ]
     },
     "execution_count": 89,
     "metadata": {},
     "output_type": "execute_result"
    }
   ],
   "source": [
    "category_fea"
   ]
  },
  {
   "cell_type": "code",
   "execution_count": 90,
   "id": "5927e5d1",
   "metadata": {
    "ExecuteTime": {
     "end_time": "2022-04-07T07:46:06.185719Z",
     "start_time": "2022-04-07T07:46:05.141983Z"
    }
   },
   "outputs": [
    {
     "name": "stdout",
     "output_type": "stream",
     "text": [
      "grade 类型数： 7\n",
      "subGrade 类型数： 35\n",
      "employmentTitle 类型数： 79282\n",
      "homeOwnership 类型数： 6\n",
      "verificationStatus 类型数： 3\n",
      "purpose 类型数： 14\n",
      "postCode 类型数： 889\n",
      "regionCode 类型数： 51\n",
      "applicationType 类型数： 2\n",
      "initialListStatus 类型数： 2\n",
      "title 类型数： 12058\n",
      "policyCode 类型数： 1\n"
     ]
    }
   ],
   "source": [
    "# 类别特征处理\n",
    "cate_features = ['grade', 'subGrade', 'employmentTitle', 'homeOwnership', 'verificationStatus', 'purpose', 'postCode', 'regionCode', 'applicationType', 'initialListStatus', 'title', 'policyCode']\n",
    "for f in cate_features:\n",
    "    print(f, '类型数：', data[f].nunique())\n",
    "\n",
    "for data in [data_train, data_test_a]:\n",
    "    data['grade'] = data['grade'].map({'A':1,'B':2,'C':3,'D':4,'E':5,'F':6,'G':7})\n",
    "\n",
    "# 类型数在2之上，又不是高维稀疏的,且纯分类特征\n",
    "for data in [data_train, data_test_a]:\n",
    "    data = pd.get_dummies(data, columns=['subGrade', 'homeOwnership', 'verificationStatus','purpose', 'regionCode'], drop_first=True)"
   ]
  },
  {
   "cell_type": "code",
   "execution_count": 91,
   "id": "aa3e87ed",
   "metadata": {
    "ExecuteTime": {
     "end_time": "2022-04-07T07:50:11.218863Z",
     "start_time": "2022-04-07T07:50:11.206858Z"
    }
   },
   "outputs": [],
   "source": [
    "# 异常值处理\n",
    "# 检测异常的方法：均方差\n",
    "def find_outliers_by_3segama(data,fea):\n",
    "\tdata_std = np.std(data[fea])\n",
    "\tdata_mean = np.mean(data[fea])\n",
    "\toutliers_cut_off = data_std * 3\n",
    "\tlower_rule = data_mean - outliers_cut_off\n",
    "\tupper_rule = data_mean + outliers_cut_off\n",
    "\tdata[fea+'_outliers'] = data[fea].apply(lambda x:str('异常值') if x > upper_rule or x <\n",
    "\tlower_rule else '正常值')\n",
    "\treturn data"
   ]
  },
  {
   "cell_type": "code",
   "execution_count": 92,
   "id": "5f82d9a2",
   "metadata": {
    "ExecuteTime": {
     "end_time": "2022-04-07T07:50:33.397985Z",
     "start_time": "2022-04-07T07:50:20.427240Z"
    }
   },
   "outputs": [
    {
     "name": "stdout",
     "output_type": "stream",
     "text": [
      "正常值    800000\n",
      "Name: id_outliers, dtype: int64\n",
      "id_outliers\n",
      "正常值    159610\n",
      "Name: isDefault, dtype: int64\n",
      "**********\n",
      "正常值    800000\n",
      "Name: loanAmnt_outliers, dtype: int64\n",
      "loanAmnt_outliers\n",
      "正常值    159610\n",
      "Name: isDefault, dtype: int64\n",
      "**********\n",
      "正常值    800000\n",
      "Name: term_outliers, dtype: int64\n",
      "term_outliers\n",
      "正常值    159610\n",
      "Name: isDefault, dtype: int64\n",
      "**********\n",
      "正常值    794259\n",
      "异常值      5741\n",
      "Name: interestRate_outliers, dtype: int64\n",
      "interestRate_outliers\n",
      "异常值      2916\n",
      "正常值    156694\n",
      "Name: isDefault, dtype: int64\n",
      "**********\n",
      "正常值    792046\n",
      "异常值      7954\n",
      "Name: installment_outliers, dtype: int64\n",
      "installment_outliers\n",
      "异常值      2152\n",
      "正常值    157458\n",
      "Name: isDefault, dtype: int64\n",
      "**********\n",
      "正常值    800000\n",
      "Name: employmentTitle_outliers, dtype: int64\n",
      "employmentTitle_outliers\n",
      "正常值    159610\n",
      "Name: isDefault, dtype: int64\n",
      "**********\n",
      "正常值    799701\n",
      "异常值       299\n",
      "Name: homeOwnership_outliers, dtype: int64\n",
      "homeOwnership_outliers\n",
      "异常值        62\n",
      "正常值    159548\n",
      "Name: isDefault, dtype: int64\n",
      "**********\n",
      "正常值    793973\n",
      "异常值      6027\n",
      "Name: annualIncome_outliers, dtype: int64\n",
      "annualIncome_outliers\n",
      "异常值       756\n",
      "正常值    158854\n",
      "Name: isDefault, dtype: int64\n",
      "**********\n",
      "正常值    800000\n",
      "Name: verificationStatus_outliers, dtype: int64\n",
      "verificationStatus_outliers\n",
      "正常值    159610\n",
      "Name: isDefault, dtype: int64\n",
      "**********\n",
      "正常值    783003\n",
      "异常值     16997\n",
      "Name: purpose_outliers, dtype: int64\n",
      "purpose_outliers\n",
      "异常值      3635\n",
      "正常值    155975\n",
      "Name: isDefault, dtype: int64\n",
      "**********\n",
      "正常值    798931\n",
      "异常值      1069\n",
      "Name: postCode_outliers, dtype: int64\n",
      "postCode_outliers\n",
      "异常值       221\n",
      "正常值    159389\n",
      "Name: isDefault, dtype: int64\n",
      "**********\n",
      "正常值    799994\n",
      "异常值         6\n",
      "Name: regionCode_outliers, dtype: int64\n",
      "regionCode_outliers\n",
      "异常值         1\n",
      "正常值    159609\n",
      "Name: isDefault, dtype: int64\n",
      "**********\n",
      "正常值    798440\n",
      "异常值      1560\n",
      "Name: dti_outliers, dtype: int64\n",
      "dti_outliers\n",
      "异常值       466\n",
      "正常值    159144\n",
      "Name: isDefault, dtype: int64\n",
      "**********\n",
      "正常值    778245\n",
      "异常值     21755\n",
      "Name: delinquency_2years_outliers, dtype: int64\n",
      "delinquency_2years_outliers\n",
      "异常值      5089\n",
      "正常值    154521\n",
      "Name: isDefault, dtype: int64\n",
      "**********\n",
      "正常值    788261\n",
      "异常值     11739\n",
      "Name: ficoRangeLow_outliers, dtype: int64\n",
      "ficoRangeLow_outliers\n",
      "异常值       778\n",
      "正常值    158832\n",
      "Name: isDefault, dtype: int64\n",
      "**********\n",
      "正常值    788261\n",
      "异常值     11739\n",
      "Name: ficoRangeHigh_outliers, dtype: int64\n",
      "ficoRangeHigh_outliers\n",
      "异常值       778\n",
      "正常值    158832\n",
      "Name: isDefault, dtype: int64\n",
      "**********\n",
      "正常值    790889\n",
      "异常值      9111\n",
      "Name: openAcc_outliers, dtype: int64\n",
      "openAcc_outliers\n",
      "异常值      2195\n",
      "正常值    157415\n",
      "Name: isDefault, dtype: int64\n",
      "**********\n",
      "正常值    792471\n",
      "异常值      7529\n",
      "Name: pubRec_outliers, dtype: int64\n",
      "pubRec_outliers\n",
      "异常值      1701\n",
      "正常值    157909\n",
      "Name: isDefault, dtype: int64\n",
      "**********\n",
      "正常值    794120\n",
      "异常值      5880\n",
      "Name: pubRecBankruptcies_outliers, dtype: int64\n",
      "pubRecBankruptcies_outliers\n",
      "异常值      1423\n",
      "正常值    158187\n",
      "Name: isDefault, dtype: int64\n",
      "**********\n",
      "正常值    790001\n",
      "异常值      9999\n",
      "Name: revolBal_outliers, dtype: int64\n",
      "revolBal_outliers\n",
      "异常值      1359\n",
      "正常值    158251\n",
      "Name: isDefault, dtype: int64\n",
      "**********\n",
      "正常值    799948\n",
      "异常值        52\n",
      "Name: revolUtil_outliers, dtype: int64\n",
      "revolUtil_outliers\n",
      "异常值        23\n",
      "正常值    159587\n",
      "Name: isDefault, dtype: int64\n",
      "**********\n",
      "正常值    791663\n",
      "异常值      8337\n",
      "Name: totalAcc_outliers, dtype: int64\n",
      "totalAcc_outliers\n",
      "异常值      1668\n",
      "正常值    157942\n",
      "Name: isDefault, dtype: int64\n",
      "**********\n",
      "正常值    800000\n",
      "Name: initialListStatus_outliers, dtype: int64\n",
      "initialListStatus_outliers\n",
      "正常值    159610\n",
      "Name: isDefault, dtype: int64\n",
      "**********\n",
      "正常值    784586\n",
      "异常值     15414\n",
      "Name: applicationType_outliers, dtype: int64\n",
      "applicationType_outliers\n",
      "异常值      3875\n",
      "正常值    155735\n",
      "Name: isDefault, dtype: int64\n",
      "**********\n",
      "正常值    775134\n",
      "异常值     24866\n",
      "Name: title_outliers, dtype: int64\n",
      "title_outliers\n",
      "异常值      3900\n",
      "正常值    155710\n",
      "Name: isDefault, dtype: int64\n",
      "**********\n",
      "正常值    800000\n",
      "Name: policyCode_outliers, dtype: int64\n",
      "policyCode_outliers\n",
      "正常值    159610\n",
      "Name: isDefault, dtype: int64\n",
      "**********\n",
      "正常值    782773\n",
      "异常值     17227\n",
      "Name: n0_outliers, dtype: int64\n",
      "n0_outliers\n",
      "异常值      3485\n",
      "正常值    156125\n",
      "Name: isDefault, dtype: int64\n",
      "**********\n",
      "正常值    790500\n",
      "异常值      9500\n",
      "Name: n1_outliers, dtype: int64\n",
      "n1_outliers\n",
      "异常值      2491\n",
      "正常值    157119\n",
      "Name: isDefault, dtype: int64\n",
      "**********\n",
      "正常值    789067\n",
      "异常值     10933\n",
      "Name: n2_outliers, dtype: int64\n",
      "n2_outliers\n",
      "异常值      3205\n",
      "正常值    156405\n",
      "Name: isDefault, dtype: int64\n",
      "**********\n",
      "正常值    789067\n",
      "异常值     10933\n",
      "Name: n3_outliers, dtype: int64\n",
      "n3_outliers\n",
      "异常值      3205\n",
      "正常值    156405\n",
      "Name: isDefault, dtype: int64\n",
      "**********\n",
      "正常值    788660\n",
      "异常值     11340\n",
      "Name: n4_outliers, dtype: int64\n",
      "n4_outliers\n",
      "异常值      2476\n",
      "正常值    157134\n",
      "Name: isDefault, dtype: int64\n",
      "**********\n",
      "正常值    790355\n",
      "异常值      9645\n",
      "Name: n5_outliers, dtype: int64\n",
      "n5_outliers\n",
      "异常值      1858\n",
      "正常值    157752\n",
      "Name: isDefault, dtype: int64\n",
      "**********\n",
      "正常值    786006\n",
      "异常值     13994\n",
      "Name: n6_outliers, dtype: int64\n",
      "n6_outliers\n",
      "异常值      3182\n",
      "正常值    156428\n",
      "Name: isDefault, dtype: int64\n",
      "**********\n",
      "正常值    788430\n",
      "异常值     11570\n",
      "Name: n7_outliers, dtype: int64\n",
      "n7_outliers\n",
      "异常值      2746\n",
      "正常值    156864\n",
      "Name: isDefault, dtype: int64\n",
      "**********\n",
      "正常值    789625\n",
      "异常值     10375\n",
      "Name: n8_outliers, dtype: int64\n",
      "n8_outliers\n",
      "异常值      2131\n",
      "正常值    157479\n",
      "Name: isDefault, dtype: int64\n",
      "**********\n",
      "正常值    786384\n",
      "异常值     13616\n",
      "Name: n9_outliers, dtype: int64\n",
      "n9_outliers\n",
      "异常值      3953\n",
      "正常值    155657\n",
      "Name: isDefault, dtype: int64\n",
      "**********\n",
      "正常值    788979\n",
      "异常值     11021\n",
      "Name: n10_outliers, dtype: int64\n",
      "n10_outliers\n",
      "异常值      2639\n",
      "正常值    156971\n",
      "Name: isDefault, dtype: int64\n",
      "**********\n",
      "正常值    799434\n",
      "异常值       566\n",
      "Name: n11_outliers, dtype: int64\n",
      "n11_outliers\n",
      "异常值       112\n",
      "正常值    159498\n",
      "Name: isDefault, dtype: int64\n",
      "**********\n",
      "正常值    797585\n",
      "异常值      2415\n",
      "Name: n12_outliers, dtype: int64\n",
      "n12_outliers\n",
      "异常值       545\n",
      "正常值    159065\n",
      "Name: isDefault, dtype: int64\n",
      "**********\n",
      "正常值    788907\n",
      "异常值     11093\n",
      "Name: n13_outliers, dtype: int64\n",
      "n13_outliers\n",
      "异常值      2482\n",
      "正常值    157128\n",
      "Name: isDefault, dtype: int64\n",
      "**********\n",
      "正常值    788884\n",
      "异常值     11116\n",
      "Name: n14_outliers, dtype: int64\n",
      "n14_outliers\n",
      "异常值      3364\n",
      "正常值    156246\n",
      "Name: isDefault, dtype: int64\n",
      "**********\n"
     ]
    }
   ],
   "source": [
    "data_train = data_train.copy()\n",
    "for fea in numerical_fea:\n",
    "\tdata_train = find_outliers_by_3segama(data_train,fea)\n",
    "\tprint(data_train[fea+'_outliers'].value_counts())\n",
    "\tprint(data_train.groupby(fea+'_outliers')['isDefault'].sum())\n",
    "\tprint('*'*10)"
   ]
  },
  {
   "cell_type": "code",
   "execution_count": 105,
   "id": "0ea63a53",
   "metadata": {
    "ExecuteTime": {
     "end_time": "2022-04-07T11:06:37.435680Z",
     "start_time": "2022-04-07T11:06:37.296582Z"
    }
   },
   "outputs": [],
   "source": [
    "# 特征交叉\n",
    "for col in ['grade', 'subGrade']:\n",
    "\ttemp_dict = data_train.groupby([col])['isDefault'].agg(['mean']).reset_index().rename(columns={'mean': col + '_target_mean'})\n",
    "\ttemp_dict.index = temp_dict[col].values\n",
    "\ttemp_dict = temp_dict[col + '_target_mean'].to_dict()\n",
    "\tdata_train[col + '_target_mean'] = data_train[col].map(temp_dict)\n",
    "\tdata_test_a[col + '_target_mean'] = data_test_a[col].map(temp_dict)"
   ]
  },
  {
   "cell_type": "code",
   "execution_count": null,
   "id": "8b46627a",
   "metadata": {},
   "outputs": [],
   "source": [
    "'''\n",
    "#包括离散型特征（类别特征）和连续性特征的一阶交叉\n",
    "//定义离散型特征和连续型特征\n",
    "col_cat = ['subGrade', 'grade', 'employmentLength', 'term', 'homeOwnership', 'postCode', 'regionCode','employmentTitle','title']\n",
    "col_num = ['dti', 'revolBal','revolUtil', 'ficoRangeHigh', 'interestRate', 'loanAmnt', 'installment', 'annualIncome', 'n14',\n",
    "             'n2', 'n6', 'n9', 'n5', 'n8']\n",
    "             \n",
    "# 定义离散型特征和连续型特征交叉特征统计函数\n",
    "def cross_cat_num(df, num_col, cat_col):\n",
    "    for f1 in tqdm(cat_col):\n",
    "        g = df.groupby(f1, as_index=False)\n",
    "        for f2 in tqdm(num_col):\n",
    "            feat = g[f2].agg({\n",
    "                '{}_{}_max'.format(f1, f2): 'max', '{}_{}_min'.format(f1, f2): 'min',\n",
    "                '{}_{}_median'.format(f1, f2): 'median',\n",
    "            })\n",
    "            df = df.merge(feat, on=f1, how='left')\n",
    "    return (df)\n",
    "    \n",
    "data = cross_cat_num(data, col_num, col_cat)  # 一阶交叉\n",
    "print('一阶交叉特征处理后：', data.shape)\n",
    "\n",
    "\n",
    "'''"
   ]
  },
  {
   "cell_type": "code",
   "execution_count": null,
   "id": "459cdf5f",
   "metadata": {},
   "outputs": [],
   "source": [
    "'''\n",
    "# 类别特征之间的二阶交叉\n",
    "\n",
    "def cross_qua_cat_num(df):\n",
    "    for f_pair in tqdm([\n",
    "        ['subGrade', 'regionCode'], ['grade', 'regionCode'], ['subGrade', 'postCode'], ['grade', 'postCode'], ['employmentTitle','title'],\n",
    "        ['regionCode','title'], ['postCode','title'], ['homeOwnership','title'], ['homeOwnership','employmentTitle'],['homeOwnership','employmentLength'],\n",
    "        ['regionCode', 'postCode']\n",
    "    ]):\n",
    "        ### 共现次数\n",
    "        df['_'.join(f_pair) + '_count'] = df.groupby(f_pair)['id'].transform('count')\n",
    "        ### n unique、熵\n",
    "        df = df.merge(df.groupby(f_pair[0], as_index=False)[f_pair[1]].agg({\n",
    "            '{}_{}_nunique'.format(f_pair[0], f_pair[1]): 'nunique',\n",
    "            '{}_{}_ent'.format(f_pair[0], f_pair[1]): lambda x: entropy(x.value_counts() / x.shape[0])\n",
    "        }), on=f_pair[0], how='left')\n",
    "        df = df.merge(df.groupby(f_pair[1], as_index=False)[f_pair[0]].agg({\n",
    "            '{}_{}_nunique'.format(f_pair[1], f_pair[0]): 'nunique',\n",
    "            '{}_{}_ent'.format(f_pair[1], f_pair[0]): lambda x: entropy(x.value_counts() / x.shape[0])\n",
    "        }), on=f_pair[1], how='left')\n",
    "        ### 比例偏好\n",
    "        df['{}_in_{}_prop'.format(f_pair[0], f_pair[1])] = df['_'.join(f_pair) + '_count'] / df[f_pair[1] + '_count']\n",
    "        df['{}_in_{}_prop'.format(f_pair[1], f_pair[0])] = df['_'.join(f_pair) + '_count'] / df[f_pair[0] + '_count']\n",
    "    return (df)\n",
    "\n",
    "\n",
    "'''"
   ]
  },
  {
   "cell_type": "code",
   "execution_count": null,
   "id": "056157cf",
   "metadata": {},
   "outputs": [],
   "source": [
    "'''\n",
    "# 针对数据中的n0-n14匿名特征，通过一套组合拳提取暴力特征\n",
    "\n",
    "//求熵\n",
    "def myEntro(x):\n",
    "    \"\"\"\n",
    "        calculate shanno ent of x\n",
    "    \"\"\"\n",
    "    x = np.array(x)\n",
    "    x_value_list = set([x[i] for i in range(x.shape[0])])\n",
    "    ent = 0.0\n",
    "    for x_value in x_value_list:\n",
    "        p = float(x[x == x_value].shape[0]) / x.shape[0]\n",
    "        logp = np.log2(p)\n",
    "        ent -= p * logp\n",
    "    #     print(x_value,p,logp)\n",
    "    # print(ent)\n",
    "    return ent\n",
    "\n",
    "#求均方根\n",
    "def myRms(records):\n",
    "    records = list(records)\n",
    "    \"\"\"\n",
    "    均方根值 反映的是有效值而不是平均值\n",
    "    \"\"\"\n",
    "    return np.math.sqrt(sum([x ** 2 for x in records]) / len(records))\n",
    "\n",
    "//求取众数\n",
    "def myMode(x):\n",
    "    return np.mean(pd.Series.mode(x))\n",
    "    \n",
    "//分别求取10，25，75，90分位值\n",
    "def myQ25(x):\n",
    "    return x.quantile(0.25)\n",
    "    \n",
    "def myQ75(x):\n",
    "    return x.quantile(0.75)\n",
    "\n",
    "def myQ10(x):\n",
    "    return x.quantile(0.1)\n",
    "    \n",
    "def myQ90(x):\n",
    "    return x.quantile(0.9)\n",
    "    \n",
    "//求值的范围\n",
    "def myRange(x):\n",
    "    return pd.Series.max(x) - pd.Series.min(x)\n",
    "\n",
    "n_feat = ['n0', 'n1', 'n2', 'n4', 'n5', 'n6', 'n7', 'n8', 'n9', 'n10', 'n11', 'n12', 'n13', 'n14', ]\n",
    "nameList = ['min', 'max', 'sum', 'mean', 'median', 'skew', 'std', 'mode', 'range', 'Q25','Q75']\n",
    "statList = ['min', 'max', 'sum', 'mean', 'median', 'skew', 'std', myMode, myRange, myQ25, myQ75]\n",
    "\n",
    "for i in range(len(nameList)):\n",
    "\tdata['n_feat_{}'.format(nameList[i])] = data[n_feat].agg(statList[i], axis=1)\n",
    "print('n特征处理后：', data.shape)\n",
    "\n",
    "'''"
   ]
  },
  {
   "cell_type": "code",
   "execution_count": 107,
   "id": "35c112c3",
   "metadata": {
    "ExecuteTime": {
     "end_time": "2022-04-07T11:07:14.530321Z",
     "start_time": "2022-04-07T11:07:14.512701Z"
    }
   },
   "outputs": [
    {
     "data": {
      "text/plain": [
       "Index(['id', 'loanAmnt', 'term', 'interestRate', 'installment', 'grade',\n",
       "       'subGrade', 'employmentTitle', 'employmentLength', 'homeOwnership',\n",
       "       'annualIncome', 'verificationStatus', 'issueDate', 'isDefault',\n",
       "       'purpose', 'postCode', 'regionCode', 'dti', 'delinquency_2years',\n",
       "       'ficoRangeLow', 'ficoRangeHigh', 'openAcc', 'pubRec',\n",
       "       'pubRecBankruptcies', 'revolBal', 'revolUtil', 'totalAcc',\n",
       "       'initialListStatus', 'applicationType', 'earliesCreditLine', 'title',\n",
       "       'policyCode', 'n0', 'n1', 'n2', 'n3', 'n4', 'n5', 'n6', 'n7', 'n8',\n",
       "       'n9', 'n10', 'n11', 'n12', 'n13', 'n14', 'issueDateDT', 'id_outliers',\n",
       "       'loanAmnt_outliers', 'term_outliers', 'interestRate_outliers',\n",
       "       'installment_outliers', 'employmentTitle_outliers',\n",
       "       'homeOwnership_outliers', 'annualIncome_outliers',\n",
       "       'verificationStatus_outliers', 'purpose_outliers', 'postCode_outliers',\n",
       "       'regionCode_outliers', 'dti_outliers', 'delinquency_2years_outliers',\n",
       "       'ficoRangeLow_outliers', 'ficoRangeHigh_outliers', 'openAcc_outliers',\n",
       "       'pubRec_outliers', 'pubRecBankruptcies_outliers', 'revolBal_outliers',\n",
       "       'revolUtil_outliers', 'totalAcc_outliers', 'initialListStatus_outliers',\n",
       "       'applicationType_outliers', 'title_outliers', 'policyCode_outliers',\n",
       "       'n0_outliers', 'n1_outliers', 'n2_outliers', 'n3_outliers',\n",
       "       'n4_outliers', 'n5_outliers', 'n6_outliers', 'n7_outliers',\n",
       "       'n8_outliers', 'n9_outliers', 'n10_outliers', 'n11_outliers',\n",
       "       'n12_outliers', 'n13_outliers', 'n14_outliers', 'grade_target_mean',\n",
       "       'subGrade_target_mean', 'grade_to_mean_n0', 'grade_to_std_n0',\n",
       "       'grade_to_mean_n1', 'grade_to_std_n1', 'grade_to_mean_n2',\n",
       "       'grade_to_std_n2'],\n",
       "      dtype='object')"
      ]
     },
     "execution_count": 107,
     "metadata": {},
     "output_type": "execute_result"
    }
   ],
   "source": [
    "data_train.columns"
   ]
  },
  {
   "cell_type": "code",
   "execution_count": 108,
   "id": "249a6658",
   "metadata": {
    "ExecuteTime": {
     "end_time": "2022-04-07T11:07:44.520192Z",
     "start_time": "2022-04-07T11:07:43.568836Z"
    }
   },
   "outputs": [],
   "source": [
    "# 其他衍生变量 mean 和 std\n",
    "for df in [data_train, data_test_a]:\n",
    "\tfor item in ['n0','n1','n2','n4','n5','n6','n7','n8','n9','n10','n11','n12','n13','n14']:\n",
    "\t\tdf['grade_to_mean_' + item] = df['grade'] / df.groupby([item])['grade'].transform('mean')\n",
    "\t\tdf['grade_to_std_' + item] = df['grade'] / df.groupby([item])['grade'].transform('std')"
   ]
  },
  {
   "cell_type": "code",
   "execution_count": 110,
   "id": "12de4427",
   "metadata": {
    "ExecuteTime": {
     "end_time": "2022-04-07T11:08:13.787096Z",
     "start_time": "2022-04-07T11:08:11.267237Z"
    }
   },
   "outputs": [],
   "source": [
    "import pandas as pd\n",
    "import numpy as np\n",
    "import matplotlib.pyplot as plt\n",
    "import seaborn as sns\n",
    "import datetime\n",
    "from tqdm import tqdm\n",
    "from sklearn.preprocessing import LabelEncoder\n",
    "from sklearn.feature_selection import SelectKBest\n",
    "from sklearn.feature_selection import chi2\n",
    "from sklearn.preprocessing import MinMaxScaler\n",
    "import xgboost as xgb\n",
    "import lightgbm as lgb\n",
    "from catboost import CatBoostRegressor\n",
    "import warnings\n",
    "from sklearn.model_selection import StratifiedKFold, KFold\n",
    "from sklearn.metrics import accuracy_score, f1_score, roc_auc_score, log_loss\n",
    "warnings.filterwarnings('ignore')"
   ]
  },
  {
   "cell_type": "code",
   "execution_count": 111,
   "id": "7e8f461d",
   "metadata": {
    "ExecuteTime": {
     "end_time": "2022-04-07T11:08:20.943462Z",
     "start_time": "2022-04-07T11:08:13.790097Z"
    }
   },
   "outputs": [
    {
     "name": "stderr",
     "output_type": "stream",
     "text": [
      " 25%|█████████████████████                                                               | 1/4 [00:02<00:08,  2.97s/it]"
     ]
    },
    {
     "name": "stdout",
     "output_type": "stream",
     "text": [
      "Label Encoding 完成\n"
     ]
    },
    {
     "name": "stderr",
     "output_type": "stream",
     "text": [
      "\r",
      " 50%|██████████████████████████████████████████                                          | 2/4 [00:04<00:04,  2.20s/it]"
     ]
    },
    {
     "name": "stdout",
     "output_type": "stream",
     "text": [
      "Label Encoding 完成\n"
     ]
    },
    {
     "name": "stderr",
     "output_type": "stream",
     "text": [
      "\r",
      " 75%|███████████████████████████████████████████████████████████████                     | 3/4 [00:06<00:01,  1.97s/it]"
     ]
    },
    {
     "name": "stdout",
     "output_type": "stream",
     "text": [
      "Label Encoding 完成\n"
     ]
    },
    {
     "name": "stderr",
     "output_type": "stream",
     "text": [
      "100%|████████████████████████████████████████████████████████████████████████████████████| 4/4 [00:07<00:00,  1.78s/it]"
     ]
    },
    {
     "name": "stdout",
     "output_type": "stream",
     "text": [
      "Label Encoding 完成\n"
     ]
    },
    {
     "name": "stderr",
     "output_type": "stream",
     "text": [
      "\n"
     ]
    }
   ],
   "source": [
    "# 特征编码\n",
    "# 高维类别特征需要进行转换\n",
    "for col in tqdm(['employmentTitle', 'postCode', 'title','subGrade']):\n",
    "\tle = LabelEncoder()\n",
    "\tle.fit(list(data_train[col].astype(str).values) + \tlist(data_test_a[col].astype(str).values))\n",
    "\tdata_train[col] = le.transform(list(data_train[col].astype(str).values))\n",
    "\tdata_test_a[col] = le.transform(list(data_test_a[col].astype(str).values))\n",
    "\tprint('Label Encoding 完成')"
   ]
  },
  {
   "cell_type": "code",
   "execution_count": 116,
   "id": "b4337360",
   "metadata": {
    "ExecuteTime": {
     "end_time": "2022-04-07T11:16:16.731985Z",
     "start_time": "2022-04-07T11:16:16.718951Z"
    }
   },
   "outputs": [
    {
     "data": {
      "text/plain": [
       "(800000, 119)"
      ]
     },
     "execution_count": 116,
     "metadata": {},
     "output_type": "execute_result"
    }
   ],
   "source": [
    "data_train.shape"
   ]
  },
  {
   "cell_type": "code",
   "execution_count": 117,
   "id": "33c83507",
   "metadata": {
    "ExecuteTime": {
     "end_time": "2022-04-07T11:16:40.311737Z",
     "start_time": "2022-04-07T11:16:40.296660Z"
    }
   },
   "outputs": [
    {
     "data": {
      "text/plain": [
       "['id',\n",
       " 'loanAmnt',\n",
       " 'term',\n",
       " 'interestRate',\n",
       " 'installment',\n",
       " 'grade',\n",
       " 'subGrade',\n",
       " 'employmentTitle',\n",
       " 'employmentLength',\n",
       " 'homeOwnership',\n",
       " 'annualIncome',\n",
       " 'verificationStatus',\n",
       " 'issueDate',\n",
       " 'isDefault',\n",
       " 'purpose',\n",
       " 'postCode',\n",
       " 'regionCode',\n",
       " 'dti',\n",
       " 'delinquency_2years',\n",
       " 'ficoRangeLow',\n",
       " 'ficoRangeHigh',\n",
       " 'openAcc',\n",
       " 'pubRec',\n",
       " 'pubRecBankruptcies',\n",
       " 'revolBal',\n",
       " 'revolUtil',\n",
       " 'totalAcc',\n",
       " 'initialListStatus',\n",
       " 'applicationType',\n",
       " 'earliesCreditLine',\n",
       " 'title',\n",
       " 'policyCode',\n",
       " 'n0',\n",
       " 'n1',\n",
       " 'n2',\n",
       " 'n3',\n",
       " 'n4',\n",
       " 'n5',\n",
       " 'n6',\n",
       " 'n7',\n",
       " 'n8',\n",
       " 'n9',\n",
       " 'n10',\n",
       " 'n11',\n",
       " 'n12',\n",
       " 'n13',\n",
       " 'n14',\n",
       " 'issueDateDT',\n",
       " 'id_outliers',\n",
       " 'loanAmnt_outliers',\n",
       " 'term_outliers',\n",
       " 'interestRate_outliers',\n",
       " 'installment_outliers',\n",
       " 'employmentTitle_outliers',\n",
       " 'homeOwnership_outliers',\n",
       " 'annualIncome_outliers',\n",
       " 'verificationStatus_outliers',\n",
       " 'purpose_outliers',\n",
       " 'postCode_outliers',\n",
       " 'regionCode_outliers',\n",
       " 'dti_outliers',\n",
       " 'delinquency_2years_outliers',\n",
       " 'ficoRangeLow_outliers',\n",
       " 'ficoRangeHigh_outliers',\n",
       " 'openAcc_outliers',\n",
       " 'pubRec_outliers',\n",
       " 'pubRecBankruptcies_outliers',\n",
       " 'revolBal_outliers',\n",
       " 'revolUtil_outliers',\n",
       " 'totalAcc_outliers',\n",
       " 'initialListStatus_outliers',\n",
       " 'applicationType_outliers',\n",
       " 'title_outliers',\n",
       " 'policyCode_outliers',\n",
       " 'n0_outliers',\n",
       " 'n1_outliers',\n",
       " 'n2_outliers',\n",
       " 'n3_outliers',\n",
       " 'n4_outliers',\n",
       " 'n5_outliers',\n",
       " 'n6_outliers',\n",
       " 'n7_outliers',\n",
       " 'n8_outliers',\n",
       " 'n9_outliers',\n",
       " 'n10_outliers',\n",
       " 'n11_outliers',\n",
       " 'n12_outliers',\n",
       " 'n13_outliers',\n",
       " 'n14_outliers',\n",
       " 'grade_target_mean',\n",
       " 'subGrade_target_mean',\n",
       " 'grade_to_mean_n0',\n",
       " 'grade_to_std_n0',\n",
       " 'grade_to_mean_n1',\n",
       " 'grade_to_std_n1',\n",
       " 'grade_to_mean_n2',\n",
       " 'grade_to_std_n2',\n",
       " 'grade_to_mean_n4',\n",
       " 'grade_to_std_n4',\n",
       " 'grade_to_mean_n5',\n",
       " 'grade_to_std_n5',\n",
       " 'grade_to_mean_n6',\n",
       " 'grade_to_std_n6',\n",
       " 'grade_to_mean_n7',\n",
       " 'grade_to_std_n7',\n",
       " 'grade_to_mean_n8',\n",
       " 'grade_to_std_n8',\n",
       " 'grade_to_mean_n9',\n",
       " 'grade_to_std_n9',\n",
       " 'grade_to_mean_n10',\n",
       " 'grade_to_std_n10',\n",
       " 'grade_to_mean_n11',\n",
       " 'grade_to_std_n11',\n",
       " 'grade_to_mean_n12',\n",
       " 'grade_to_std_n12',\n",
       " 'grade_to_mean_n13',\n",
       " 'grade_to_std_n13',\n",
       " 'grade_to_mean_n14',\n",
       " 'grade_to_std_n14']"
      ]
     },
     "execution_count": 117,
     "metadata": {},
     "output_type": "execute_result"
    }
   ],
   "source": [
    "data_train.columns.to_list()"
   ]
  },
  {
   "cell_type": "markdown",
   "id": "3b0958b7",
   "metadata": {},
   "source": [
    "# 特征选择-- 测试"
   ]
  },
  {
   "cell_type": "code",
   "execution_count": 120,
   "id": "3df7ce60",
   "metadata": {
    "ExecuteTime": {
     "end_time": "2022-04-07T11:19:31.060464Z",
     "start_time": "2022-04-07T11:19:31.036448Z"
    }
   },
   "outputs": [],
   "source": [
    "train = data_train[['term','interestRate','grade','subGrade','delinquency_2years']]\n",
    "target_train = data_train['isDefault']"
   ]
  },
  {
   "cell_type": "code",
   "execution_count": 122,
   "id": "ae753577",
   "metadata": {
    "ExecuteTime": {
     "end_time": "2022-04-07T11:19:44.844381Z",
     "start_time": "2022-04-07T11:19:44.773831Z"
    }
   },
   "outputs": [
    {
     "data": {
      "text/plain": [
       "array([[19.52, 21.  ],\n",
       "       [18.49, 16.  ],\n",
       "       [16.99, 17.  ],\n",
       "       ...,\n",
       "       [13.33, 12.  ],\n",
       "       [ 6.92,  3.  ],\n",
       "       [11.06,  7.  ]])"
      ]
     },
     "execution_count": 122,
     "metadata": {},
     "output_type": "execute_result"
    }
   ],
   "source": [
    "# 特征选择\n",
    "from sklearn.feature_selection import VarianceThreshold\n",
    "#其中参数threshold为方差的阈值\n",
    "VarianceThreshold(threshold=3).fit_transform(train,target_train)"
   ]
  },
  {
   "cell_type": "code",
   "execution_count": 123,
   "id": "ca1bb83f",
   "metadata": {
    "ExecuteTime": {
     "end_time": "2022-04-07T11:19:55.191601Z",
     "start_time": "2022-04-07T11:19:55.056271Z"
    }
   },
   "outputs": [
    {
     "data": {
      "text/plain": [
       "array([[ 5.  , 19.52,  5.  , 21.  ,  0.  ],\n",
       "       [ 5.  , 18.49,  4.  , 16.  ,  0.  ],\n",
       "       [ 5.  , 16.99,  4.  , 17.  ,  0.  ],\n",
       "       ...,\n",
       "       [ 3.  , 13.33,  3.  , 12.  ,  1.  ],\n",
       "       [ 3.  ,  6.92,  1.  ,  3.  ,  0.  ],\n",
       "       [ 3.  , 11.06,  2.  ,  7.  ,  0.  ]])"
      ]
     },
     "execution_count": 123,
     "metadata": {},
     "output_type": "execute_result"
    }
   ],
   "source": [
    "from sklearn.feature_selection import SelectKBest\n",
    "from scipy.stats import pearsonr\n",
    "#选择K个最好的特征，返回选择特征后的数据\n",
    "#第一个参数为计算评估特征是否好的函数，该函数输入特征矩阵和目标向量，\n",
    "#输出二元组（评分，P值）的数组，数组第i项为第i个特征的评分和P值。在此定义为计算相关系数\n",
    "#参数k为选择的特征个数\n",
    "SelectKBest(k=5).fit_transform(train,target_train)"
   ]
  },
  {
   "cell_type": "code",
   "execution_count": 124,
   "id": "d9cc3e02",
   "metadata": {
    "ExecuteTime": {
     "end_time": "2022-04-07T11:20:09.839222Z",
     "start_time": "2022-04-07T11:20:09.682285Z"
    }
   },
   "outputs": [
    {
     "data": {
      "text/plain": [
       "array([[ 5.  , 19.52,  5.  , 21.  ,  0.  ],\n",
       "       [ 5.  , 18.49,  4.  , 16.  ,  0.  ],\n",
       "       [ 5.  , 16.99,  4.  , 17.  ,  0.  ],\n",
       "       ...,\n",
       "       [ 3.  , 13.33,  3.  , 12.  ,  1.  ],\n",
       "       [ 3.  ,  6.92,  1.  ,  3.  ,  0.  ],\n",
       "       [ 3.  , 11.06,  2.  ,  7.  ,  0.  ]])"
      ]
     },
     "execution_count": 124,
     "metadata": {},
     "output_type": "execute_result"
    }
   ],
   "source": [
    "from sklearn.feature_selection import SelectKBest\n",
    "from sklearn.feature_selection import chi2\n",
    "#参数k为选择的特征个数\n",
    "SelectKBest(chi2, k=5).fit_transform(train,target_train)"
   ]
  },
  {
   "cell_type": "code",
   "execution_count": 149,
   "id": "deb582cf",
   "metadata": {
    "ExecuteTime": {
     "end_time": "2022-04-08T01:25:48.053406Z",
     "start_time": "2022-04-08T01:25:48.035392Z"
    }
   },
   "outputs": [
    {
     "data": {
      "text/plain": [
       "'\\nfrom minepy import MINE\\n#由于MINE的设计不是函数式的，定义mic方法将其为函数式的，\\n#返回一个二元组，二元组的第2项设置成固定的P值0.5\\ndef mic(x, y):\\n\\tm = MINE()\\n\\tm.compute_score(x, y)\\n\\treturn (m.mic(), 0.5)\\n#参数k为选择的特征个数\\nSelectKBest(lambda X, Y: array(map(lambda x:mic(x, Y), X.T)).T, k=2).fit_transform(train,target_train)\\n'"
      ]
     },
     "execution_count": 149,
     "metadata": {},
     "output_type": "execute_result"
    }
   ],
   "source": [
    "from sklearn.feature_selection import SelectKBest\n",
    "'''\n",
    "from minepy import MINE\n",
    "#由于MINE的设计不是函数式的，定义mic方法将其为函数式的，\n",
    "#返回一个二元组，二元组的第2项设置成固定的P值0.5\n",
    "def mic(x, y):\n",
    "\tm = MINE()\n",
    "\tm.compute_score(x, y)\n",
    "\treturn (m.mic(), 0.5)\n",
    "#参数k为选择的特征个数\n",
    "SelectKBest(lambda X, Y: array(map(lambda x:mic(x, Y), X.T)).T, k=2).fit_transform(train,target_train)\n",
    "'''\n"
   ]
  },
  {
   "cell_type": "code",
   "execution_count": 150,
   "id": "cbcd13d8",
   "metadata": {
    "ExecuteTime": {
     "end_time": "2022-04-08T01:25:55.565376Z",
     "start_time": "2022-04-08T01:25:48.732343Z"
    }
   },
   "outputs": [
    {
     "data": {
      "text/plain": [
       "array([[ 5., 21.],\n",
       "       [ 5., 16.],\n",
       "       [ 5., 17.],\n",
       "       ...,\n",
       "       [ 3., 12.],\n",
       "       [ 3.,  3.],\n",
       "       [ 3.,  7.]])"
      ]
     },
     "execution_count": 150,
     "metadata": {},
     "output_type": "execute_result"
    }
   ],
   "source": [
    "# Wrapper\n",
    "from sklearn.feature_selection import RFE\n",
    "from sklearn.linear_model import LogisticRegression\n",
    "#递归特征消除法，返回特征选择后的数据\n",
    "#参数estimator为基模型\n",
    "#参数n_features_to_select为选择的特征个数\n",
    "RFE(estimator=LogisticRegression(),\n",
    "n_features_to_select=2).fit_transform(train,target_train)"
   ]
  },
  {
   "cell_type": "code",
   "execution_count": 151,
   "id": "61447ddd",
   "metadata": {
    "ExecuteTime": {
     "end_time": "2022-04-08T01:25:57.976830Z",
     "start_time": "2022-04-08T01:25:55.567380Z"
    }
   },
   "outputs": [
    {
     "data": {
      "text/plain": [
       "array([[ 5., 21.],\n",
       "       [ 5., 16.],\n",
       "       [ 5., 17.],\n",
       "       ...,\n",
       "       [ 3., 12.],\n",
       "       [ 3.,  3.],\n",
       "       [ 3.,  7.]])"
      ]
     },
     "execution_count": 151,
     "metadata": {},
     "output_type": "execute_result"
    }
   ],
   "source": [
    "# Embedded\n",
    "from sklearn.feature_selection import SelectFromModel\n",
    "from sklearn.linear_model import LogisticRegression\n",
    "#带L1惩罚项的逻辑回归作为基模型的特征选择\n",
    "SelectFromModel(LogisticRegression(penalty=\"l2\", C=0.1)).fit_transform(train,target_train)"
   ]
  },
  {
   "cell_type": "code",
   "execution_count": 152,
   "id": "fb253fc7",
   "metadata": {
    "ExecuteTime": {
     "end_time": "2022-04-08T01:26:47.660947Z",
     "start_time": "2022-04-08T01:25:57.978833Z"
    }
   },
   "outputs": [
    {
     "data": {
      "text/plain": [
       "array([[21.],\n",
       "       [16.],\n",
       "       [17.],\n",
       "       ...,\n",
       "       [12.],\n",
       "       [ 3.],\n",
       "       [ 7.]])"
      ]
     },
     "execution_count": 152,
     "metadata": {},
     "output_type": "execute_result"
    }
   ],
   "source": [
    "from sklearn.feature_selection import SelectFromModel\n",
    "from sklearn.ensemble import GradientBoostingClassifier\n",
    "#GBDT作为基模型的特征选择\n",
    "SelectFromModel(GradientBoostingClassifier()).fit_transform(train,target_train)"
   ]
  },
  {
   "cell_type": "markdown",
   "id": "dfaf4086",
   "metadata": {},
   "source": [
    "# 继续特征工程"
   ]
  },
  {
   "cell_type": "code",
   "execution_count": 153,
   "id": "f0d56c47",
   "metadata": {
    "ExecuteTime": {
     "end_time": "2022-04-08T01:28:26.790414Z",
     "start_time": "2022-04-08T01:28:26.771316Z"
    }
   },
   "outputs": [
    {
     "data": {
      "text/plain": [
       "(800000, 119)"
      ]
     },
     "execution_count": 153,
     "metadata": {},
     "output_type": "execute_result"
    }
   ],
   "source": [
    "data_train.shape"
   ]
  },
  {
   "cell_type": "markdown",
   "id": "63521190",
   "metadata": {},
   "source": [
    "## 数据分桶"
   ]
  },
  {
   "cell_type": "markdown",
   "id": "620af31c",
   "metadata": {},
   "source": [
    "- 目的：从模型效果上来看，特征分箱主要是为了降低变量的复杂性，减少变量噪音对模型的影响，提高自变量和因变量的相关度。从而使模型更加稳定\n",
    "\n",
    "- 分桶对象：将连续变量离散化；将多状态的离散变量合并成少状态\n",
    "\n",
    "- 分桶原因：数据的特征内的值跨度可能比较大，对有监督和无监督中如k-均值聚类它使用欧氏距离作为相似度函数来测量数据点之间的相似度。都会造成大吃小的影响，其中一种解决方法是对计数值进行区间量化即数据分桶也叫做数据分箱，然后使用量化后的结果。\n",
    "\n",
    "- 分桶优点：易于处理缺失：当数据源可能存在缺失值，此时可以把null单独作为一个分箱。；易于处理异常：当数据中存在离群点时，可以把其通过分箱离散化处理，从而提高变量的鲁棒性（抗干扰能力）。业务解释性：我们习惯于线性判断变量的作用，当x越来越大，y就越来越大。但实际x与y之间经常存在着非线性关系，此时可经过WOE变换。\n",
    "\n",
    "- 分桶原则：最小分箱占比不低于5%；箱内不能全部是好客户；连续箱单调"
   ]
  },
  {
   "cell_type": "markdown",
   "id": "40c39b98",
   "metadata": {},
   "source": [
    "### 固定宽度分箱和分位数分箱"
   ]
  },
  {
   "cell_type": "code",
   "execution_count": 156,
   "id": "b8dd7b93",
   "metadata": {
    "ExecuteTime": {
     "end_time": "2022-04-08T01:38:18.018605Z",
     "start_time": "2022-04-08T01:38:17.883541Z"
    }
   },
   "outputs": [],
   "source": [
    "# 固定宽度分箱：\n",
    "# 通过除法映射到间隔均匀的分箱中，每个分箱的取值范围都是loanAmnt/1000\n",
    "for data in [data_train, data_test_a]:\n",
    "    # 通过除法映射到间隔均匀的分箱中，每个分箱的取值范围都是loanAmnt/1000\n",
    "    data['loanAmnt_bin1'] = np.floor_divide(data['loanAmnt'], 1000)\n",
    "    \n",
    "    ## 通过对数函数映射到指数宽度分箱\n",
    "    data['loanAmnt_bin2'] = np.floor(np.log10(data['loanAmnt']))\n",
    "    \n",
    "    # 分位数分箱：\n",
    "    data['loanAmnt_bin3'] = pd.qcut(data['loanAmnt'], 10, labels=False)\n",
    "\n"
   ]
  },
  {
   "cell_type": "code",
   "execution_count": 157,
   "id": "671224fd",
   "metadata": {
    "ExecuteTime": {
     "end_time": "2022-04-08T01:38:40.898745Z",
     "start_time": "2022-04-08T01:38:39.894760Z"
    }
   },
   "outputs": [],
   "source": [
    "# 删除不需要的数据\n",
    "for data in [data_train, data_test_a]:\n",
    "    data.drop(['issueDate','id'], axis=1,inplace=True)\n"
   ]
  },
  {
   "cell_type": "code",
   "execution_count": 158,
   "id": "de21804d",
   "metadata": {
    "ExecuteTime": {
     "end_time": "2022-04-08T01:38:42.192891Z",
     "start_time": "2022-04-08T01:38:40.898848Z"
    }
   },
   "outputs": [],
   "source": [
    "\"纵向用缺失值上面的值替换缺失值\"\n",
    "data_train = data_train.fillna(axis=0,method='ffill')\n"
   ]
  },
  {
   "cell_type": "code",
   "execution_count": 162,
   "id": "6703fd61",
   "metadata": {
    "ExecuteTime": {
     "end_time": "2022-04-08T01:40:03.112741Z",
     "start_time": "2022-04-08T01:40:01.688464Z"
    }
   },
   "outputs": [
    {
     "data": {
      "text/html": [
       "<div>\n",
       "<style scoped>\n",
       "    .dataframe tbody tr th:only-of-type {\n",
       "        vertical-align: middle;\n",
       "    }\n",
       "\n",
       "    .dataframe tbody tr th {\n",
       "        vertical-align: top;\n",
       "    }\n",
       "\n",
       "    .dataframe thead th {\n",
       "        text-align: right;\n",
       "    }\n",
       "</style>\n",
       "<table border=\"1\" class=\"dataframe\">\n",
       "  <thead>\n",
       "    <tr style=\"text-align: right;\">\n",
       "      <th></th>\n",
       "      <th>features</th>\n",
       "      <th>corr</th>\n",
       "    </tr>\n",
       "  </thead>\n",
       "  <tbody>\n",
       "    <tr>\n",
       "      <th>46</th>\n",
       "      <td>subGrade_target_mean</td>\n",
       "      <td>0.268400</td>\n",
       "    </tr>\n",
       "    <tr>\n",
       "      <th>5</th>\n",
       "      <td>subGrade</td>\n",
       "      <td>0.267724</td>\n",
       "    </tr>\n",
       "    <tr>\n",
       "      <th>53</th>\n",
       "      <td>grade_to_mean_n4</td>\n",
       "      <td>0.262484</td>\n",
       "    </tr>\n",
       "    <tr>\n",
       "      <th>45</th>\n",
       "      <td>grade_target_mean</td>\n",
       "      <td>0.262301</td>\n",
       "    </tr>\n",
       "    <tr>\n",
       "      <th>72</th>\n",
       "      <td>grade_to_std_n13</td>\n",
       "      <td>0.261863</td>\n",
       "    </tr>\n",
       "    <tr>\n",
       "      <th>...</th>\n",
       "      <td>...</td>\n",
       "      <td>...</td>\n",
       "    </tr>\n",
       "    <tr>\n",
       "      <th>56</th>\n",
       "      <td>grade_to_std_n5</td>\n",
       "      <td>NaN</td>\n",
       "    </tr>\n",
       "    <tr>\n",
       "      <th>58</th>\n",
       "      <td>grade_to_std_n6</td>\n",
       "      <td>NaN</td>\n",
       "    </tr>\n",
       "    <tr>\n",
       "      <th>62</th>\n",
       "      <td>grade_to_std_n8</td>\n",
       "      <td>NaN</td>\n",
       "    </tr>\n",
       "    <tr>\n",
       "      <th>66</th>\n",
       "      <td>grade_to_std_n10</td>\n",
       "      <td>NaN</td>\n",
       "    </tr>\n",
       "    <tr>\n",
       "      <th>70</th>\n",
       "      <td>grade_to_std_n12</td>\n",
       "      <td>NaN</td>\n",
       "    </tr>\n",
       "  </tbody>\n",
       "</table>\n",
       "<p>78 rows × 2 columns</p>\n",
       "</div>"
      ],
      "text/plain": [
       "                features      corr\n",
       "46  subGrade_target_mean  0.268400\n",
       "5               subGrade  0.267724\n",
       "53      grade_to_mean_n4  0.262484\n",
       "45     grade_target_mean  0.262301\n",
       "72      grade_to_std_n13  0.261863\n",
       "..                   ...       ...\n",
       "56       grade_to_std_n5       NaN\n",
       "58       grade_to_std_n6       NaN\n",
       "62       grade_to_std_n8       NaN\n",
       "66      grade_to_std_n10       NaN\n",
       "70      grade_to_std_n12       NaN\n",
       "\n",
       "[78 rows x 2 columns]"
      ]
     },
     "execution_count": 162,
     "metadata": {},
     "output_type": "execute_result"
    }
   ],
   "source": [
    "x_train = data_train.drop(['isDefault'], axis=1)\n",
    "#计算协方差\n",
    "data_corr = x_train.corrwith(data_train.isDefault) #计算相关性\n",
    "result = pd.DataFrame(columns=['features', 'corr'])\n",
    "result['features'] = data_corr.index\n",
    "result['corr'] = data_corr.values\n",
    "\n",
    "result.sort_values(by=['corr'],ascending=False)"
   ]
  },
  {
   "cell_type": "markdown",
   "id": "beb10dc7",
   "metadata": {},
   "source": [
    "# 模型训练"
   ]
  },
  {
   "cell_type": "code",
   "execution_count": 172,
   "id": "1c0f8269",
   "metadata": {
    "ExecuteTime": {
     "end_time": "2022-04-08T02:21:32.729829Z",
     "start_time": "2022-04-08T02:21:32.543778Z"
    }
   },
   "outputs": [],
   "source": [
    "features = [f for f in data_train.columns if f not in ['id','issueDate','isDefault'] and '_outliers' not in f]\n",
    "\n",
    "x_train = data_train[features]\n",
    "x_test = data_test_a[features]\n",
    "y_train = data_train['isDefault']"
   ]
  },
  {
   "cell_type": "code",
   "execution_count": 173,
   "id": "94157427",
   "metadata": {
    "ExecuteTime": {
     "end_time": "2022-04-08T02:22:04.969016Z",
     "start_time": "2022-04-08T02:22:04.826984Z"
    }
   },
   "outputs": [],
   "source": [
    "def cv_model(clf, train_x, train_y, test_x, clf_name):\n",
    "    folds = 5\n",
    "    seed = 2020\n",
    "    kf = KFold(n_splits=folds, shuffle=True, random_state=seed)\n",
    "\n",
    "    train = np.zeros(train_x.shape[0])\n",
    "    test = np.zeros(test_x.shape[0])\n",
    "\n",
    "    cv_scores = []\n",
    "\n",
    "    for i, (train_index, valid_index) in enumerate(kf.split(train_x, train_y)):\n",
    "        print('************************************ {} ************************************'.format(str(i+1)))\n",
    "        trn_x, trn_y, val_x, val_y = train_x.iloc[train_index], train_y[train_index], train_x.iloc[valid_index], train_y[valid_index]\n",
    "\n",
    "        if clf_name == \"lgb\":\n",
    "            train_matrix = clf.Dataset(trn_x, label=trn_y)\n",
    "            valid_matrix = clf.Dataset(val_x, label=val_y)\n",
    "\n",
    "            params = {\n",
    "                'boosting_type': 'gbdt',\n",
    "                'objective': 'binary',\n",
    "                'metric': 'auc',\n",
    "                'min_child_weight': 5,\n",
    "                'num_leaves': 2 ** 5,\n",
    "                'lambda_l2': 10,\n",
    "                'feature_fraction': 0.8,\n",
    "                'bagging_fraction': 0.8,\n",
    "                'bagging_freq': 4,\n",
    "                'learning_rate': 0.1,\n",
    "                'seed': 2020,\n",
    "                'nthread': 28,\n",
    "                'n_jobs':24,\n",
    "                'silent': True,\n",
    "                'verbose': -1,\n",
    "            }\n",
    "\n",
    "            model = clf.train(params, train_matrix, 50000, valid_sets=[train_matrix, valid_matrix], verbose_eval=200,early_stopping_rounds=200)\n",
    "            val_pred = model.predict(val_x, num_iteration=model.best_iteration)\n",
    "            test_pred = model.predict(test_x, num_iteration=model.best_iteration)\n",
    "            \n",
    "            # print(list(sorted(zip(features, model.feature_importance(\"gain\")), key=lambda x: x[1], reverse=True))[:20])\n",
    "                \n",
    "        if clf_name == \"xgb\":\n",
    "            train_matrix = clf.DMatrix(trn_x , label=trn_y)\n",
    "            valid_matrix = clf.DMatrix(val_x , label=val_y)\n",
    "            \n",
    "            params = {'booster': 'gbtree',\n",
    "                      'objective': 'binary:logistic',\n",
    "                      'eval_metric': 'auc',\n",
    "                      'gamma': 1,\n",
    "                      'min_child_weight': 1.5,\n",
    "                      'max_depth': 5,\n",
    "                      'lambda': 10,\n",
    "                      'subsample': 0.7,\n",
    "                      'colsample_bytree': 0.7,\n",
    "                      'colsample_bylevel': 0.7,\n",
    "                      'eta': 0.04,\n",
    "                      'tree_method': 'exact',\n",
    "                      'seed': 2020,\n",
    "                      'nthread': 36,\n",
    "                      \"silent\": True,\n",
    "                      }\n",
    "            \n",
    "            watchlist = [(train_matrix, 'train'),(valid_matrix, 'eval')]\n",
    "            \n",
    "            model = clf.train(params, train_matrix, num_boost_round=50000, evals=watchlist, verbose_eval=200, early_stopping_rounds=200)\n",
    "            val_pred  = model.predict(valid_matrix, ntree_limit=model.best_ntree_limit)\n",
    "            test_pred = model.predict(test_x , ntree_limit=model.best_ntree_limit)\n",
    "                 \n",
    "        if clf_name == \"cat\":\n",
    "            params = {'learning_rate': 0.05, 'depth': 5, 'l2_leaf_reg': 10, 'bootstrap_type': 'Bernoulli',\n",
    "                      'od_type': 'Iter', 'od_wait': 50, 'random_seed': 11, 'allow_writing_files': False}\n",
    "            \n",
    "            model = clf(iterations=20000, **params)\n",
    "            model.fit(trn_x, trn_y, eval_set=(val_x, val_y),\n",
    "                      cat_features=[], use_best_model=True, verbose=500)\n",
    "            \n",
    "            val_pred  = model.predict(val_x)\n",
    "            test_pred = model.predict(test_x)\n",
    "            \n",
    "        train[valid_index] = val_pred\n",
    "        test = test_pred / kf.n_splits\n",
    "        cv_scores.append(roc_auc_score(val_y, val_pred))\n",
    "        \n",
    "        print(cv_scores)\n",
    "        \n",
    "    print(\"%s_scotrainre_list:\" % clf_name, cv_scores)\n",
    "    print(\"%s_score_mean:\" % clf_name, np.mean(cv_scores))\n",
    "    print(\"%s_score_std:\" % clf_name, np.std(cv_scores))\n",
    "    return train, test"
   ]
  },
  {
   "cell_type": "code",
   "execution_count": 174,
   "id": "df3dd5c6",
   "metadata": {
    "ExecuteTime": {
     "end_time": "2022-04-08T02:28:51.469419Z",
     "start_time": "2022-04-08T02:22:11.602580Z"
    }
   },
   "outputs": [
    {
     "name": "stdout",
     "output_type": "stream",
     "text": [
      "************************************ 1 ************************************\n",
      "[LightGBM] [Warning] num_threads is set with nthread=28, will be overridden by n_jobs=24. Current value: num_threads=24\n",
      "[LightGBM] [Warning] Unknown parameter: silent\n",
      "Training until validation scores don't improve for 200 rounds\n",
      "[200]\ttraining's auc: 0.747379\tvalid_1's auc: 0.735377\n",
      "[400]\ttraining's auc: 0.760172\tvalid_1's auc: 0.736253\n",
      "[600]\ttraining's auc: 0.771084\tvalid_1's auc: 0.736143\n",
      "Early stopping, best iteration is:\n",
      "[451]\ttraining's auc: 0.76318\tvalid_1's auc: 0.736358\n",
      "[0.7363579235141751]\n",
      "************************************ 2 ************************************\n",
      "[LightGBM] [Warning] num_threads is set with nthread=28, will be overridden by n_jobs=24. Current value: num_threads=24\n",
      "[LightGBM] [Warning] Unknown parameter: silent\n",
      "Training until validation scores don't improve for 200 rounds\n",
      "[200]\ttraining's auc: 0.748341\tvalid_1's auc: 0.731198\n",
      "[400]\ttraining's auc: 0.76105\tvalid_1's auc: 0.732086\n",
      "[600]\ttraining's auc: 0.771807\tvalid_1's auc: 0.732453\n",
      "[800]\ttraining's auc: 0.781948\tvalid_1's auc: 0.732398\n",
      "Early stopping, best iteration is:\n",
      "[694]\ttraining's auc: 0.776602\tvalid_1's auc: 0.732547\n",
      "[0.7363579235141751, 0.732547024576572]\n",
      "************************************ 3 ************************************\n",
      "[LightGBM] [Warning] num_threads is set with nthread=28, will be overridden by n_jobs=24. Current value: num_threads=24\n",
      "[LightGBM] [Warning] Unknown parameter: silent\n",
      "Training until validation scores don't improve for 200 rounds\n",
      "[200]\ttraining's auc: 0.747348\tvalid_1's auc: 0.735249\n",
      "[400]\ttraining's auc: 0.759965\tvalid_1's auc: 0.736651\n",
      "[600]\ttraining's auc: 0.771155\tvalid_1's auc: 0.736953\n",
      "[800]\ttraining's auc: 0.780914\tvalid_1's auc: 0.736701\n",
      "Early stopping, best iteration is:\n",
      "[627]\ttraining's auc: 0.772557\tvalid_1's auc: 0.737006\n",
      "[0.7363579235141751, 0.732547024576572, 0.7370064974928382]\n",
      "************************************ 4 ************************************\n",
      "[LightGBM] [Warning] num_threads is set with nthread=28, will be overridden by n_jobs=24. Current value: num_threads=24\n",
      "[LightGBM] [Warning] Unknown parameter: silent\n",
      "Training until validation scores don't improve for 200 rounds\n",
      "[200]\ttraining's auc: 0.747754\tvalid_1's auc: 0.734584\n",
      "[400]\ttraining's auc: 0.759941\tvalid_1's auc: 0.735425\n",
      "[600]\ttraining's auc: 0.770843\tvalid_1's auc: 0.735667\n",
      "Early stopping, best iteration is:\n",
      "[581]\ttraining's auc: 0.769782\tvalid_1's auc: 0.735729\n",
      "[0.7363579235141751, 0.732547024576572, 0.7370064974928382, 0.7357289920438294]\n",
      "************************************ 5 ************************************\n",
      "[LightGBM] [Warning] num_threads is set with nthread=28, will be overridden by n_jobs=24. Current value: num_threads=24\n",
      "[LightGBM] [Warning] Unknown parameter: silent\n",
      "Training until validation scores don't improve for 200 rounds\n",
      "[200]\ttraining's auc: 0.747916\tvalid_1's auc: 0.733757\n",
      "[400]\ttraining's auc: 0.760349\tvalid_1's auc: 0.734668\n",
      "[600]\ttraining's auc: 0.770846\tvalid_1's auc: 0.734724\n",
      "[800]\ttraining's auc: 0.780733\tvalid_1's auc: 0.734587\n",
      "Early stopping, best iteration is:\n",
      "[643]\ttraining's auc: 0.773023\tvalid_1's auc: 0.7348\n",
      "[0.7363579235141751, 0.732547024576572, 0.7370064974928382, 0.7357289920438294, 0.734800241389729]\n",
      "lgb_scotrainre_list: [0.7363579235141751, 0.732547024576572, 0.7370064974928382, 0.7357289920438294, 0.734800241389729]\n",
      "lgb_score_mean: 0.7352881358034287\n",
      "lgb_score_std: 0.0015519857333953758\n"
     ]
    }
   ],
   "source": [
    "def lgb_model(x_train, y_train, x_test):\n",
    "    lgb_train, lgb_test = cv_model(lgb, x_train, y_train, x_test, \"lgb\")\n",
    "    return lgb_train, lgb_test\n",
    "\n",
    "def xgb_model(x_train, y_train, x_test):\n",
    "    xgb_train, xgb_test = cv_model(xgb, x_train, y_train, x_test, \"xgb\")\n",
    "    return xgb_train, xgb_test\n",
    "\n",
    "def cat_model(x_train, y_train, x_test):\n",
    "    cat_train, cat_test = cv_model(CatBoostRegressor, x_train, y_train, x_test, \"cat\")\n",
    "\n",
    "lgb_train, lgb_test = lgb_model(x_train, y_train, x_test)"
   ]
  },
  {
   "cell_type": "code",
   "execution_count": 177,
   "id": "428592ab",
   "metadata": {
    "ExecuteTime": {
     "end_time": "2022-04-08T02:50:56.375074Z",
     "start_time": "2022-04-08T02:50:55.996898Z"
    }
   },
   "outputs": [],
   "source": [
    "# 添加一列新的特征用于区分\n",
    "x_train['sample'] = 'train'\n",
    "x_test['sample'] = 'test'\n",
    "# 数据集合成并保存\n",
    "data_sum = x_train.append(x_test)"
   ]
  },
  {
   "cell_type": "code",
   "execution_count": 178,
   "id": "a1058717",
   "metadata": {
    "ExecuteTime": {
     "end_time": "2022-04-08T02:51:59.025823Z",
     "start_time": "2022-04-08T02:51:06.729840Z"
    }
   },
   "outputs": [],
   "source": [
    "data_sum.to_csv(\"data_for_model.csv\",index=False)"
   ]
  },
  {
   "cell_type": "markdown",
   "id": "9e7dc7d0",
   "metadata": {},
   "source": [
    "# 建模与调参"
   ]
  },
  {
   "cell_type": "code",
   "execution_count": 180,
   "id": "88ec94c9",
   "metadata": {
    "ExecuteTime": {
     "end_time": "2022-04-08T02:52:57.594281Z",
     "start_time": "2022-04-08T02:52:57.567214Z"
    }
   },
   "outputs": [],
   "source": [
    "def reduce_mem_usage(df):\n",
    "    start_mem = df.memory_usage().sum() \n",
    "    print('Memory usage of dataframe is {:.2f} MB'.format(start_mem))\n",
    "    \n",
    "    for col in df.columns:\n",
    "        col_type = df[col].dtype\n",
    "        \n",
    "        if col_type != object:\n",
    "            c_min = df[col].min()\n",
    "            c_max = df[col].max()\n",
    "            if str(col_type)[:3] == 'int':\n",
    "                if c_min > np.iinfo(np.int8).min and c_max < np.iinfo(np.int8).max:\n",
    "                    df[col] = df[col].astype(np.int8)\n",
    "                elif c_min > np.iinfo(np.int16).min and c_max < np.iinfo(np.int16).max:\n",
    "                    df[col] = df[col].astype(np.int16)\n",
    "                elif c_min > np.iinfo(np.int32).min and c_max < np.iinfo(np.int32).max:\n",
    "                    df[col] = df[col].astype(np.int32)\n",
    "                elif c_min > np.iinfo(np.int64).min and c_max < np.iinfo(np.int64).max:\n",
    "                    df[col] = df[col].astype(np.int64)  \n",
    "            else:\n",
    "                if c_min > np.finfo(np.float16).min and c_max < np.finfo(np.float16).max:\n",
    "                    df[col] = df[col].astype(np.float16)\n",
    "                elif c_min > np.finfo(np.float32).min and c_max < np.finfo(np.float32).max:\n",
    "                    df[col] = df[col].astype(np.float32)\n",
    "                else:\n",
    "                    df[col] = df[col].astype(np.float64)\n",
    "        else:\n",
    "            df[col] = df[col].astype('category')\n",
    "\n",
    "    end_mem = df.memory_usage().sum() \n",
    "    print('Memory usage after optimization is: {:.2f} MB'.format(end_mem))\n",
    "    print('Decreased by {:.1f}%'.format(100 * (start_mem - end_mem) / start_mem))\n",
    "    \n",
    "    return df"
   ]
  },
  {
   "cell_type": "code",
   "execution_count": 182,
   "id": "9cfc114f",
   "metadata": {
    "ExecuteTime": {
     "end_time": "2022-04-08T02:53:27.407920Z",
     "start_time": "2022-04-08T02:53:19.006034Z"
    }
   },
   "outputs": [],
   "source": [
    "data = pd.read_csv('data_for_model.csv')"
   ]
  },
  {
   "cell_type": "code",
   "execution_count": 183,
   "id": "93a2d9f0",
   "metadata": {
    "ExecuteTime": {
     "end_time": "2022-04-08T02:53:33.157511Z",
     "start_time": "2022-04-08T02:53:27.410923Z"
    }
   },
   "outputs": [
    {
     "name": "stdout",
     "output_type": "stream",
     "text": [
      "Memory usage of dataframe is 632000128.00 MB\n",
      "Memory usage after optimization is: 203000252.00 MB\n",
      "Decreased by 67.9%\n"
     ]
    }
   ],
   "source": [
    "data = reduce_mem_usage(data)"
   ]
  },
  {
   "cell_type": "markdown",
   "id": "bca86802",
   "metadata": {},
   "source": [
    "## 建模之前的预操作"
   ]
  },
  {
   "cell_type": "code",
   "execution_count": 184,
   "id": "0fa61bb5",
   "metadata": {
    "ExecuteTime": {
     "end_time": "2022-04-08T02:53:54.462915Z",
     "start_time": "2022-04-08T02:53:53.938442Z"
    }
   },
   "outputs": [],
   "source": [
    "from sklearn.model_selection import KFold\n",
    "# 分离数据集，方便进行交叉验证\n",
    "X_train = data.loc[data['sample']=='train', :].drop([ 'sample'], axis=1)\n",
    "X_test = data.loc[data['sample']=='test', :].drop(['sample'], axis=1)\n",
    "\n",
    "\n",
    "# 5折交叉验证\n",
    "folds = 5\n",
    "seed = 2020\n",
    "kf = KFold(n_splits=folds, shuffle=True, random_state=seed)\n"
   ]
  },
  {
   "cell_type": "markdown",
   "id": "c26e8356",
   "metadata": {},
   "source": [
    "### 使用Lightgbm进行建模"
   ]
  },
  {
   "cell_type": "code",
   "execution_count": 186,
   "id": "d8963d23",
   "metadata": {
    "ExecuteTime": {
     "end_time": "2022-04-08T03:01:01.247088Z",
     "start_time": "2022-04-08T03:00:35.604261Z"
    }
   },
   "outputs": [
    {
     "name": "stdout",
     "output_type": "stream",
     "text": [
      "[LightGBM] [Warning] Unknown parameter: silent\n",
      "Training until validation scores don't improve for 200 rounds\n",
      "Early stopping, best iteration is:\n",
      "[412]\tvalid_0's auc: 0.734907\n"
     ]
    }
   ],
   "source": [
    "#\"\"\"对训练集数据进行划分，分成训练集和验证集，并进行相应的操作\"\"\"\n",
    "from sklearn.model_selection import train_test_split\n",
    "import lightgbm as lgb\n",
    "# 数据集划分\n",
    "X_train_split, X_val, y_train_split, y_val = train_test_split(X_train, y_train, test_size=0.2)\n",
    "train_matrix = lgb.Dataset(X_train_split, label=y_train_split)\n",
    "valid_matrix = lgb.Dataset(X_val, label=y_val)\n",
    "\n",
    "params = {\n",
    "            'boosting_type': 'gbdt',\n",
    "            'objective': 'binary',\n",
    "            'learning_rate': 0.1,\n",
    "            'metric': 'auc',\n",
    "            'min_child_weight': 1e-3,\n",
    "            'num_leaves': 31,\n",
    "            'max_depth': -1,\n",
    "            'reg_lambda': 0,\n",
    "            'reg_alpha': 0,\n",
    "            'feature_fraction': 1,\n",
    "            'bagging_fraction': 1,\n",
    "            'bagging_freq': 0,\n",
    "            'seed': 2020,\n",
    "            'nthread': 8,\n",
    "            'silent': True,\n",
    "            'verbose': -1,\n",
    "}\n",
    "\n",
    "#\"\"\"使用训练集数据进行模型训练\"\"\"\n",
    "model = lgb.train(params, train_set=train_matrix, valid_sets=valid_matrix, num_boost_round=20000, verbose_eval=1000, early_stopping_rounds=200)"
   ]
  },
  {
   "cell_type": "code",
   "execution_count": 187,
   "id": "c0870d4c",
   "metadata": {
    "ExecuteTime": {
     "end_time": "2022-04-08T03:02:42.689891Z",
     "start_time": "2022-04-08T03:02:41.814132Z"
    }
   },
   "outputs": [
    {
     "name": "stdout",
     "output_type": "stream",
     "text": [
      "未调参前lightgbm单模型在验证集上的AUC：0.734906858464649\n"
     ]
    },
    {
     "data": {
      "image/png": "[encoded data removed]",
      "text/plain": [
       "<Figure size 576x576 with 1 Axes>"
      ]
     },
     "metadata": {
      "needs_background": "light"
     },
     "output_type": "display_data"
    }
   ],
   "source": [
    "from sklearn import metrics\n",
    "from sklearn.metrics import roc_auc_score\n",
    "\n",
    "\"\"\"预测并计算roc的相关指标\"\"\"\n",
    "val_pre_lgb = model.predict(X_val, num_iteration=model.best_iteration)\n",
    "fpr, tpr, threshold = metrics.roc_curve(y_val, val_pre_lgb)\n",
    "roc_auc = metrics.auc(fpr, tpr)\n",
    "print('未调参前lightgbm单模型在验证集上的AUC：{}'.format(roc_auc))\n",
    "\"\"\"画出roc曲线图\"\"\"\n",
    "plt.figure(figsize=(8, 8))\n",
    "plt.title('Validation ROC')\n",
    "plt.plot(fpr, tpr, 'b', label = 'Val AUC = %0.4f' % roc_auc)\n",
    "plt.ylim(0,1)\n",
    "plt.xlim(0,1)\n",
    "plt.legend(loc='best')\n",
    "plt.title('ROC')\n",
    "plt.ylabel('True Positive Rate')\n",
    "plt.xlabel('False Positive Rate')\n",
    "# 画出对角线\n",
    "plt.plot([0,1],[0,1],'r--')\n",
    "plt.show()"
   ]
  },
  {
   "cell_type": "code",
   "execution_count": 189,
   "id": "99f8af2f",
   "metadata": {
    "ExecuteTime": {
     "end_time": "2022-04-08T03:06:13.877730Z",
     "start_time": "2022-04-08T03:03:49.960226Z"
    }
   },
   "outputs": [
    {
     "name": "stdout",
     "output_type": "stream",
     "text": [
      "************************************ 1 ************************************\n",
      "[LightGBM] [Warning] Unknown parameter: silent\n",
      "Training until validation scores don't improve for 200 rounds\n",
      "Early stopping, best iteration is:\n",
      "[293]\tvalid_0's auc: 0.734899\n",
      "[0.7348988840123012]\n",
      "************************************ 2 ************************************\n",
      "[LightGBM] [Warning] Unknown parameter: silent\n",
      "Training until validation scores don't improve for 200 rounds\n",
      "Early stopping, best iteration is:\n",
      "[547]\tvalid_0's auc: 0.731212\n",
      "[0.7348988840123012, 0.7312115409283895]\n",
      "************************************ 3 ************************************\n",
      "[LightGBM] [Warning] Unknown parameter: silent\n",
      "Training until validation scores don't improve for 200 rounds\n",
      "Early stopping, best iteration is:\n",
      "[519]\tvalid_0's auc: 0.734706\n",
      "[0.7348988840123012, 0.7312115409283895, 0.7347056811356362]\n",
      "************************************ 4 ************************************\n",
      "[LightGBM] [Warning] Unknown parameter: silent\n",
      "Training until validation scores don't improve for 200 rounds\n",
      "Early stopping, best iteration is:\n",
      "[467]\tvalid_0's auc: 0.734271\n",
      "[0.7348988840123012, 0.7312115409283895, 0.7347056811356362, 0.7342711771837712]\n",
      "************************************ 5 ************************************\n",
      "[LightGBM] [Warning] Unknown parameter: silent\n",
      "Training until validation scores don't improve for 200 rounds\n",
      "Early stopping, best iteration is:\n",
      "[659]\tvalid_0's auc: 0.732982\n",
      "[0.7348988840123012, 0.7312115409283895, 0.7347056811356362, 0.7342711771837712, 0.7329823687173799]\n",
      "lgb_scotrainre_list:[0.7348988840123012, 0.7312115409283895, 0.7347056811356362, 0.7342711771837712, 0.7329823687173799]\n",
      "lgb_score_mean:0.7336139303954956\n",
      "lgb_score_std:0.001374434001439479\n"
     ]
    }
   ],
   "source": [
    "# 更进一步的，使用5折交叉验证进行模型性能评估\n",
    "\n",
    "import lightgbm as lgb\n",
    "\"\"\"使用lightgbm 5折交叉验证进行建模预测\"\"\"\n",
    "cv_scores = []\n",
    "for i, (train_index, valid_index) in enumerate(kf.split(X_train, y_train)):\n",
    "    print('************************************ {} ************************************'.format(str(i+1)))\n",
    "    X_train_split, y_train_split, X_val, y_val = X_train.iloc[train_index], y_train[train_index], X_train.iloc[valid_index], y_train[valid_index]\n",
    "    \n",
    "    train_matrix = lgb.Dataset(X_train_split, label=y_train_split)\n",
    "    valid_matrix = lgb.Dataset(X_val, label=y_val)\n",
    "\n",
    "    params = {\n",
    "                'boosting_type': 'gbdt',\n",
    "                'objective': 'binary',\n",
    "                'learning_rate': 0.1,\n",
    "                'metric': 'auc',\n",
    "        \n",
    "                'min_child_weight': 1e-3,\n",
    "                'num_leaves': 31,\n",
    "                'max_depth': -1,\n",
    "                'reg_lambda': 0,\n",
    "                'reg_alpha': 0,\n",
    "                'feature_fraction': 1,\n",
    "                'bagging_fraction': 1,\n",
    "                'bagging_freq': 0,\n",
    "                'seed': 2020,\n",
    "                'nthread': 8,\n",
    "                'silent': True,\n",
    "                'verbose': -1,\n",
    "    }\n",
    "    \n",
    "    model = lgb.train(params, train_set=train_matrix, num_boost_round=20000, valid_sets=valid_matrix, verbose_eval=1000, early_stopping_rounds=200)\n",
    "    val_pred = model.predict(X_val, num_iteration=model.best_iteration)\n",
    "    \n",
    "    cv_scores.append(roc_auc_score(y_val, val_pred))\n",
    "    print(cv_scores)\n",
    "\n",
    "print(\"lgb_scotrainre_list:{}\".format(cv_scores))\n",
    "print(\"lgb_score_mean:{}\".format(np.mean(cv_scores)))\n",
    "print(\"lgb_score_std:{}\".format(np.std(cv_scores)))"
   ]
  },
  {
   "cell_type": "markdown",
   "id": "23c51e21",
   "metadata": {},
   "source": [
    "### 调参——贪心调参"
   ]
  },
  {
   "cell_type": "markdown",
   "id": "e9e954e4",
   "metadata": {
    "ExecuteTime": {
     "end_time": "2022-04-08T03:07:47.582293Z",
     "start_time": "2022-04-08T03:07:47.563269Z"
    }
   },
   "source": [
    "- ①：max_depth、num_leaves\n",
    "- ②：min_data_in_leaf、min_child_weight\n",
    "- ③：bagging_fraction、 feature_fraction、bagging_freq\n",
    "- ④：reg_lambda、reg_alpha\n",
    "- ⑤：min_split_gain"
   ]
  },
  {
   "cell_type": "code",
   "execution_count": 202,
   "id": "21ee282c",
   "metadata": {
    "ExecuteTime": {
     "end_time": "2022-04-08T06:36:31.255826Z",
     "start_time": "2022-04-08T06:36:31.243309Z"
    }
   },
   "outputs": [
    {
     "data": {
      "text/plain": [
       "'\\nobjective = [\\'regression\\',\\'reg:logistic\\', \\'binary:logitraw\\']\\n\\n# 调objective\\nbest_obj = dict()\\nfor obj in objective:\\n    model = LGBMRegressor(objective=obj)\\n    \"\"\"预测并计算roc的相关指标\"\"\"\\n    score = cross_val_score(model, X_train, y_train, cv=5, scoring=\\'roc_auc\\').mean()\\n    best_obj[obj] = score\\n\\n# num_leaves\\nnum_leaves = [68,74,80,86,92]\\nbest_leaves = dict()\\nfor leaves in num_leaves:\\n    model = LGBMRegressor(objective=min(best_obj.items(), key=lambda x:x[1])[0], num_leaves=leaves)\\n    \"\"\"预测并计算roc的相关指标\"\"\"\\n    score = cross_val_score(model, X_train, y_train, cv=5, scoring=\\'roc_auc\\')#.mean()\\n    best_leaves[leaves] = score\\n\\n# max_depth\\nmax_depth = [6,7,8]\\nbest_depth = dict()\\n\"\"\"\\n可依次将模型的参数通过上面的方式进行调整优化，并且通过可视化观察在每一个最优参数下模型的得分情况\\n\"\"\"\\nfor depth in max_depth:\\n    model = LGBMRegressor(objective=min(best_obj.items(), key=lambda x:x[1])[0],\\n                          num_leaves=min(best_leaves.items(), key=lambda x:x[1])[0],\\n                          max_depth=depth)\\n    \"\"\"预测并计算roc的相关指标\"\"\"\\n    score = cross_val_score(model, X_train, y_train, cv=5, scoring=\\'roc_auc\\').mean()\\n    best_depth[depth] = score\\n    \\n'"
      ]
     },
     "execution_count": 202,
     "metadata": {},
     "output_type": "execute_result"
    }
   ],
   "source": [
    "from sklearn.model_selection import cross_val_score\n",
    "from lightgbm import LGBMRegressor\n",
    "'''\n",
    "objective = ['regression','reg:logistic', 'binary:logitraw']\n",
    "\n",
    "# 调objective\n",
    "best_obj = dict()\n",
    "for obj in objective:\n",
    "    model = LGBMRegressor(objective=obj)\n",
    "    \"\"\"预测并计算roc的相关指标\"\"\"\n",
    "    score = cross_val_score(model, X_train, y_train, cv=5, scoring='roc_auc').mean()\n",
    "    best_obj[obj] = score\n",
    "\n",
    "# num_leaves\n",
    "num_leaves = [68,74,80,86,92]\n",
    "best_leaves = dict()\n",
    "for leaves in num_leaves:\n",
    "    model = LGBMRegressor(objective=min(best_obj.items(), key=lambda x:x[1])[0], num_leaves=leaves)\n",
    "    \"\"\"预测并计算roc的相关指标\"\"\"\n",
    "    score = cross_val_score(model, X_train, y_train, cv=5, scoring='roc_auc')#.mean()\n",
    "    best_leaves[leaves] = score\n",
    "\n",
    "# max_depth\n",
    "max_depth = [6,7,8]\n",
    "best_depth = dict()\n",
    "\"\"\"\n",
    "可依次将模型的参数通过上面的方式进行调整优化，并且通过可视化观察在每一个最优参数下模型的得分情况\n",
    "\"\"\"\n",
    "for depth in max_depth:\n",
    "    model = LGBMRegressor(objective=min(best_obj.items(), key=lambda x:x[1])[0],\n",
    "                          num_leaves=min(best_leaves.items(), key=lambda x:x[1])[0],\n",
    "                          max_depth=depth)\n",
    "    \"\"\"预测并计算roc的相关指标\"\"\"\n",
    "    score = cross_val_score(model, X_train, y_train, cv=5, scoring='roc_auc').mean()\n",
    "    best_depth[depth] = score\n",
    "    \n",
    "'''\n",
    "\n"
   ]
  },
  {
   "cell_type": "markdown",
   "id": "5a1473c1",
   "metadata": {},
   "source": [
    "### 贝叶斯调参"
   ]
  },
  {
   "cell_type": "code",
   "execution_count": 192,
   "id": "e9b682b8",
   "metadata": {
    "ExecuteTime": {
     "end_time": "2022-04-08T03:14:54.325951Z",
     "start_time": "2022-04-08T03:14:54.246933Z"
    }
   },
   "outputs": [],
   "source": [
    "from sklearn.model_selection import cross_val_score\n",
    "\n",
    "\"\"\"定义优化函数\"\"\"\n",
    "def rf_cv_lgb(num_leaves, max_depth, bagging_fraction, feature_fraction, bagging_freq, min_data_in_leaf, \n",
    "              min_child_weight, min_split_gain, reg_lambda, reg_alpha):\n",
    "    # 建立模型\n",
    "    model_lgb = lgb.LGBMClassifier(boosting_type='gbdt', bjective='binary', metric='auc',\n",
    "                                   learning_rate=0.1, n_estimators=5000,\n",
    "                                   num_leaves=int(num_leaves), max_depth=int(max_depth), \n",
    "                                   bagging_fraction=round(bagging_fraction, 2), feature_fraction=round(feature_fraction, 2),\n",
    "                                   bagging_freq=int(bagging_freq), min_data_in_leaf=int(min_data_in_leaf),\n",
    "                                   min_child_weight=min_child_weight, min_split_gain=min_split_gain,\n",
    "                                   reg_lambda=reg_lambda, reg_alpha=reg_alpha,\n",
    "                                   n_jobs= 8\n",
    "                                  )\n",
    "\n",
    "    val = cross_val_score(model_lgb, X_train_split, y_train_split, cv=5, scoring='roc_auc').mean()\n",
    "\n",
    "    return val\n",
    "from bayes_opt import BayesianOptimization\n",
    "\"\"\"定义优化参数\"\"\"\n",
    "bayes_lgb = BayesianOptimization(\n",
    "    rf_cv_lgb, \n",
    "    {\n",
    "        'num_leaves':(10, 200),\n",
    "        'max_depth':(3, 20),\n",
    "        'bagging_fraction':(0.5, 1.0),\n",
    "        'feature_fraction':(0.5, 1.0),\n",
    "        'bagging_freq':(0, 100),\n",
    "        'min_data_in_leaf':(10,100),\n",
    "        'min_child_weight':(0, 10),\n",
    "        'min_split_gain':(0.0, 1.0),\n",
    "        'reg_alpha':(0.0, 10),\n",
    "        'reg_lambda':(0.0, 10),\n",
    "    }\n",
    ")"
   ]
  },
  {
   "cell_type": "code",
   "execution_count": 193,
   "id": "e698502c",
   "metadata": {
    "ExecuteTime": {
     "end_time": "2022-04-08T05:07:32.596159Z",
     "start_time": "2022-04-08T03:14:57.398885Z"
    }
   },
   "outputs": [
    {
     "name": "stdout",
     "output_type": "stream",
     "text": [
      "|   iter    |  target   | baggin... | baggin... | featur... | max_depth | min_ch... | min_da... | min_sp... | num_le... | reg_alpha | reg_la... |\n",
      "-------------------------------------------------------------------------------------------------------------------------------------------------\n",
      "[LightGBM] [Warning] Unknown parameter: bjective\n",
      "[LightGBM] [Warning] feature_fraction is set=0.91, colsample_bytree=1.0 will be ignored. Current value: feature_fraction=0.91\n",
      "[LightGBM] [Warning] min_data_in_leaf is set=32, min_child_samples=20 will be ignored. Current value: min_data_in_leaf=32\n",
      "[LightGBM] [Warning] bagging_fraction is set=0.69, subsample=1.0 will be ignored. Current value: bagging_fraction=0.69\n",
      "[LightGBM] [Warning] bagging_freq is set=35, subsample_freq=0 will be ignored. Current value: bagging_freq=35\n",
      "[LightGBM] [Warning] Unknown parameter: bjective\n",
      "[LightGBM] [Warning] feature_fraction is set=0.91, colsample_bytree=1.0 will be ignored. Current value: feature_fraction=0.91\n",
      "[LightGBM] [Warning] min_data_in_leaf is set=32, min_child_samples=20 will be ignored. Current value: min_data_in_leaf=32\n",
      "[LightGBM] [Warning] bagging_fraction is set=0.69, subsample=1.0 will be ignored. Current value: bagging_fraction=0.69\n",
      "[LightGBM] [Warning] bagging_freq is set=35, subsample_freq=0 will be ignored. Current value: bagging_freq=35\n",
      "[LightGBM] [Warning] Unknown parameter: bjective\n",
      "[LightGBM] [Warning] feature_fraction is set=0.91, colsample_bytree=1.0 will be ignored. Current value: feature_fraction=0.91\n",
      "[LightGBM] [Warning] min_data_in_leaf is set=32, min_child_samples=20 will be ignored. Current value: min_data_in_leaf=32\n",
      "[LightGBM] [Warning] bagging_fraction is set=0.69, subsample=1.0 will be ignored. Current value: bagging_fraction=0.69\n",
      "[LightGBM] [Warning] bagging_freq is set=35, subsample_freq=0 will be ignored. Current value: bagging_freq=35\n",
      "[LightGBM] [Warning] Unknown parameter: bjective\n",
      "[LightGBM] [Warning] feature_fraction is set=0.91, colsample_bytree=1.0 will be ignored. Current value: feature_fraction=0.91\n",
      "[LightGBM] [Warning] min_data_in_leaf is set=32, min_child_samples=20 will be ignored. Current value: min_data_in_leaf=32\n",
      "[LightGBM] [Warning] bagging_fraction is set=0.69, subsample=1.0 will be ignored. Current value: bagging_fraction=0.69\n",
      "[LightGBM] [Warning] bagging_freq is set=35, subsample_freq=0 will be ignored. Current value: bagging_freq=35\n",
      "[LightGBM] [Warning] Unknown parameter: bjective\n",
      "[LightGBM] [Warning] feature_fraction is set=0.91, colsample_bytree=1.0 will be ignored. Current value: feature_fraction=0.91\n",
      "[LightGBM] [Warning] min_data_in_leaf is set=32, min_child_samples=20 will be ignored. Current value: min_data_in_leaf=32\n",
      "[LightGBM] [Warning] bagging_fraction is set=0.69, subsample=1.0 will be ignored. Current value: bagging_fraction=0.69\n",
      "[LightGBM] [Warning] bagging_freq is set=35, subsample_freq=0 will be ignored. Current value: bagging_freq=35\n",
      "| \u001b[0m 1       \u001b[0m | \u001b[0m 0.7128  \u001b[0m | \u001b[0m 0.6933  \u001b[0m | \u001b[0m 35.96   \u001b[0m | \u001b[0m 0.915   \u001b[0m | \u001b[0m 15.56   \u001b[0m | \u001b[0m 6.449   \u001b[0m | \u001b[0m 32.5    \u001b[0m | \u001b[0m 0.2981  \u001b[0m | \u001b[0m 58.38   \u001b[0m | \u001b[0m 1.433   \u001b[0m | \u001b[0m 5.176   \u001b[0m |\n",
      "[LightGBM] [Warning] Unknown parameter: bjective\n",
      "[LightGBM] [Warning] feature_fraction is set=1.0, colsample_bytree=1.0 will be ignored. Current value: feature_fraction=1.0\n",
      "[LightGBM] [Warning] min_data_in_leaf is set=63, min_child_samples=20 will be ignored. Current value: min_data_in_leaf=63\n",
      "[LightGBM] [Warning] bagging_fraction is set=0.7, subsample=1.0 will be ignored. Current value: bagging_fraction=0.7\n",
      "[LightGBM] [Warning] bagging_freq is set=7, subsample_freq=0 will be ignored. Current value: bagging_freq=7\n",
      "[LightGBM] [Warning] Unknown parameter: bjective\n",
      "[LightGBM] [Warning] feature_fraction is set=1.0, colsample_bytree=1.0 will be ignored. Current value: feature_fraction=1.0\n",
      "[LightGBM] [Warning] min_data_in_leaf is set=63, min_child_samples=20 will be ignored. Current value: min_data_in_leaf=63\n",
      "[LightGBM] [Warning] bagging_fraction is set=0.7, subsample=1.0 will be ignored. Current value: bagging_fraction=0.7\n",
      "[LightGBM] [Warning] bagging_freq is set=7, subsample_freq=0 will be ignored. Current value: bagging_freq=7\n",
      "[LightGBM] [Warning] Unknown parameter: bjective\n",
      "[LightGBM] [Warning] feature_fraction is set=1.0, colsample_bytree=1.0 will be ignored. Current value: feature_fraction=1.0\n",
      "[LightGBM] [Warning] min_data_in_leaf is set=63, min_child_samples=20 will be ignored. Current value: min_data_in_leaf=63\n",
      "[LightGBM] [Warning] bagging_fraction is set=0.7, subsample=1.0 will be ignored. Current value: bagging_fraction=0.7\n",
      "[LightGBM] [Warning] bagging_freq is set=7, subsample_freq=0 will be ignored. Current value: bagging_freq=7\n",
      "[LightGBM] [Warning] Unknown parameter: bjective\n",
      "[LightGBM] [Warning] feature_fraction is set=1.0, colsample_bytree=1.0 will be ignored. Current value: feature_fraction=1.0\n",
      "[LightGBM] [Warning] min_data_in_leaf is set=63, min_child_samples=20 will be ignored. Current value: min_data_in_leaf=63\n",
      "[LightGBM] [Warning] bagging_fraction is set=0.7, subsample=1.0 will be ignored. Current value: bagging_fraction=0.7\n",
      "[LightGBM] [Warning] bagging_freq is set=7, subsample_freq=0 will be ignored. Current value: bagging_freq=7\n",
      "[LightGBM] [Warning] Unknown parameter: bjective\n",
      "[LightGBM] [Warning] feature_fraction is set=1.0, colsample_bytree=1.0 will be ignored. Current value: feature_fraction=1.0\n",
      "[LightGBM] [Warning] min_data_in_leaf is set=63, min_child_samples=20 will be ignored. Current value: min_data_in_leaf=63\n",
      "[LightGBM] [Warning] bagging_fraction is set=0.7, subsample=1.0 will be ignored. Current value: bagging_fraction=0.7\n",
      "[LightGBM] [Warning] bagging_freq is set=7, subsample_freq=0 will be ignored. Current value: bagging_freq=7\n",
      "| \u001b[95m 2       \u001b[0m | \u001b[95m 0.7249  \u001b[0m | \u001b[95m 0.697   \u001b[0m | \u001b[95m 7.138   \u001b[0m | \u001b[95m 0.9989  \u001b[0m | \u001b[95m 6.703   \u001b[0m | \u001b[95m 1.226   \u001b[0m | \u001b[95m 63.45   \u001b[0m | \u001b[95m 0.1837  \u001b[0m | \u001b[95m 22.65   \u001b[0m | \u001b[95m 5.025   \u001b[0m | \u001b[95m 9.781   \u001b[0m |\n",
      "[LightGBM] [Warning] Unknown parameter: bjective\n",
      "[LightGBM] [Warning] feature_fraction is set=0.77, colsample_bytree=1.0 will be ignored. Current value: feature_fraction=0.77\n",
      "[LightGBM] [Warning] min_data_in_leaf is set=71, min_child_samples=20 will be ignored. Current value: min_data_in_leaf=71\n",
      "[LightGBM] [Warning] bagging_fraction is set=0.66, subsample=1.0 will be ignored. Current value: bagging_fraction=0.66\n",
      "[LightGBM] [Warning] bagging_freq is set=15, subsample_freq=0 will be ignored. Current value: bagging_freq=15\n",
      "[LightGBM] [Warning] Unknown parameter: bjective\n",
      "[LightGBM] [Warning] feature_fraction is set=0.77, colsample_bytree=1.0 will be ignored. Current value: feature_fraction=0.77\n",
      "[LightGBM] [Warning] min_data_in_leaf is set=71, min_child_samples=20 will be ignored. Current value: min_data_in_leaf=71\n",
      "[LightGBM] [Warning] bagging_fraction is set=0.66, subsample=1.0 will be ignored. Current value: bagging_fraction=0.66\n",
      "[LightGBM] [Warning] bagging_freq is set=15, subsample_freq=0 will be ignored. Current value: bagging_freq=15\n",
      "[LightGBM] [Warning] Unknown parameter: bjective\n",
      "[LightGBM] [Warning] feature_fraction is set=0.77, colsample_bytree=1.0 will be ignored. Current value: feature_fraction=0.77\n",
      "[LightGBM] [Warning] min_data_in_leaf is set=71, min_child_samples=20 will be ignored. Current value: min_data_in_leaf=71\n",
      "[LightGBM] [Warning] bagging_fraction is set=0.66, subsample=1.0 will be ignored. Current value: bagging_fraction=0.66\n",
      "[LightGBM] [Warning] bagging_freq is set=15, subsample_freq=0 will be ignored. Current value: bagging_freq=15\n",
      "[LightGBM] [Warning] Unknown parameter: bjective\n",
      "[LightGBM] [Warning] feature_fraction is set=0.77, colsample_bytree=1.0 will be ignored. Current value: feature_fraction=0.77\n",
      "[LightGBM] [Warning] min_data_in_leaf is set=71, min_child_samples=20 will be ignored. Current value: min_data_in_leaf=71\n",
      "[LightGBM] [Warning] bagging_fraction is set=0.66, subsample=1.0 will be ignored. Current value: bagging_fraction=0.66\n",
      "[LightGBM] [Warning] bagging_freq is set=15, subsample_freq=0 will be ignored. Current value: bagging_freq=15\n",
      "[LightGBM] [Warning] Unknown parameter: bjective\n",
      "[LightGBM] [Warning] feature_fraction is set=0.77, colsample_bytree=1.0 will be ignored. Current value: feature_fraction=0.77\n",
      "[LightGBM] [Warning] min_data_in_leaf is set=71, min_child_samples=20 will be ignored. Current value: min_data_in_leaf=71\n",
      "[LightGBM] [Warning] bagging_fraction is set=0.66, subsample=1.0 will be ignored. Current value: bagging_fraction=0.66\n",
      "[LightGBM] [Warning] bagging_freq is set=15, subsample_freq=0 will be ignored. Current value: bagging_freq=15\n"
     ]
    },
    {
     "name": "stdout",
     "output_type": "stream",
     "text": [
      "| \u001b[0m 3       \u001b[0m | \u001b[0m 0.7178  \u001b[0m | \u001b[0m 0.6563  \u001b[0m | \u001b[0m 15.28   \u001b[0m | \u001b[0m 0.7682  \u001b[0m | \u001b[0m 14.33   \u001b[0m | \u001b[0m 6.945   \u001b[0m | \u001b[0m 71.23   \u001b[0m | \u001b[0m 0.7956  \u001b[0m | \u001b[0m 94.22   \u001b[0m | \u001b[0m 0.9644  \u001b[0m | \u001b[0m 1.163   \u001b[0m |\n",
      "[LightGBM] [Warning] Unknown parameter: bjective\n",
      "[LightGBM] [Warning] feature_fraction is set=0.75, colsample_bytree=1.0 will be ignored. Current value: feature_fraction=0.75\n",
      "[LightGBM] [Warning] min_data_in_leaf is set=61, min_child_samples=20 will be ignored. Current value: min_data_in_leaf=61\n",
      "[LightGBM] [Warning] bagging_fraction is set=0.74, subsample=1.0 will be ignored. Current value: bagging_fraction=0.74\n",
      "[LightGBM] [Warning] bagging_freq is set=59, subsample_freq=0 will be ignored. Current value: bagging_freq=59\n",
      "[LightGBM] [Warning] Unknown parameter: bjective\n",
      "[LightGBM] [Warning] feature_fraction is set=0.75, colsample_bytree=1.0 will be ignored. Current value: feature_fraction=0.75\n",
      "[LightGBM] [Warning] min_data_in_leaf is set=61, min_child_samples=20 will be ignored. Current value: min_data_in_leaf=61\n",
      "[LightGBM] [Warning] bagging_fraction is set=0.74, subsample=1.0 will be ignored. Current value: bagging_fraction=0.74\n",
      "[LightGBM] [Warning] bagging_freq is set=59, subsample_freq=0 will be ignored. Current value: bagging_freq=59\n",
      "[LightGBM] [Warning] Unknown parameter: bjective\n",
      "[LightGBM] [Warning] feature_fraction is set=0.75, colsample_bytree=1.0 will be ignored. Current value: feature_fraction=0.75\n",
      "[LightGBM] [Warning] min_data_in_leaf is set=61, min_child_samples=20 will be ignored. Current value: min_data_in_leaf=61\n",
      "[LightGBM] [Warning] bagging_fraction is set=0.74, subsample=1.0 will be ignored. Current value: bagging_fraction=0.74\n",
      "[LightGBM] [Warning] bagging_freq is set=59, subsample_freq=0 will be ignored. Current value: bagging_freq=59\n",
      "[LightGBM] [Warning] Unknown parameter: bjective\n",
      "[LightGBM] [Warning] feature_fraction is set=0.75, colsample_bytree=1.0 will be ignored. Current value: feature_fraction=0.75\n",
      "[LightGBM] [Warning] min_data_in_leaf is set=61, min_child_samples=20 will be ignored. Current value: min_data_in_leaf=61\n",
      "[LightGBM] [Warning] bagging_fraction is set=0.74, subsample=1.0 will be ignored. Current value: bagging_fraction=0.74\n",
      "[LightGBM] [Warning] bagging_freq is set=59, subsample_freq=0 will be ignored. Current value: bagging_freq=59\n",
      "[LightGBM] [Warning] Unknown parameter: bjective\n",
      "[LightGBM] [Warning] feature_fraction is set=0.75, colsample_bytree=1.0 will be ignored. Current value: feature_fraction=0.75\n",
      "[LightGBM] [Warning] min_data_in_leaf is set=61, min_child_samples=20 will be ignored. Current value: min_data_in_leaf=61\n",
      "[LightGBM] [Warning] bagging_fraction is set=0.74, subsample=1.0 will be ignored. Current value: bagging_fraction=0.74\n",
      "[LightGBM] [Warning] bagging_freq is set=59, subsample_freq=0 will be ignored. Current value: bagging_freq=59\n",
      "| \u001b[0m 4       \u001b[0m | \u001b[0m 0.7211  \u001b[0m | \u001b[0m 0.7385  \u001b[0m | \u001b[0m 59.45   \u001b[0m | \u001b[0m 0.7451  \u001b[0m | \u001b[0m 18.91   \u001b[0m | \u001b[0m 5.943   \u001b[0m | \u001b[0m 61.32   \u001b[0m | \u001b[0m 0.2923  \u001b[0m | \u001b[0m 73.75   \u001b[0m | \u001b[0m 5.21    \u001b[0m | \u001b[0m 8.661   \u001b[0m |\n",
      "[LightGBM] [Warning] Unknown parameter: bjective\n",
      "[LightGBM] [Warning] feature_fraction is set=0.86, colsample_bytree=1.0 will be ignored. Current value: feature_fraction=0.86\n",
      "[LightGBM] [Warning] min_data_in_leaf is set=84, min_child_samples=20 will be ignored. Current value: min_data_in_leaf=84\n",
      "[LightGBM] [Warning] bagging_fraction is set=0.94, subsample=1.0 will be ignored. Current value: bagging_fraction=0.94\n",
      "[LightGBM] [Warning] bagging_freq is set=18, subsample_freq=0 will be ignored. Current value: bagging_freq=18\n",
      "[LightGBM] [Warning] Unknown parameter: bjective\n",
      "[LightGBM] [Warning] feature_fraction is set=0.86, colsample_bytree=1.0 will be ignored. Current value: feature_fraction=0.86\n",
      "[LightGBM] [Warning] min_data_in_leaf is set=84, min_child_samples=20 will be ignored. Current value: min_data_in_leaf=84\n",
      "[LightGBM] [Warning] bagging_fraction is set=0.94, subsample=1.0 will be ignored. Current value: bagging_fraction=0.94\n",
      "[LightGBM] [Warning] bagging_freq is set=18, subsample_freq=0 will be ignored. Current value: bagging_freq=18\n",
      "[LightGBM] [Warning] Unknown parameter: bjective\n",
      "[LightGBM] [Warning] feature_fraction is set=0.86, colsample_bytree=1.0 will be ignored. Current value: feature_fraction=0.86\n",
      "[LightGBM] [Warning] min_data_in_leaf is set=84, min_child_samples=20 will be ignored. Current value: min_data_in_leaf=84\n",
      "[LightGBM] [Warning] bagging_fraction is set=0.94, subsample=1.0 will be ignored. Current value: bagging_fraction=0.94\n",
      "[LightGBM] [Warning] bagging_freq is set=18, subsample_freq=0 will be ignored. Current value: bagging_freq=18\n",
      "[LightGBM] [Warning] Unknown parameter: bjective\n",
      "[LightGBM] [Warning] feature_fraction is set=0.86, colsample_bytree=1.0 will be ignored. Current value: feature_fraction=0.86\n",
      "[LightGBM] [Warning] min_data_in_leaf is set=84, min_child_samples=20 will be ignored. Current value: min_data_in_leaf=84\n",
      "[LightGBM] [Warning] bagging_fraction is set=0.94, subsample=1.0 will be ignored. Current value: bagging_fraction=0.94\n",
      "[LightGBM] [Warning] bagging_freq is set=18, subsample_freq=0 will be ignored. Current value: bagging_freq=18\n",
      "[LightGBM] [Warning] Unknown parameter: bjective\n",
      "[LightGBM] [Warning] feature_fraction is set=0.86, colsample_bytree=1.0 will be ignored. Current value: feature_fraction=0.86\n",
      "[LightGBM] [Warning] min_data_in_leaf is set=84, min_child_samples=20 will be ignored. Current value: min_data_in_leaf=84\n",
      "[LightGBM] [Warning] bagging_fraction is set=0.94, subsample=1.0 will be ignored. Current value: bagging_fraction=0.94\n",
      "[LightGBM] [Warning] bagging_freq is set=18, subsample_freq=0 will be ignored. Current value: bagging_freq=18\n",
      "| \u001b[95m 5       \u001b[0m | \u001b[95m 0.7347  \u001b[0m | \u001b[95m 0.9417  \u001b[0m | \u001b[95m 18.2    \u001b[0m | \u001b[95m 0.8566  \u001b[0m | \u001b[95m 5.875   \u001b[0m | \u001b[95m 8.755   \u001b[0m | \u001b[95m 84.26   \u001b[0m | \u001b[95m 0.6602  \u001b[0m | \u001b[95m 38.47   \u001b[0m | \u001b[95m 1.193   \u001b[0m | \u001b[95m 9.103   \u001b[0m |\n",
      "[LightGBM] [Warning] Unknown parameter: bjective\n",
      "[LightGBM] [Warning] feature_fraction is set=0.73, colsample_bytree=1.0 will be ignored. Current value: feature_fraction=0.73\n",
      "[LightGBM] [Warning] min_data_in_leaf is set=60, min_child_samples=20 will be ignored. Current value: min_data_in_leaf=60\n",
      "[LightGBM] [Warning] bagging_fraction is set=0.85, subsample=1.0 will be ignored. Current value: bagging_fraction=0.85\n",
      "[LightGBM] [Warning] bagging_freq is set=10, subsample_freq=0 will be ignored. Current value: bagging_freq=10\n",
      "[LightGBM] [Warning] Unknown parameter: bjective\n",
      "[LightGBM] [Warning] feature_fraction is set=0.73, colsample_bytree=1.0 will be ignored. Current value: feature_fraction=0.73\n",
      "[LightGBM] [Warning] min_data_in_leaf is set=60, min_child_samples=20 will be ignored. Current value: min_data_in_leaf=60\n",
      "[LightGBM] [Warning] bagging_fraction is set=0.85, subsample=1.0 will be ignored. Current value: bagging_fraction=0.85\n",
      "[LightGBM] [Warning] bagging_freq is set=10, subsample_freq=0 will be ignored. Current value: bagging_freq=10\n",
      "[LightGBM] [Warning] Unknown parameter: bjective\n",
      "[LightGBM] [Warning] feature_fraction is set=0.73, colsample_bytree=1.0 will be ignored. Current value: feature_fraction=0.73\n",
      "[LightGBM] [Warning] min_data_in_leaf is set=60, min_child_samples=20 will be ignored. Current value: min_data_in_leaf=60\n",
      "[LightGBM] [Warning] bagging_fraction is set=0.85, subsample=1.0 will be ignored. Current value: bagging_fraction=0.85\n",
      "[LightGBM] [Warning] bagging_freq is set=10, subsample_freq=0 will be ignored. Current value: bagging_freq=10\n",
      "[LightGBM] [Warning] Unknown parameter: bjective\n",
      "[LightGBM] [Warning] feature_fraction is set=0.73, colsample_bytree=1.0 will be ignored. Current value: feature_fraction=0.73\n",
      "[LightGBM] [Warning] min_data_in_leaf is set=60, min_child_samples=20 will be ignored. Current value: min_data_in_leaf=60\n",
      "[LightGBM] [Warning] bagging_fraction is set=0.85, subsample=1.0 will be ignored. Current value: bagging_fraction=0.85\n",
      "[LightGBM] [Warning] bagging_freq is set=10, subsample_freq=0 will be ignored. Current value: bagging_freq=10\n",
      "[LightGBM] [Warning] Unknown parameter: bjective\n",
      "[LightGBM] [Warning] feature_fraction is set=0.73, colsample_bytree=1.0 will be ignored. Current value: feature_fraction=0.73\n",
      "[LightGBM] [Warning] min_data_in_leaf is set=60, min_child_samples=20 will be ignored. Current value: min_data_in_leaf=60\n",
      "[LightGBM] [Warning] bagging_fraction is set=0.85, subsample=1.0 will be ignored. Current value: bagging_fraction=0.85\n",
      "[LightGBM] [Warning] bagging_freq is set=10, subsample_freq=0 will be ignored. Current value: bagging_freq=10\n"
     ]
    },
    {
     "name": "stdout",
     "output_type": "stream",
     "text": [
      "| \u001b[0m 6       \u001b[0m | \u001b[0m 0.7325  \u001b[0m | \u001b[0m 0.854   \u001b[0m | \u001b[0m 10.7    \u001b[0m | \u001b[0m 0.7304  \u001b[0m | \u001b[0m 5.739   \u001b[0m | \u001b[0m 3.916   \u001b[0m | \u001b[0m 60.9    \u001b[0m | \u001b[0m 0.6166  \u001b[0m | \u001b[0m 21.64   \u001b[0m | \u001b[0m 3.995   \u001b[0m | \u001b[0m 8.734   \u001b[0m |\n",
      "[LightGBM] [Warning] Unknown parameter: bjective\n",
      "[LightGBM] [Warning] feature_fraction is set=0.51, colsample_bytree=1.0 will be ignored. Current value: feature_fraction=0.51\n",
      "[LightGBM] [Warning] min_data_in_leaf is set=64, min_child_samples=20 will be ignored. Current value: min_data_in_leaf=64\n",
      "[LightGBM] [Warning] bagging_fraction is set=0.79, subsample=1.0 will be ignored. Current value: bagging_fraction=0.79\n",
      "[LightGBM] [Warning] bagging_freq is set=11, subsample_freq=0 will be ignored. Current value: bagging_freq=11\n",
      "[LightGBM] [Warning] Unknown parameter: bjective\n",
      "[LightGBM] [Warning] feature_fraction is set=0.51, colsample_bytree=1.0 will be ignored. Current value: feature_fraction=0.51\n",
      "[LightGBM] [Warning] min_data_in_leaf is set=64, min_child_samples=20 will be ignored. Current value: min_data_in_leaf=64\n",
      "[LightGBM] [Warning] bagging_fraction is set=0.79, subsample=1.0 will be ignored. Current value: bagging_fraction=0.79\n",
      "[LightGBM] [Warning] bagging_freq is set=11, subsample_freq=0 will be ignored. Current value: bagging_freq=11\n",
      "[LightGBM] [Warning] Unknown parameter: bjective\n",
      "[LightGBM] [Warning] feature_fraction is set=0.51, colsample_bytree=1.0 will be ignored. Current value: feature_fraction=0.51\n",
      "[LightGBM] [Warning] min_data_in_leaf is set=64, min_child_samples=20 will be ignored. Current value: min_data_in_leaf=64\n",
      "[LightGBM] [Warning] bagging_fraction is set=0.79, subsample=1.0 will be ignored. Current value: bagging_fraction=0.79\n",
      "[LightGBM] [Warning] bagging_freq is set=11, subsample_freq=0 will be ignored. Current value: bagging_freq=11\n",
      "[LightGBM] [Warning] Unknown parameter: bjective\n",
      "[LightGBM] [Warning] feature_fraction is set=0.51, colsample_bytree=1.0 will be ignored. Current value: feature_fraction=0.51\n",
      "[LightGBM] [Warning] min_data_in_leaf is set=64, min_child_samples=20 will be ignored. Current value: min_data_in_leaf=64\n",
      "[LightGBM] [Warning] bagging_fraction is set=0.79, subsample=1.0 will be ignored. Current value: bagging_fraction=0.79\n",
      "[LightGBM] [Warning] bagging_freq is set=11, subsample_freq=0 will be ignored. Current value: bagging_freq=11\n",
      "[LightGBM] [Warning] Unknown parameter: bjective\n",
      "[LightGBM] [Warning] feature_fraction is set=0.51, colsample_bytree=1.0 will be ignored. Current value: feature_fraction=0.51\n",
      "[LightGBM] [Warning] min_data_in_leaf is set=64, min_child_samples=20 will be ignored. Current value: min_data_in_leaf=64\n",
      "[LightGBM] [Warning] bagging_fraction is set=0.79, subsample=1.0 will be ignored. Current value: bagging_fraction=0.79\n",
      "[LightGBM] [Warning] bagging_freq is set=11, subsample_freq=0 will be ignored. Current value: bagging_freq=11\n",
      "| \u001b[0m 7       \u001b[0m | \u001b[0m 0.7264  \u001b[0m | \u001b[0m 0.7896  \u001b[0m | \u001b[0m 11.29   \u001b[0m | \u001b[0m 0.505   \u001b[0m | \u001b[0m 9.593   \u001b[0m | \u001b[0m 6.324   \u001b[0m | \u001b[0m 64.24   \u001b[0m | \u001b[0m 0.5366  \u001b[0m | \u001b[0m 24.75   \u001b[0m | \u001b[0m 3.338   \u001b[0m | \u001b[0m 9.651   \u001b[0m |\n",
      "[LightGBM] [Warning] Unknown parameter: bjective\n",
      "[LightGBM] [Warning] feature_fraction is set=0.66, colsample_bytree=1.0 will be ignored. Current value: feature_fraction=0.66\n",
      "[LightGBM] [Warning] min_data_in_leaf is set=83, min_child_samples=20 will be ignored. Current value: min_data_in_leaf=83\n",
      "[LightGBM] [Warning] bagging_fraction is set=0.76, subsample=1.0 will be ignored. Current value: bagging_fraction=0.76\n",
      "[LightGBM] [Warning] bagging_freq is set=19, subsample_freq=0 will be ignored. Current value: bagging_freq=19\n",
      "[LightGBM] [Warning] Unknown parameter: bjective\n",
      "[LightGBM] [Warning] feature_fraction is set=0.66, colsample_bytree=1.0 will be ignored. Current value: feature_fraction=0.66\n",
      "[LightGBM] [Warning] min_data_in_leaf is set=83, min_child_samples=20 will be ignored. Current value: min_data_in_leaf=83\n",
      "[LightGBM] [Warning] bagging_fraction is set=0.76, subsample=1.0 will be ignored. Current value: bagging_fraction=0.76\n",
      "[LightGBM] [Warning] bagging_freq is set=19, subsample_freq=0 will be ignored. Current value: bagging_freq=19\n",
      "[LightGBM] [Warning] Unknown parameter: bjective\n",
      "[LightGBM] [Warning] feature_fraction is set=0.66, colsample_bytree=1.0 will be ignored. Current value: feature_fraction=0.66\n",
      "[LightGBM] [Warning] min_data_in_leaf is set=83, min_child_samples=20 will be ignored. Current value: min_data_in_leaf=83\n",
      "[LightGBM] [Warning] bagging_fraction is set=0.76, subsample=1.0 will be ignored. Current value: bagging_fraction=0.76\n",
      "[LightGBM] [Warning] bagging_freq is set=19, subsample_freq=0 will be ignored. Current value: bagging_freq=19\n",
      "[LightGBM] [Warning] Unknown parameter: bjective\n",
      "[LightGBM] [Warning] feature_fraction is set=0.66, colsample_bytree=1.0 will be ignored. Current value: feature_fraction=0.66\n",
      "[LightGBM] [Warning] min_data_in_leaf is set=83, min_child_samples=20 will be ignored. Current value: min_data_in_leaf=83\n",
      "[LightGBM] [Warning] bagging_fraction is set=0.76, subsample=1.0 will be ignored. Current value: bagging_fraction=0.76\n",
      "[LightGBM] [Warning] bagging_freq is set=19, subsample_freq=0 will be ignored. Current value: bagging_freq=19\n",
      "[LightGBM] [Warning] Unknown parameter: bjective\n",
      "[LightGBM] [Warning] feature_fraction is set=0.66, colsample_bytree=1.0 will be ignored. Current value: feature_fraction=0.66\n",
      "[LightGBM] [Warning] min_data_in_leaf is set=83, min_child_samples=20 will be ignored. Current value: min_data_in_leaf=83\n",
      "[LightGBM] [Warning] bagging_fraction is set=0.76, subsample=1.0 will be ignored. Current value: bagging_fraction=0.76\n",
      "[LightGBM] [Warning] bagging_freq is set=19, subsample_freq=0 will be ignored. Current value: bagging_freq=19\n",
      "| \u001b[0m 8       \u001b[0m | \u001b[0m 0.7346  \u001b[0m | \u001b[0m 0.7619  \u001b[0m | \u001b[0m 19.53   \u001b[0m | \u001b[0m 0.6637  \u001b[0m | \u001b[0m 5.568   \u001b[0m | \u001b[0m 8.796   \u001b[0m | \u001b[0m 83.37   \u001b[0m | \u001b[0m 0.976   \u001b[0m | \u001b[0m 41.97   \u001b[0m | \u001b[0m 4.427   \u001b[0m | \u001b[0m 7.124   \u001b[0m |\n",
      "[LightGBM] [Warning] Unknown parameter: bjective\n",
      "[LightGBM] [Warning] feature_fraction is set=0.79, colsample_bytree=1.0 will be ignored. Current value: feature_fraction=0.79\n",
      "[LightGBM] [Warning] min_data_in_leaf is set=52, min_child_samples=20 will be ignored. Current value: min_data_in_leaf=52\n",
      "[LightGBM] [Warning] bagging_fraction is set=0.67, subsample=1.0 will be ignored. Current value: bagging_fraction=0.67\n",
      "[LightGBM] [Warning] bagging_freq is set=17, subsample_freq=0 will be ignored. Current value: bagging_freq=17\n",
      "[LightGBM] [Warning] Unknown parameter: bjective\n",
      "[LightGBM] [Warning] feature_fraction is set=0.79, colsample_bytree=1.0 will be ignored. Current value: feature_fraction=0.79\n",
      "[LightGBM] [Warning] min_data_in_leaf is set=52, min_child_samples=20 will be ignored. Current value: min_data_in_leaf=52\n",
      "[LightGBM] [Warning] bagging_fraction is set=0.67, subsample=1.0 will be ignored. Current value: bagging_fraction=0.67\n",
      "[LightGBM] [Warning] bagging_freq is set=17, subsample_freq=0 will be ignored. Current value: bagging_freq=17\n",
      "[LightGBM] [Warning] Unknown parameter: bjective\n",
      "[LightGBM] [Warning] feature_fraction is set=0.79, colsample_bytree=1.0 will be ignored. Current value: feature_fraction=0.79\n",
      "[LightGBM] [Warning] min_data_in_leaf is set=52, min_child_samples=20 will be ignored. Current value: min_data_in_leaf=52\n",
      "[LightGBM] [Warning] bagging_fraction is set=0.67, subsample=1.0 will be ignored. Current value: bagging_fraction=0.67\n",
      "[LightGBM] [Warning] bagging_freq is set=17, subsample_freq=0 will be ignored. Current value: bagging_freq=17\n",
      "[LightGBM] [Warning] Unknown parameter: bjective\n",
      "[LightGBM] [Warning] feature_fraction is set=0.79, colsample_bytree=1.0 will be ignored. Current value: feature_fraction=0.79\n",
      "[LightGBM] [Warning] min_data_in_leaf is set=52, min_child_samples=20 will be ignored. Current value: min_data_in_leaf=52\n",
      "[LightGBM] [Warning] bagging_fraction is set=0.67, subsample=1.0 will be ignored. Current value: bagging_fraction=0.67\n",
      "[LightGBM] [Warning] bagging_freq is set=17, subsample_freq=0 will be ignored. Current value: bagging_freq=17\n",
      "[LightGBM] [Warning] Unknown parameter: bjective\n",
      "[LightGBM] [Warning] feature_fraction is set=0.79, colsample_bytree=1.0 will be ignored. Current value: feature_fraction=0.79\n",
      "[LightGBM] [Warning] min_data_in_leaf is set=52, min_child_samples=20 will be ignored. Current value: min_data_in_leaf=52\n",
      "[LightGBM] [Warning] bagging_fraction is set=0.67, subsample=1.0 will be ignored. Current value: bagging_fraction=0.67\n",
      "[LightGBM] [Warning] bagging_freq is set=17, subsample_freq=0 will be ignored. Current value: bagging_freq=17\n"
     ]
    },
    {
     "name": "stdout",
     "output_type": "stream",
     "text": [
      "| \u001b[0m 9       \u001b[0m | \u001b[0m 0.727   \u001b[0m | \u001b[0m 0.6686  \u001b[0m | \u001b[0m 17.92   \u001b[0m | \u001b[0m 0.7859  \u001b[0m | \u001b[0m 6.938   \u001b[0m | \u001b[0m 2.677   \u001b[0m | \u001b[0m 52.05   \u001b[0m | \u001b[0m 0.7076  \u001b[0m | \u001b[0m 19.6    \u001b[0m | \u001b[0m 4.259   \u001b[0m | \u001b[0m 7.031   \u001b[0m |\n",
      "[LightGBM] [Warning] Unknown parameter: bjective\n",
      "[LightGBM] [Warning] feature_fraction is set=0.5, colsample_bytree=1.0 will be ignored. Current value: feature_fraction=0.5\n",
      "[LightGBM] [Warning] min_data_in_leaf is set=87, min_child_samples=20 will be ignored. Current value: min_data_in_leaf=87\n",
      "[LightGBM] [Warning] bagging_fraction is set=0.97, subsample=1.0 will be ignored. Current value: bagging_fraction=0.97\n",
      "[LightGBM] [Warning] bagging_freq is set=20, subsample_freq=0 will be ignored. Current value: bagging_freq=20\n",
      "[LightGBM] [Warning] Unknown parameter: bjective\n",
      "[LightGBM] [Warning] feature_fraction is set=0.5, colsample_bytree=1.0 will be ignored. Current value: feature_fraction=0.5\n",
      "[LightGBM] [Warning] min_data_in_leaf is set=87, min_child_samples=20 will be ignored. Current value: min_data_in_leaf=87\n",
      "[LightGBM] [Warning] bagging_fraction is set=0.97, subsample=1.0 will be ignored. Current value: bagging_fraction=0.97\n",
      "[LightGBM] [Warning] bagging_freq is set=20, subsample_freq=0 will be ignored. Current value: bagging_freq=20\n",
      "[LightGBM] [Warning] Unknown parameter: bjective\n",
      "[LightGBM] [Warning] feature_fraction is set=0.5, colsample_bytree=1.0 will be ignored. Current value: feature_fraction=0.5\n",
      "[LightGBM] [Warning] min_data_in_leaf is set=87, min_child_samples=20 will be ignored. Current value: min_data_in_leaf=87\n",
      "[LightGBM] [Warning] bagging_fraction is set=0.97, subsample=1.0 will be ignored. Current value: bagging_fraction=0.97\n",
      "[LightGBM] [Warning] bagging_freq is set=20, subsample_freq=0 will be ignored. Current value: bagging_freq=20\n",
      "[LightGBM] [Warning] Unknown parameter: bjective\n",
      "[LightGBM] [Warning] feature_fraction is set=0.5, colsample_bytree=1.0 will be ignored. Current value: feature_fraction=0.5\n",
      "[LightGBM] [Warning] min_data_in_leaf is set=87, min_child_samples=20 will be ignored. Current value: min_data_in_leaf=87\n",
      "[LightGBM] [Warning] bagging_fraction is set=0.97, subsample=1.0 will be ignored. Current value: bagging_fraction=0.97\n",
      "[LightGBM] [Warning] bagging_freq is set=20, subsample_freq=0 will be ignored. Current value: bagging_freq=20\n",
      "[LightGBM] [Warning] Unknown parameter: bjective\n",
      "[LightGBM] [Warning] feature_fraction is set=0.5, colsample_bytree=1.0 will be ignored. Current value: feature_fraction=0.5\n",
      "[LightGBM] [Warning] min_data_in_leaf is set=87, min_child_samples=20 will be ignored. Current value: min_data_in_leaf=87\n",
      "[LightGBM] [Warning] bagging_fraction is set=0.97, subsample=1.0 will be ignored. Current value: bagging_fraction=0.97\n",
      "[LightGBM] [Warning] bagging_freq is set=20, subsample_freq=0 will be ignored. Current value: bagging_freq=20\n",
      "| \u001b[0m 10      \u001b[0m | \u001b[0m 0.733   \u001b[0m | \u001b[0m 0.9678  \u001b[0m | \u001b[0m 20.01   \u001b[0m | \u001b[0m 0.5     \u001b[0m | \u001b[0m 3.0     \u001b[0m | \u001b[0m 5.596   \u001b[0m | \u001b[0m 87.29   \u001b[0m | \u001b[0m 0.9858  \u001b[0m | \u001b[0m 35.34   \u001b[0m | \u001b[0m 8.595   \u001b[0m | \u001b[0m 8.452   \u001b[0m |\n",
      "[LightGBM] [Warning] Unknown parameter: bjective\n",
      "[LightGBM] [Warning] feature_fraction is set=0.89, colsample_bytree=1.0 will be ignored. Current value: feature_fraction=0.89\n",
      "[LightGBM] [Warning] min_data_in_leaf is set=75, min_child_samples=20 will be ignored. Current value: min_data_in_leaf=75\n",
      "[LightGBM] [Warning] bagging_fraction is set=0.9, subsample=1.0 will be ignored. Current value: bagging_fraction=0.9\n",
      "[LightGBM] [Warning] bagging_freq is set=27, subsample_freq=0 will be ignored. Current value: bagging_freq=27\n",
      "[LightGBM] [Warning] Unknown parameter: bjective\n",
      "[LightGBM] [Warning] feature_fraction is set=0.89, colsample_bytree=1.0 will be ignored. Current value: feature_fraction=0.89\n",
      "[LightGBM] [Warning] min_data_in_leaf is set=75, min_child_samples=20 will be ignored. Current value: min_data_in_leaf=75\n",
      "[LightGBM] [Warning] bagging_fraction is set=0.9, subsample=1.0 will be ignored. Current value: bagging_fraction=0.9\n",
      "[LightGBM] [Warning] bagging_freq is set=27, subsample_freq=0 will be ignored. Current value: bagging_freq=27\n",
      "[LightGBM] [Warning] Unknown parameter: bjective\n",
      "[LightGBM] [Warning] feature_fraction is set=0.89, colsample_bytree=1.0 will be ignored. Current value: feature_fraction=0.89\n",
      "[LightGBM] [Warning] min_data_in_leaf is set=75, min_child_samples=20 will be ignored. Current value: min_data_in_leaf=75\n",
      "[LightGBM] [Warning] bagging_fraction is set=0.9, subsample=1.0 will be ignored. Current value: bagging_fraction=0.9\n",
      "[LightGBM] [Warning] bagging_freq is set=27, subsample_freq=0 will be ignored. Current value: bagging_freq=27\n",
      "[LightGBM] [Warning] Unknown parameter: bjective\n",
      "[LightGBM] [Warning] feature_fraction is set=0.89, colsample_bytree=1.0 will be ignored. Current value: feature_fraction=0.89\n",
      "[LightGBM] [Warning] min_data_in_leaf is set=75, min_child_samples=20 will be ignored. Current value: min_data_in_leaf=75\n",
      "[LightGBM] [Warning] bagging_fraction is set=0.9, subsample=1.0 will be ignored. Current value: bagging_fraction=0.9\n",
      "[LightGBM] [Warning] bagging_freq is set=27, subsample_freq=0 will be ignored. Current value: bagging_freq=27\n",
      "[LightGBM] [Warning] Unknown parameter: bjective\n",
      "[LightGBM] [Warning] feature_fraction is set=0.89, colsample_bytree=1.0 will be ignored. Current value: feature_fraction=0.89\n",
      "[LightGBM] [Warning] min_data_in_leaf is set=75, min_child_samples=20 will be ignored. Current value: min_data_in_leaf=75\n",
      "[LightGBM] [Warning] bagging_fraction is set=0.9, subsample=1.0 will be ignored. Current value: bagging_fraction=0.9\n",
      "[LightGBM] [Warning] bagging_freq is set=27, subsample_freq=0 will be ignored. Current value: bagging_freq=27\n",
      "| \u001b[0m 11      \u001b[0m | \u001b[0m 0.7344  \u001b[0m | \u001b[0m 0.9049  \u001b[0m | \u001b[0m 27.21   \u001b[0m | \u001b[0m 0.8876  \u001b[0m | \u001b[0m 5.792   \u001b[0m | \u001b[0m 5.237   \u001b[0m | \u001b[0m 75.91   \u001b[0m | \u001b[0m 0.4771  \u001b[0m | \u001b[0m 36.99   \u001b[0m | \u001b[0m 3.233   \u001b[0m | \u001b[0m 6.347   \u001b[0m |\n",
      "[LightGBM] [Warning] Unknown parameter: bjective\n",
      "[LightGBM] [Warning] feature_fraction is set=1.0, colsample_bytree=1.0 will be ignored. Current value: feature_fraction=1.0\n",
      "[LightGBM] [Warning] min_data_in_leaf is set=85, min_child_samples=20 will be ignored. Current value: min_data_in_leaf=85\n",
      "[LightGBM] [Warning] bagging_fraction is set=0.98, subsample=1.0 will be ignored. Current value: bagging_fraction=0.98\n",
      "[LightGBM] [Warning] bagging_freq is set=25, subsample_freq=0 will be ignored. Current value: bagging_freq=25\n",
      "[LightGBM] [Warning] Unknown parameter: bjective\n",
      "[LightGBM] [Warning] feature_fraction is set=1.0, colsample_bytree=1.0 will be ignored. Current value: feature_fraction=1.0\n",
      "[LightGBM] [Warning] min_data_in_leaf is set=85, min_child_samples=20 will be ignored. Current value: min_data_in_leaf=85\n",
      "[LightGBM] [Warning] bagging_fraction is set=0.98, subsample=1.0 will be ignored. Current value: bagging_fraction=0.98\n",
      "[LightGBM] [Warning] bagging_freq is set=25, subsample_freq=0 will be ignored. Current value: bagging_freq=25\n",
      "[LightGBM] [Warning] Unknown parameter: bjective\n",
      "[LightGBM] [Warning] feature_fraction is set=1.0, colsample_bytree=1.0 will be ignored. Current value: feature_fraction=1.0\n",
      "[LightGBM] [Warning] min_data_in_leaf is set=85, min_child_samples=20 will be ignored. Current value: min_data_in_leaf=85\n",
      "[LightGBM] [Warning] bagging_fraction is set=0.98, subsample=1.0 will be ignored. Current value: bagging_fraction=0.98\n",
      "[LightGBM] [Warning] bagging_freq is set=25, subsample_freq=0 will be ignored. Current value: bagging_freq=25\n",
      "[LightGBM] [Warning] Unknown parameter: bjective\n",
      "[LightGBM] [Warning] feature_fraction is set=1.0, colsample_bytree=1.0 will be ignored. Current value: feature_fraction=1.0\n",
      "[LightGBM] [Warning] min_data_in_leaf is set=85, min_child_samples=20 will be ignored. Current value: min_data_in_leaf=85\n",
      "[LightGBM] [Warning] bagging_fraction is set=0.98, subsample=1.0 will be ignored. Current value: bagging_fraction=0.98\n",
      "[LightGBM] [Warning] bagging_freq is set=25, subsample_freq=0 will be ignored. Current value: bagging_freq=25\n",
      "[LightGBM] [Warning] Unknown parameter: bjective\n",
      "[LightGBM] [Warning] feature_fraction is set=1.0, colsample_bytree=1.0 will be ignored. Current value: feature_fraction=1.0\n",
      "[LightGBM] [Warning] min_data_in_leaf is set=85, min_child_samples=20 will be ignored. Current value: min_data_in_leaf=85\n",
      "[LightGBM] [Warning] bagging_fraction is set=0.98, subsample=1.0 will be ignored. Current value: bagging_fraction=0.98\n",
      "[LightGBM] [Warning] bagging_freq is set=25, subsample_freq=0 will be ignored. Current value: bagging_freq=25\n"
     ]
    },
    {
     "name": "stdout",
     "output_type": "stream",
     "text": [
      "| \u001b[0m 12      \u001b[0m | \u001b[0m 0.7335  \u001b[0m | \u001b[0m 0.978   \u001b[0m | \u001b[0m 25.85   \u001b[0m | \u001b[0m 1.0     \u001b[0m | \u001b[0m 3.0     \u001b[0m | \u001b[0m 10.0    \u001b[0m | \u001b[0m 85.05   \u001b[0m | \u001b[0m 1.0     \u001b[0m | \u001b[0m 35.41   \u001b[0m | \u001b[0m 0.1671  \u001b[0m | \u001b[0m 0.0     \u001b[0m |\n",
      "[LightGBM] [Warning] Unknown parameter: bjective\n",
      "[LightGBM] [Warning] feature_fraction is set=1.0, colsample_bytree=1.0 will be ignored. Current value: feature_fraction=1.0\n",
      "[LightGBM] [Warning] min_data_in_leaf is set=87, min_child_samples=20 will be ignored. Current value: min_data_in_leaf=87\n",
      "[LightGBM] [Warning] bagging_fraction is set=1.0, subsample=1.0 will be ignored. Current value: bagging_fraction=1.0\n",
      "[LightGBM] [Warning] bagging_freq is set=29, subsample_freq=0 will be ignored. Current value: bagging_freq=29\n",
      "[LightGBM] [Warning] Unknown parameter: bjective\n",
      "[LightGBM] [Warning] feature_fraction is set=1.0, colsample_bytree=1.0 will be ignored. Current value: feature_fraction=1.0\n",
      "[LightGBM] [Warning] min_data_in_leaf is set=87, min_child_samples=20 will be ignored. Current value: min_data_in_leaf=87\n",
      "[LightGBM] [Warning] bagging_fraction is set=1.0, subsample=1.0 will be ignored. Current value: bagging_fraction=1.0\n",
      "[LightGBM] [Warning] bagging_freq is set=29, subsample_freq=0 will be ignored. Current value: bagging_freq=29\n",
      "[LightGBM] [Warning] Unknown parameter: bjective\n",
      "[LightGBM] [Warning] feature_fraction is set=1.0, colsample_bytree=1.0 will be ignored. Current value: feature_fraction=1.0\n",
      "[LightGBM] [Warning] min_data_in_leaf is set=87, min_child_samples=20 will be ignored. Current value: min_data_in_leaf=87\n",
      "[LightGBM] [Warning] bagging_fraction is set=1.0, subsample=1.0 will be ignored. Current value: bagging_fraction=1.0\n",
      "[LightGBM] [Warning] bagging_freq is set=29, subsample_freq=0 will be ignored. Current value: bagging_freq=29\n",
      "[LightGBM] [Warning] Unknown parameter: bjective\n",
      "[LightGBM] [Warning] feature_fraction is set=1.0, colsample_bytree=1.0 will be ignored. Current value: feature_fraction=1.0\n",
      "[LightGBM] [Warning] min_data_in_leaf is set=87, min_child_samples=20 will be ignored. Current value: min_data_in_leaf=87\n",
      "[LightGBM] [Warning] bagging_fraction is set=1.0, subsample=1.0 will be ignored. Current value: bagging_fraction=1.0\n",
      "[LightGBM] [Warning] bagging_freq is set=29, subsample_freq=0 will be ignored. Current value: bagging_freq=29\n",
      "[LightGBM] [Warning] Unknown parameter: bjective\n",
      "[LightGBM] [Warning] feature_fraction is set=1.0, colsample_bytree=1.0 will be ignored. Current value: feature_fraction=1.0\n",
      "[LightGBM] [Warning] min_data_in_leaf is set=87, min_child_samples=20 will be ignored. Current value: min_data_in_leaf=87\n",
      "[LightGBM] [Warning] bagging_fraction is set=1.0, subsample=1.0 will be ignored. Current value: bagging_fraction=1.0\n",
      "[LightGBM] [Warning] bagging_freq is set=29, subsample_freq=0 will be ignored. Current value: bagging_freq=29\n",
      "| \u001b[0m 13      \u001b[0m | \u001b[0m 0.7217  \u001b[0m | \u001b[0m 1.0     \u001b[0m | \u001b[0m 29.25   \u001b[0m | \u001b[0m 1.0     \u001b[0m | \u001b[0m 8.081   \u001b[0m | \u001b[0m 2.239   \u001b[0m | \u001b[0m 87.47   \u001b[0m | \u001b[0m 0.0     \u001b[0m | \u001b[0m 41.01   \u001b[0m | \u001b[0m 0.0     \u001b[0m | \u001b[0m 9.016   \u001b[0m |\n",
      "[LightGBM] [Warning] Unknown parameter: bjective\n",
      "[LightGBM] [Warning] feature_fraction is set=0.87, colsample_bytree=1.0 will be ignored. Current value: feature_fraction=0.87\n",
      "[LightGBM] [Warning] min_data_in_leaf is set=79, min_child_samples=20 will be ignored. Current value: min_data_in_leaf=79\n",
      "[LightGBM] [Warning] bagging_fraction is set=0.6, subsample=1.0 will be ignored. Current value: bagging_fraction=0.6\n",
      "[LightGBM] [Warning] bagging_freq is set=14, subsample_freq=0 will be ignored. Current value: bagging_freq=14\n",
      "[LightGBM] [Warning] Unknown parameter: bjective\n",
      "[LightGBM] [Warning] feature_fraction is set=0.87, colsample_bytree=1.0 will be ignored. Current value: feature_fraction=0.87\n",
      "[LightGBM] [Warning] min_data_in_leaf is set=79, min_child_samples=20 will be ignored. Current value: min_data_in_leaf=79\n",
      "[LightGBM] [Warning] bagging_fraction is set=0.6, subsample=1.0 will be ignored. Current value: bagging_fraction=0.6\n",
      "[LightGBM] [Warning] bagging_freq is set=14, subsample_freq=0 will be ignored. Current value: bagging_freq=14\n",
      "[LightGBM] [Warning] Unknown parameter: bjective\n",
      "[LightGBM] [Warning] feature_fraction is set=0.87, colsample_bytree=1.0 will be ignored. Current value: feature_fraction=0.87\n",
      "[LightGBM] [Warning] min_data_in_leaf is set=79, min_child_samples=20 will be ignored. Current value: min_data_in_leaf=79\n",
      "[LightGBM] [Warning] bagging_fraction is set=0.6, subsample=1.0 will be ignored. Current value: bagging_fraction=0.6\n",
      "[LightGBM] [Warning] bagging_freq is set=14, subsample_freq=0 will be ignored. Current value: bagging_freq=14\n",
      "[LightGBM] [Warning] Unknown parameter: bjective\n",
      "[LightGBM] [Warning] feature_fraction is set=0.87, colsample_bytree=1.0 will be ignored. Current value: feature_fraction=0.87\n",
      "[LightGBM] [Warning] min_data_in_leaf is set=79, min_child_samples=20 will be ignored. Current value: min_data_in_leaf=79\n",
      "[LightGBM] [Warning] bagging_fraction is set=0.6, subsample=1.0 will be ignored. Current value: bagging_fraction=0.6\n",
      "[LightGBM] [Warning] bagging_freq is set=14, subsample_freq=0 will be ignored. Current value: bagging_freq=14\n",
      "[LightGBM] [Warning] Unknown parameter: bjective\n",
      "[LightGBM] [Warning] feature_fraction is set=0.87, colsample_bytree=1.0 will be ignored. Current value: feature_fraction=0.87\n",
      "[LightGBM] [Warning] min_data_in_leaf is set=79, min_child_samples=20 will be ignored. Current value: min_data_in_leaf=79\n",
      "[LightGBM] [Warning] bagging_fraction is set=0.6, subsample=1.0 will be ignored. Current value: bagging_fraction=0.6\n",
      "[LightGBM] [Warning] bagging_freq is set=14, subsample_freq=0 will be ignored. Current value: bagging_freq=14\n",
      "| \u001b[0m 14      \u001b[0m | \u001b[0m 0.7188  \u001b[0m | \u001b[0m 0.5971  \u001b[0m | \u001b[0m 14.35   \u001b[0m | \u001b[0m 0.8705  \u001b[0m | \u001b[0m 6.163   \u001b[0m | \u001b[0m 8.366   \u001b[0m | \u001b[0m 79.32   \u001b[0m | \u001b[0m 0.000787\u001b[0m | \u001b[0m 32.08   \u001b[0m | \u001b[0m 4.453   \u001b[0m | \u001b[0m 3.165   \u001b[0m |\n",
      "[LightGBM] [Warning] Unknown parameter: bjective\n",
      "[LightGBM] [Warning] feature_fraction is set=0.52, colsample_bytree=1.0 will be ignored. Current value: feature_fraction=0.52\n",
      "[LightGBM] [Warning] min_data_in_leaf is set=75, min_child_samples=20 will be ignored. Current value: min_data_in_leaf=75\n",
      "[LightGBM] [Warning] bagging_fraction is set=0.77, subsample=1.0 will be ignored. Current value: bagging_fraction=0.77\n",
      "[LightGBM] [Warning] bagging_freq is set=33, subsample_freq=0 will be ignored. Current value: bagging_freq=33\n",
      "[LightGBM] [Warning] Unknown parameter: bjective\n",
      "[LightGBM] [Warning] feature_fraction is set=0.52, colsample_bytree=1.0 will be ignored. Current value: feature_fraction=0.52\n",
      "[LightGBM] [Warning] min_data_in_leaf is set=75, min_child_samples=20 will be ignored. Current value: min_data_in_leaf=75\n",
      "[LightGBM] [Warning] bagging_fraction is set=0.77, subsample=1.0 will be ignored. Current value: bagging_fraction=0.77\n",
      "[LightGBM] [Warning] bagging_freq is set=33, subsample_freq=0 will be ignored. Current value: bagging_freq=33\n",
      "[LightGBM] [Warning] Unknown parameter: bjective\n",
      "[LightGBM] [Warning] feature_fraction is set=0.52, colsample_bytree=1.0 will be ignored. Current value: feature_fraction=0.52\n",
      "[LightGBM] [Warning] min_data_in_leaf is set=75, min_child_samples=20 will be ignored. Current value: min_data_in_leaf=75\n",
      "[LightGBM] [Warning] bagging_fraction is set=0.77, subsample=1.0 will be ignored. Current value: bagging_fraction=0.77\n",
      "[LightGBM] [Warning] bagging_freq is set=33, subsample_freq=0 will be ignored. Current value: bagging_freq=33\n",
      "[LightGBM] [Warning] Unknown parameter: bjective\n",
      "[LightGBM] [Warning] feature_fraction is set=0.52, colsample_bytree=1.0 will be ignored. Current value: feature_fraction=0.52\n",
      "[LightGBM] [Warning] min_data_in_leaf is set=75, min_child_samples=20 will be ignored. Current value: min_data_in_leaf=75\n",
      "[LightGBM] [Warning] bagging_fraction is set=0.77, subsample=1.0 will be ignored. Current value: bagging_fraction=0.77\n",
      "[LightGBM] [Warning] bagging_freq is set=33, subsample_freq=0 will be ignored. Current value: bagging_freq=33\n",
      "[LightGBM] [Warning] Unknown parameter: bjective\n",
      "[LightGBM] [Warning] feature_fraction is set=0.52, colsample_bytree=1.0 will be ignored. Current value: feature_fraction=0.52\n",
      "[LightGBM] [Warning] min_data_in_leaf is set=75, min_child_samples=20 will be ignored. Current value: min_data_in_leaf=75\n",
      "[LightGBM] [Warning] bagging_fraction is set=0.77, subsample=1.0 will be ignored. Current value: bagging_fraction=0.77\n",
      "[LightGBM] [Warning] bagging_freq is set=33, subsample_freq=0 will be ignored. Current value: bagging_freq=33\n"
     ]
    },
    {
     "name": "stdout",
     "output_type": "stream",
     "text": [
      "| \u001b[0m 15      \u001b[0m | \u001b[0m 0.7344  \u001b[0m | \u001b[0m 0.7722  \u001b[0m | \u001b[0m 33.82   \u001b[0m | \u001b[0m 0.5184  \u001b[0m | \u001b[0m 4.326   \u001b[0m | \u001b[0m 9.521   \u001b[0m | \u001b[0m 75.17   \u001b[0m | \u001b[0m 0.8957  \u001b[0m | \u001b[0m 36.36   \u001b[0m | \u001b[0m 2.094   \u001b[0m | \u001b[0m 4.153   \u001b[0m |\n",
      "=================================================================================================================================================\n"
     ]
    }
   ],
   "source": [
    "# 开始优化\n",
    "bayes_lgb.maximize(n_iter=10)"
   ]
  },
  {
   "cell_type": "code",
   "execution_count": 194,
   "id": "95e8aa58",
   "metadata": {
    "ExecuteTime": {
     "end_time": "2022-04-08T05:20:36.637153Z",
     "start_time": "2022-04-08T05:20:36.624143Z"
    }
   },
   "outputs": [
    {
     "data": {
      "text/plain": [
       "{'target': 0.7346635692660806,\n",
       " 'params': {'bagging_fraction': 0.9417242771750516,\n",
       "  'bagging_freq': 18.196951181672606,\n",
       "  'feature_fraction': 0.8566373988024287,\n",
       "  'max_depth': 5.875367919538219,\n",
       "  'min_child_weight': 8.754939026684232,\n",
       "  'min_data_in_leaf': 84.26427955245637,\n",
       "  'min_split_gain': 0.6601995334157713,\n",
       "  'num_leaves': 38.4707126876427,\n",
       "  'reg_alpha': 1.192571146609609,\n",
       "  'reg_lambda': 9.10333300087211}}"
      ]
     },
     "execution_count": 194,
     "metadata": {},
     "output_type": "execute_result"
    }
   ],
   "source": [
    "# 显示优化结果\n",
    "bayes_lgb.max"
   ]
  },
  {
   "cell_type": "code",
   "execution_count": null,
   "id": "0bdf4daa",
   "metadata": {},
   "outputs": [],
   "source": [
    "'params': {'bagging_fraction': 0.9417242771750516,\n",
    "  'bagging_freq': 18.196951181672606,\n",
    "  'feature_fraction': 0.8566373988024287,\n",
    "  'max_depth': 5.875367919538219,\n",
    "  'min_child_weight': 8.754939026684232,\n",
    "  'min_data_in_leaf': 84.26427955245637,\n",
    "  'min_split_gain': 0.6601995334157713,\n",
    "  'num_leaves': 38.4707126876427,\n",
    "  'reg_alpha': 1.192571146609609,\n",
    "  'reg_lambda': 9.10333300087211}"
   ]
  },
  {
   "cell_type": "code",
   "execution_count": 198,
   "id": "8315c6ab",
   "metadata": {
    "ExecuteTime": {
     "end_time": "2022-04-08T06:02:10.908013Z",
     "start_time": "2022-04-08T05:38:59.510627Z"
    }
   },
   "outputs": [
    {
     "name": "stdout",
     "output_type": "stream",
     "text": [
      "迭代次数7836\n",
      "最终模型的AUC为0.7360206599567383\n"
     ]
    }
   ],
   "source": [
    "\"\"\"调整一个较小的学习率，并通过cv函数确定当前最优的迭代次数\"\"\"\n",
    "base_params_lgb = {\n",
    "                    'boosting_type': 'gbdt',\n",
    "                    'objective': 'binary',\n",
    "                    'metric': 'auc',\n",
    "                    'learning_rate': 0.01,\n",
    "                    'num_leaves': 38,\n",
    "                    'max_depth': 6,\n",
    "                    'min_data_in_leaf': 84,\n",
    "                    'min_child_weight':8.7,\n",
    "                    'bagging_fraction': 0.94,\n",
    "                    'feature_fraction': 0.86,\n",
    "                    'bagging_freq': 18,\n",
    "                    'reg_lambda': 9,\n",
    "                    'reg_alpha': 1.2,\n",
    "                    'min_split_gain': 0.66,\n",
    "                    'nthread': 8,\n",
    "                    'seed': 2020,\n",
    "                    'silent': True,\n",
    "                    'verbose': -1,\n",
    "}\n",
    "\n",
    "cv_result_lgb = lgb.cv(\n",
    "    train_set=train_matrix,\n",
    "    early_stopping_rounds=1000, \n",
    "    num_boost_round=15000,\n",
    "    nfold=5,\n",
    "    stratified=True,\n",
    "    shuffle=True,\n",
    "    params=base_params_lgb,\n",
    "    metrics='auc',\n",
    "    seed=0\n",
    ")\n",
    "\n",
    "print('迭代次数{}'.format(len(cv_result_lgb['auc-mean'])))\n",
    "print('最终模型的AUC为{}'.format(max(cv_result_lgb['auc-mean'])))"
   ]
  },
  {
   "cell_type": "code",
   "execution_count": 201,
   "id": "456b6400",
   "metadata": {
    "ExecuteTime": {
     "end_time": "2022-04-08T06:36:31.240309Z",
     "start_time": "2022-04-08T06:12:19.585309Z"
    }
   },
   "outputs": [
    {
     "name": "stdout",
     "output_type": "stream",
     "text": [
      "************************************ 1 ************************************\n",
      "Training until validation scores don't improve for 200 rounds\n",
      "[1000]\tvalid_0's auc: 0.732659\n",
      "[2000]\tvalid_0's auc: 0.73556\n",
      "[3000]\tvalid_0's auc: 0.736462\n",
      "[4000]\tvalid_0's auc: 0.736988\n",
      "[5000]\tvalid_0's auc: 0.737339\n",
      "Early stopping, best iteration is:\n",
      "[5714]\tvalid_0's auc: 0.737491\n",
      "[0.7374914714479888]\n",
      "************************************ 2 ************************************\n",
      "[LightGBM] [Warning] Unknown parameter: silent\n",
      "Training until validation scores don't improve for 200 rounds\n",
      "[1000]\tvalid_0's auc: 0.728689\n",
      "[2000]\tvalid_0's auc: 0.731833\n",
      "[3000]\tvalid_0's auc: 0.732961\n",
      "[4000]\tvalid_0's auc: 0.733614\n",
      "[5000]\tvalid_0's auc: 0.733928\n",
      "Early stopping, best iteration is:\n",
      "[5526]\tvalid_0's auc: 0.734037\n",
      "[0.7374914714479888, 0.7340370406009501]\n",
      "************************************ 3 ************************************\n",
      "[LightGBM] [Warning] Unknown parameter: silent\n",
      "Training until validation scores don't improve for 200 rounds\n",
      "[1000]\tvalid_0's auc: 0.732023\n",
      "[2000]\tvalid_0's auc: 0.735299\n",
      "[3000]\tvalid_0's auc: 0.736504\n",
      "[4000]\tvalid_0's auc: 0.73709\n",
      "[5000]\tvalid_0's auc: 0.737487\n",
      "[6000]\tvalid_0's auc: 0.737677\n",
      "Early stopping, best iteration is:\n",
      "[5960]\tvalid_0's auc: 0.737688\n",
      "[0.7374914714479888, 0.7340370406009501, 0.7376883005228263]\n",
      "************************************ 4 ************************************\n",
      "[LightGBM] [Warning] Unknown parameter: silent\n",
      "Training until validation scores don't improve for 200 rounds\n",
      "[1000]\tvalid_0's auc: 0.731303\n",
      "[2000]\tvalid_0's auc: 0.734762\n",
      "[3000]\tvalid_0's auc: 0.736054\n",
      "[4000]\tvalid_0's auc: 0.736542\n",
      "[5000]\tvalid_0's auc: 0.736887\n",
      "Early stopping, best iteration is:\n",
      "[5199]\tvalid_0's auc: 0.736968\n",
      "[0.7374914714479888, 0.7340370406009501, 0.7376883005228263, 0.7369680038609054]\n",
      "************************************ 5 ************************************\n",
      "[LightGBM] [Warning] Unknown parameter: silent\n",
      "Training until validation scores don't improve for 200 rounds\n",
      "[1000]\tvalid_0's auc: 0.73014\n",
      "[2000]\tvalid_0's auc: 0.733512\n",
      "[3000]\tvalid_0's auc: 0.734812\n",
      "[4000]\tvalid_0's auc: 0.735585\n",
      "[5000]\tvalid_0's auc: 0.735896\n",
      "[6000]\tvalid_0's auc: 0.736013\n",
      "Early stopping, best iteration is:\n",
      "[6703]\tvalid_0's auc: 0.736164\n",
      "[0.7374914714479888, 0.7340370406009501, 0.7376883005228263, 0.7369680038609054, 0.736164243746845]\n",
      "lgb_scotrainre_list:[0.7374914714479888, 0.7340370406009501, 0.7376883005228263, 0.7369680038609054, 0.736164243746845]\n",
      "lgb_score_mean:0.7364698120359031\n",
      "lgb_score_std:0.0013257787202672995\n"
     ]
    }
   ],
   "source": [
    "# 模型参数已经确定，建立最终模型并对验证集进行验证\n",
    "\n",
    "import lightgbm as lgb\n",
    "\"\"\"使用lightgbm 5折交叉验证进行建模预测\"\"\"\n",
    "cv_scores = []\n",
    "for i, (train_index, valid_index) in enumerate(kf.split(X_train, y_train)):\n",
    "    print('************************************ {} ************************************'.format(str(i+1)))\n",
    "    X_train_split, y_train_split, X_val, y_val = X_train.iloc[train_index], y_train[train_index], X_train.iloc[valid_index], y_train[valid_index]\n",
    "      \n",
    "    train_matrix = lgb.Dataset(X_train_split, label=y_train_split)\n",
    "    valid_matrix = lgb.Dataset(X_val, label=y_val)\n",
    "    '''\n",
    "        params = {\n",
    "                  'boosting_type': 'gbdt',\n",
    "                  'objective': 'binary',\n",
    "                  'metric': 'auc',\n",
    "                  'learning_rate': 0.01,\n",
    "                  'num_leaves': 14,\n",
    "                  'max_depth': 19,\n",
    "                  'min_data_in_leaf': 37,\n",
    "                  'min_child_weight':1.6,\n",
    "                  'bagging_fraction': 0.98,\n",
    "                  'feature_fraction': 0.69,\n",
    "                  'bagging_freq': 96,\n",
    "                  'reg_lambda': 9,\n",
    "                  'reg_alpha': 7,\n",
    "                  'min_split_gain': 0.4,\n",
    "                  'nthread': 8,\n",
    "                  'seed': 2020,\n",
    "                  'silent': True,\n",
    "      }\n",
    "      '''\n",
    "    params = {\n",
    "                'boosting_type': 'gbdt',\n",
    "                'objective': 'binary',\n",
    "                'metric': 'auc',\n",
    "                'learning_rate': 0.01,\n",
    "                'num_leaves': 38,\n",
    "                'max_depth': 6,\n",
    "                'min_data_in_leaf': 84,\n",
    "                'min_child_weight':8.7,\n",
    "                'bagging_fraction': 0.94,\n",
    "                'feature_fraction': 0.86,\n",
    "                'bagging_freq': 18,\n",
    "                'reg_lambda': 9,\n",
    "                'reg_alpha': 1.2,\n",
    "                'min_split_gain': 0.66,\n",
    "                'nthread': 8,\n",
    "                'seed': 2020,\n",
    "                'silent': True,\n",
    "                'verbose': -1,\n",
    "      }\n",
    "\n",
    "      \n",
    "    model = lgb.train(params, train_set=train_matrix, num_boost_round=7836, valid_sets=valid_matrix, verbose_eval=1000, early_stopping_rounds=200)\n",
    "    val_pred = model.predict(X_val, num_iteration=model.best_iteration)\n",
    "      \n",
    "    cv_scores.append(roc_auc_score(y_val, val_pred))\n",
    "    print(cv_scores)\n",
    "  \n",
    "print(\"lgb_scotrainre_list:{}\".format(cv_scores))\n",
    "print(\"lgb_score_mean:{}\".format(np.mean(cv_scores)))\n",
    "print(\"lgb_score_std:{}\".format(np.std(cv_scores)))"
   ]
  },
  {
   "cell_type": "code",
   "execution_count": null,
   "id": "80661738",
   "metadata": {},
   "outputs": [],
   "source": [
    "'''\n",
    "通过5折交叉验证可以发现，模型迭代次数在13000次的时候会停止，\n",
    "那么我们在建立新模型时直接设置最大迭代次数，并使用验证集进行模型预测\n",
    "'''"
   ]
  },
  {
   "cell_type": "code",
   "execution_count": 203,
   "id": "8c569387",
   "metadata": {
    "ExecuteTime": {
     "end_time": "2022-04-08T06:46:13.453507Z",
     "start_time": "2022-04-08T06:40:54.220195Z"
    }
   },
   "outputs": [
    {
     "name": "stdout",
     "output_type": "stream",
     "text": [
      "[LightGBM] [Warning] Unknown parameter: silent\n",
      "Training until validation scores don't improve for 200 rounds\n",
      "[1000]\tvalid_0's auc: 0.73014\n",
      "[2000]\tvalid_0's auc: 0.733512\n",
      "[3000]\tvalid_0's auc: 0.734812\n",
      "[4000]\tvalid_0's auc: 0.735585\n",
      "[5000]\tvalid_0's auc: 0.735896\n",
      "[6000]\tvalid_0's auc: 0.736013\n",
      "Early stopping, best iteration is:\n",
      "[6703]\tvalid_0's auc: 0.736164\n",
      "调参后lightgbm单模型在验证集上的AUC：0.736164243746845\n"
     ]
    },
    {
     "data": {
      "image/png": "[encoded data removed]",
      "text/plain": [
       "<Figure size 576x576 with 1 Axes>"
      ]
     },
     "metadata": {
      "needs_background": "light"
     },
     "output_type": "display_data"
    }
   ],
   "source": [
    "base_params_lgb = {\n",
    "                'boosting_type': 'gbdt',\n",
    "                'objective': 'binary',\n",
    "                'metric': 'auc',\n",
    "                'learning_rate': 0.01,\n",
    "                'num_leaves': 38,\n",
    "                'max_depth': 6,\n",
    "                'min_data_in_leaf': 84,\n",
    "                'min_child_weight':8.7,\n",
    "                'bagging_fraction': 0.94,\n",
    "                'feature_fraction': 0.86,\n",
    "                'bagging_freq': 18,\n",
    "                'reg_lambda': 9,\n",
    "                'reg_alpha': 1.2,\n",
    "                'min_split_gain': 0.66,\n",
    "                'nthread': 8,\n",
    "                'seed': 2020,\n",
    "                'silent': True,\n",
    "                'verbose': -1,\n",
    "}\n",
    "\n",
    "\"\"\"使用训练集数据进行模型训练\"\"\"\n",
    "final_model_lgb = lgb.train(base_params_lgb, train_set=train_matrix, valid_sets=valid_matrix, num_boost_round=7836, verbose_eval=1000, early_stopping_rounds=200)\n",
    "\n",
    "\"\"\"预测并计算roc的相关指标\"\"\"\n",
    "val_pre_lgb = final_model_lgb.predict(X_val)\n",
    "fpr, tpr, threshold = metrics.roc_curve(y_val, val_pre_lgb)\n",
    "roc_auc = metrics.auc(fpr, tpr)\n",
    "print('调参后lightgbm单模型在验证集上的AUC：{}'.format(roc_auc))\n",
    "\"\"\"画出roc曲线图\"\"\"\n",
    "plt.figure(figsize=(8, 8))\n",
    "plt.title('Validation ROC')\n",
    "plt.plot(fpr, tpr, 'b', label = 'Val AUC = %0.4f' % roc_auc)\n",
    "plt.ylim(0,1)\n",
    "plt.xlim(0,1)\n",
    "plt.legend(loc='best')\n",
    "plt.title('ROC')\n",
    "plt.ylabel('True Positive Rate')\n",
    "plt.xlabel('False Positive Rate')\n",
    "# 画出对角线\n",
    "plt.plot([0,1],[0,1],'r--')\n",
    "plt.show()"
   ]
  },
  {
   "cell_type": "code",
   "execution_count": 204,
   "id": "9ef269ad",
   "metadata": {
    "ExecuteTime": {
     "end_time": "2022-04-08T06:48:42.414231Z",
     "start_time": "2022-04-08T06:48:41.948067Z"
    }
   },
   "outputs": [],
   "source": [
    "import pickle\n",
    "pickle.dump(final_model_lgb, open('model_lgb_best.pkl', 'wb'))"
   ]
  },
  {
   "cell_type": "markdown",
   "id": "56c9d303",
   "metadata": {},
   "source": [
    "# 测试集预测"
   ]
  },
  {
   "cell_type": "code",
   "execution_count": 206,
   "id": "5db923a1",
   "metadata": {
    "ExecuteTime": {
     "end_time": "2022-04-08T06:51:47.134770Z",
     "start_time": "2022-04-08T06:51:03.112626Z"
    }
   },
   "outputs": [
    {
     "data": {
      "text/plain": [
       "array([0.06535698, 0.35582429, 0.62361685, ..., 0.17312927, 0.27975198,\n",
       "       0.02514476])"
      ]
     },
     "execution_count": 206,
     "metadata": {},
     "output_type": "execute_result"
    }
   ],
   "source": [
    "# final_model_lgb.predict(X_test)"
   ]
  },
  {
   "cell_type": "code",
   "execution_count": 207,
   "id": "e9e97e58",
   "metadata": {
    "ExecuteTime": {
     "end_time": "2022-04-08T06:52:35.155034Z",
     "start_time": "2022-04-08T06:52:35.112018Z"
    }
   },
   "outputs": [],
   "source": [
    "sample_submit = pd.read_csv('sample_submit.csv')"
   ]
  },
  {
   "cell_type": "code",
   "execution_count": 208,
   "id": "c0c7aca5",
   "metadata": {
    "ExecuteTime": {
     "end_time": "2022-04-08T06:52:55.804694Z",
     "start_time": "2022-04-08T06:52:55.788693Z"
    }
   },
   "outputs": [
    {
     "data": {
      "text/plain": [
       "Index(['id', 'isDefault'], dtype='object')"
      ]
     },
     "execution_count": 208,
     "metadata": {},
     "output_type": "execute_result"
    }
   ],
   "source": [
    "sample_submit.columns"
   ]
  },
  {
   "cell_type": "code",
   "execution_count": 209,
   "id": "79ce9894",
   "metadata": {
    "ExecuteTime": {
     "end_time": "2022-04-08T06:53:43.543176Z",
     "start_time": "2022-04-08T06:52:59.388931Z"
    }
   },
   "outputs": [],
   "source": [
    "sample_submit['isDefault'] = final_model_lgb.predict(X_test)"
   ]
  },
  {
   "cell_type": "code",
   "execution_count": 210,
   "id": "72707b7f",
   "metadata": {
    "ExecuteTime": {
     "end_time": "2022-04-08T06:53:51.403824Z",
     "start_time": "2022-04-08T06:53:51.384814Z"
    }
   },
   "outputs": [
    {
     "data": {
      "text/html": [
       "<div>\n",
       "<style scoped>\n",
       "    .dataframe tbody tr th:only-of-type {\n",
       "        vertical-align: middle;\n",
       "    }\n",
       "\n",
       "    .dataframe tbody tr th {\n",
       "        vertical-align: top;\n",
       "    }\n",
       "\n",
       "    .dataframe thead th {\n",
       "        text-align: right;\n",
       "    }\n",
       "</style>\n",
       "<table border=\"1\" class=\"dataframe\">\n",
       "  <thead>\n",
       "    <tr style=\"text-align: right;\">\n",
       "      <th></th>\n",
       "      <th>id</th>\n",
       "      <th>isDefault</th>\n",
       "    </tr>\n",
       "  </thead>\n",
       "  <tbody>\n",
       "    <tr>\n",
       "      <th>0</th>\n",
       "      <td>800000</td>\n",
       "      <td>0.065357</td>\n",
       "    </tr>\n",
       "    <tr>\n",
       "      <th>1</th>\n",
       "      <td>800001</td>\n",
       "      <td>0.355824</td>\n",
       "    </tr>\n",
       "    <tr>\n",
       "      <th>2</th>\n",
       "      <td>800002</td>\n",
       "      <td>0.623617</td>\n",
       "    </tr>\n",
       "    <tr>\n",
       "      <th>3</th>\n",
       "      <td>800003</td>\n",
       "      <td>0.328674</td>\n",
       "    </tr>\n",
       "    <tr>\n",
       "      <th>4</th>\n",
       "      <td>800004</td>\n",
       "      <td>0.334399</td>\n",
       "    </tr>\n",
       "  </tbody>\n",
       "</table>\n",
       "</div>"
      ],
      "text/plain": [
       "       id  isDefault\n",
       "0  800000   0.065357\n",
       "1  800001   0.355824\n",
       "2  800002   0.623617\n",
       "3  800003   0.328674\n",
       "4  800004   0.334399"
      ]
     },
     "execution_count": 210,
     "metadata": {},
     "output_type": "execute_result"
    }
   ],
   "source": [
    "sample_submit.head()"
   ]
  },
  {
   "cell_type": "code",
   "execution_count": 211,
   "id": "d3931ff0",
   "metadata": {
    "ExecuteTime": {
     "end_time": "2022-04-08T06:54:14.983273Z",
     "start_time": "2022-04-08T06:54:14.523331Z"
    }
   },
   "outputs": [],
   "source": [
    "sample_submit.to_csv('my_sample_submit.csv')"
   ]
  },
  {
   "cell_type": "code",
   "execution_count": null,
   "id": "f09ea5f5",
   "metadata": {},
   "outputs": [],
   "source": []
  },
  {
   "cell_type": "code",
   "execution_count": null,
   "id": "37fe32b4",
   "metadata": {},
   "outputs": [],
   "source": []
  },
  {
   "cell_type": "code",
   "execution_count": null,
   "id": "a2b30ed3",
   "metadata": {},
   "outputs": [],
   "source": []
  },
  {
   "cell_type": "code",
   "execution_count": null,
   "id": "75d5a335",
   "metadata": {},
   "outputs": [],
   "source": []
  },
  {
   "cell_type": "code",
   "execution_count": null,
   "id": "7efe6223",
   "metadata": {},
   "outputs": [],
   "source": []
  },
  {
   "cell_type": "code",
   "execution_count": null,
   "id": "53b25f32",
   "metadata": {},
   "outputs": [],
   "source": []
  },
  {
   "cell_type": "code",
   "execution_count": null,
   "id": "bba77cc8",
   "metadata": {},
   "outputs": [],
   "source": []
  },
  {
   "cell_type": "code",
   "execution_count": null,
   "id": "dcb90861",
   "metadata": {},
   "outputs": [],
   "source": []
  },
  {
   "cell_type": "code",
   "execution_count": null,
   "id": "297b505d",
   "metadata": {},
   "outputs": [],
   "source": []
  },
  {
   "cell_type": "code",
   "execution_count": null,
   "id": "248efd2b",
   "metadata": {},
   "outputs": [],
   "source": []
  }
 ],
 "metadata": {
  "kernelspec": {
   "display_name": "Python 3 (ipykernel)",
   "language": "python",
   "name": "python3"
  },
  "language_info": {
   "codemirror_mode": {
    "name": "ipython",
    "version": 3
   },
   "file_extension": ".py",
   "mimetype": "text/x-python",
   "name": "python",
   "nbconvert_exporter": "python",
   "pygments_lexer": "ipython3",
   "version": "3.7.11"
  },
  "toc": {
   "base_numbering": 1,
   "nav_menu": {},
   "number_sections": true,
   "sideBar": true,
   "skip_h1_title": false,
   "title_cell": "Table of Contents",
   "title_sidebar": "Contents",
   "toc_cell": false,
   "toc_position": {
    "height": "calc(100% - 180px)",
    "left": "10px",
    "top": "150px",
    "width": "284px"
   },
   "toc_section_display": true,
   "toc_window_display": true
  }
 },
 "nbformat": 4,
 "nbformat_minor": 5
}
