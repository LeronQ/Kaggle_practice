{
 "cells": [
  {
   "cell_type": "code",
   "execution_count": 1,
   "id": "6b7ded0d",
   "metadata": {
    "_cell_guid": "b1076dfc-b9ad-4769-8c92-a6c4dae69d19",
    "_uuid": "8f2839f25d086af736a60e9eeb907d3b93b6e0e5",
    "execution": {
     "iopub.execute_input": "2021-07-19T06:07:38.965728Z",
     "iopub.status.busy": "2021-07-19T06:07:38.964716Z",
     "iopub.status.idle": "2021-07-19T06:07:39.850262Z",
     "shell.execute_reply": "2021-07-19T06:07:39.850854Z"
    },
    "papermill": {
     "duration": 0.91989,
     "end_time": "2021-07-19T06:07:39.851166",
     "exception": false,
     "start_time": "2021-07-19T06:07:38.931276",
     "status": "completed"
    },
    "tags": []
   },
   "outputs": [
    {
     "name": "stdout",
     "output_type": "stream",
     "text": [
      "/kaggle/input/GiveMeSomeCredit/Data Dictionary.xls\n",
      "/kaggle/input/GiveMeSomeCredit/cs-training.csv\n",
      "/kaggle/input/GiveMeSomeCredit/sampleEntry.csv\n",
      "/kaggle/input/GiveMeSomeCredit/cs-test.csv\n"
     ]
    }
   ],
   "source": [
    "# This Python 3 environment comes with many helpful analytics libraries installed\n",
    "# It is defined by the kaggle/python Docker image: https://github.com/kaggle/docker-python\n",
    "# For example, here's several helpful packages to load\n",
    "\n",
    "import numpy as np # linear algebra\n",
    "import pandas as pd # data processing, CSV file I/O (e.g. pd.read_csv)\n",
    "import seaborn as sns\n",
    "import matplotlib.pyplot as plt\n",
    "# Input data files are available in the read-only \"../input/\" directory\n",
    "# For example, running this (by clicking run or pressing Shift+Enter) will list all files under the input directory\n",
    "\n",
    "import os\n",
    "for dirname, _, filenames in os.walk('/kaggle/input/GiveMeSomeCredit'):\n",
    "    for filename in filenames:\n",
    "        print(os.path.join(dirname, filename))\n",
    "\n",
    "# You can write up to 20GB to the current directory (/kaggle/working/) that gets preserved as output when you create a version using \"Save & Run All\" \n",
    "# You can also write temporary files to /kaggle/temp/, but they won't be saved outside of the current session"
   ]
  },
  {
   "cell_type": "markdown",
   "id": "bf3eb30d",
   "metadata": {
    "papermill": {
     "duration": 0.027978,
     "end_time": "2021-07-19T06:07:39.908926",
     "exception": false,
     "start_time": "2021-07-19T06:07:39.880948",
     "status": "completed"
    },
    "tags": []
   },
   "source": [
    "# 定义问题与数据读取\n",
    "* 本次竞赛的所要预测的问题：某人在未来两年内遭遇财务困境的可能性。"
   ]
  },
  {
   "cell_type": "code",
   "execution_count": 2,
   "id": "73836ee5",
   "metadata": {
    "execution": {
     "iopub.execute_input": "2021-07-19T06:07:39.971022Z",
     "iopub.status.busy": "2021-07-19T06:07:39.970469Z",
     "iopub.status.idle": "2021-07-19T06:07:40.331237Z",
     "shell.execute_reply": "2021-07-19T06:07:40.330699Z"
    },
    "papermill": {
     "duration": 0.394136,
     "end_time": "2021-07-19T06:07:40.331390",
     "exception": false,
     "start_time": "2021-07-19T06:07:39.937254",
     "status": "completed"
    },
    "tags": []
   },
   "outputs": [],
   "source": [
    "#读取数据\n",
    "train_df = pd.read_csv('/kaggle/input/GiveMeSomeCredit/cs-training.csv')\n",
    "test_df = pd.read_csv('/kaggle/input/GiveMeSomeCredit/cs-test.csv')"
   ]
  },
  {
   "cell_type": "markdown",
   "id": "29e57128",
   "metadata": {
    "papermill": {
     "duration": 0.027917,
     "end_time": "2021-07-19T06:07:40.387617",
     "exception": false,
     "start_time": "2021-07-19T06:07:40.359700",
     "status": "completed"
    },
    "tags": []
   },
   "source": [
    "#  数据探索与预处理\n",
    "> **1. 数据探索**"
   ]
  },
  {
   "cell_type": "code",
   "execution_count": 3,
   "id": "83966e5e",
   "metadata": {
    "execution": {
     "iopub.execute_input": "2021-07-19T06:07:40.461055Z",
     "iopub.status.busy": "2021-07-19T06:07:40.460112Z",
     "iopub.status.idle": "2021-07-19T06:07:40.485254Z",
     "shell.execute_reply": "2021-07-19T06:07:40.484664Z"
    },
    "papermill": {
     "duration": 0.069629,
     "end_time": "2021-07-19T06:07:40.485405",
     "exception": false,
     "start_time": "2021-07-19T06:07:40.415776",
     "status": "completed"
    },
    "tags": []
   },
   "outputs": [
    {
     "data": {
      "text/html": [
       "<div>\n",
       "<style scoped>\n",
       "    .dataframe tbody tr th:only-of-type {\n",
       "        vertical-align: middle;\n",
       "    }\n",
       "\n",
       "    .dataframe tbody tr th {\n",
       "        vertical-align: top;\n",
       "    }\n",
       "\n",
       "    .dataframe thead th {\n",
       "        text-align: right;\n",
       "    }\n",
       "</style>\n",
       "<table border=\"1\" class=\"dataframe\">\n",
       "  <thead>\n",
       "    <tr style=\"text-align: right;\">\n",
       "      <th></th>\n",
       "      <th>Unnamed: 0</th>\n",
       "      <th>SeriousDlqin2yrs</th>\n",
       "      <th>RevolvingUtilizationOfUnsecuredLines</th>\n",
       "      <th>age</th>\n",
       "      <th>NumberOfTime30-59DaysPastDueNotWorse</th>\n",
       "      <th>DebtRatio</th>\n",
       "      <th>MonthlyIncome</th>\n",
       "      <th>NumberOfOpenCreditLinesAndLoans</th>\n",
       "      <th>NumberOfTimes90DaysLate</th>\n",
       "      <th>NumberRealEstateLoansOrLines</th>\n",
       "      <th>NumberOfTime60-89DaysPastDueNotWorse</th>\n",
       "      <th>NumberOfDependents</th>\n",
       "    </tr>\n",
       "  </thead>\n",
       "  <tbody>\n",
       "    <tr>\n",
       "      <th>0</th>\n",
       "      <td>1</td>\n",
       "      <td>1</td>\n",
       "      <td>0.766127</td>\n",
       "      <td>45</td>\n",
       "      <td>2</td>\n",
       "      <td>0.802982</td>\n",
       "      <td>9120.0</td>\n",
       "      <td>13</td>\n",
       "      <td>0</td>\n",
       "      <td>6</td>\n",
       "      <td>0</td>\n",
       "      <td>2.0</td>\n",
       "    </tr>\n",
       "    <tr>\n",
       "      <th>1</th>\n",
       "      <td>2</td>\n",
       "      <td>0</td>\n",
       "      <td>0.957151</td>\n",
       "      <td>40</td>\n",
       "      <td>0</td>\n",
       "      <td>0.121876</td>\n",
       "      <td>2600.0</td>\n",
       "      <td>4</td>\n",
       "      <td>0</td>\n",
       "      <td>0</td>\n",
       "      <td>0</td>\n",
       "      <td>1.0</td>\n",
       "    </tr>\n",
       "    <tr>\n",
       "      <th>2</th>\n",
       "      <td>3</td>\n",
       "      <td>0</td>\n",
       "      <td>0.658180</td>\n",
       "      <td>38</td>\n",
       "      <td>1</td>\n",
       "      <td>0.085113</td>\n",
       "      <td>3042.0</td>\n",
       "      <td>2</td>\n",
       "      <td>1</td>\n",
       "      <td>0</td>\n",
       "      <td>0</td>\n",
       "      <td>0.0</td>\n",
       "    </tr>\n",
       "    <tr>\n",
       "      <th>3</th>\n",
       "      <td>4</td>\n",
       "      <td>0</td>\n",
       "      <td>0.233810</td>\n",
       "      <td>30</td>\n",
       "      <td>0</td>\n",
       "      <td>0.036050</td>\n",
       "      <td>3300.0</td>\n",
       "      <td>5</td>\n",
       "      <td>0</td>\n",
       "      <td>0</td>\n",
       "      <td>0</td>\n",
       "      <td>0.0</td>\n",
       "    </tr>\n",
       "    <tr>\n",
       "      <th>4</th>\n",
       "      <td>5</td>\n",
       "      <td>0</td>\n",
       "      <td>0.907239</td>\n",
       "      <td>49</td>\n",
       "      <td>1</td>\n",
       "      <td>0.024926</td>\n",
       "      <td>63588.0</td>\n",
       "      <td>7</td>\n",
       "      <td>0</td>\n",
       "      <td>1</td>\n",
       "      <td>0</td>\n",
       "      <td>0.0</td>\n",
       "    </tr>\n",
       "  </tbody>\n",
       "</table>\n",
       "</div>"
      ],
      "text/plain": [
       "   Unnamed: 0  SeriousDlqin2yrs  RevolvingUtilizationOfUnsecuredLines  age  \\\n",
       "0           1                 1                              0.766127   45   \n",
       "1           2                 0                              0.957151   40   \n",
       "2           3                 0                              0.658180   38   \n",
       "3           4                 0                              0.233810   30   \n",
       "4           5                 0                              0.907239   49   \n",
       "\n",
       "   NumberOfTime30-59DaysPastDueNotWorse  DebtRatio  MonthlyIncome  \\\n",
       "0                                     2   0.802982         9120.0   \n",
       "1                                     0   0.121876         2600.0   \n",
       "2                                     1   0.085113         3042.0   \n",
       "3                                     0   0.036050         3300.0   \n",
       "4                                     1   0.024926        63588.0   \n",
       "\n",
       "   NumberOfOpenCreditLinesAndLoans  NumberOfTimes90DaysLate  \\\n",
       "0                               13                        0   \n",
       "1                                4                        0   \n",
       "2                                2                        1   \n",
       "3                                5                        0   \n",
       "4                                7                        0   \n",
       "\n",
       "   NumberRealEstateLoansOrLines  NumberOfTime60-89DaysPastDueNotWorse  \\\n",
       "0                             6                                     0   \n",
       "1                             0                                     0   \n",
       "2                             0                                     0   \n",
       "3                             0                                     0   \n",
       "4                             1                                     0   \n",
       "\n",
       "   NumberOfDependents  \n",
       "0                 2.0  \n",
       "1                 1.0  \n",
       "2                 0.0  \n",
       "3                 0.0  \n",
       "4                 0.0  "
      ]
     },
     "execution_count": 3,
     "metadata": {},
     "output_type": "execute_result"
    }
   ],
   "source": [
    "train_df.head()   #查看训练集前5行数据"
   ]
  },
  {
   "cell_type": "code",
   "execution_count": 4,
   "id": "f5f5b449",
   "metadata": {
    "execution": {
     "iopub.execute_input": "2021-07-19T06:07:40.563976Z",
     "iopub.status.busy": "2021-07-19T06:07:40.563405Z",
     "iopub.status.idle": "2021-07-19T06:07:40.566208Z",
     "shell.execute_reply": "2021-07-19T06:07:40.565781Z"
    },
    "papermill": {
     "duration": 0.045058,
     "end_time": "2021-07-19T06:07:40.566342",
     "exception": false,
     "start_time": "2021-07-19T06:07:40.521284",
     "status": "completed"
    },
    "tags": []
   },
   "outputs": [
    {
     "data": {
      "text/html": [
       "<div>\n",
       "<style scoped>\n",
       "    .dataframe tbody tr th:only-of-type {\n",
       "        vertical-align: middle;\n",
       "    }\n",
       "\n",
       "    .dataframe tbody tr th {\n",
       "        vertical-align: top;\n",
       "    }\n",
       "\n",
       "    .dataframe thead th {\n",
       "        text-align: right;\n",
       "    }\n",
       "</style>\n",
       "<table border=\"1\" class=\"dataframe\">\n",
       "  <thead>\n",
       "    <tr style=\"text-align: right;\">\n",
       "      <th></th>\n",
       "      <th>Unnamed: 0</th>\n",
       "      <th>SeriousDlqin2yrs</th>\n",
       "      <th>RevolvingUtilizationOfUnsecuredLines</th>\n",
       "      <th>age</th>\n",
       "      <th>NumberOfTime30-59DaysPastDueNotWorse</th>\n",
       "      <th>DebtRatio</th>\n",
       "      <th>MonthlyIncome</th>\n",
       "      <th>NumberOfOpenCreditLinesAndLoans</th>\n",
       "      <th>NumberOfTimes90DaysLate</th>\n",
       "      <th>NumberRealEstateLoansOrLines</th>\n",
       "      <th>NumberOfTime60-89DaysPastDueNotWorse</th>\n",
       "      <th>NumberOfDependents</th>\n",
       "    </tr>\n",
       "  </thead>\n",
       "  <tbody>\n",
       "    <tr>\n",
       "      <th>0</th>\n",
       "      <td>1</td>\n",
       "      <td>NaN</td>\n",
       "      <td>0.885519</td>\n",
       "      <td>43</td>\n",
       "      <td>0</td>\n",
       "      <td>0.177513</td>\n",
       "      <td>5700.0</td>\n",
       "      <td>4</td>\n",
       "      <td>0</td>\n",
       "      <td>0</td>\n",
       "      <td>0</td>\n",
       "      <td>0.0</td>\n",
       "    </tr>\n",
       "    <tr>\n",
       "      <th>1</th>\n",
       "      <td>2</td>\n",
       "      <td>NaN</td>\n",
       "      <td>0.463295</td>\n",
       "      <td>57</td>\n",
       "      <td>0</td>\n",
       "      <td>0.527237</td>\n",
       "      <td>9141.0</td>\n",
       "      <td>15</td>\n",
       "      <td>0</td>\n",
       "      <td>4</td>\n",
       "      <td>0</td>\n",
       "      <td>2.0</td>\n",
       "    </tr>\n",
       "    <tr>\n",
       "      <th>2</th>\n",
       "      <td>3</td>\n",
       "      <td>NaN</td>\n",
       "      <td>0.043275</td>\n",
       "      <td>59</td>\n",
       "      <td>0</td>\n",
       "      <td>0.687648</td>\n",
       "      <td>5083.0</td>\n",
       "      <td>12</td>\n",
       "      <td>0</td>\n",
       "      <td>1</td>\n",
       "      <td>0</td>\n",
       "      <td>2.0</td>\n",
       "    </tr>\n",
       "    <tr>\n",
       "      <th>3</th>\n",
       "      <td>4</td>\n",
       "      <td>NaN</td>\n",
       "      <td>0.280308</td>\n",
       "      <td>38</td>\n",
       "      <td>1</td>\n",
       "      <td>0.925961</td>\n",
       "      <td>3200.0</td>\n",
       "      <td>7</td>\n",
       "      <td>0</td>\n",
       "      <td>2</td>\n",
       "      <td>0</td>\n",
       "      <td>0.0</td>\n",
       "    </tr>\n",
       "    <tr>\n",
       "      <th>4</th>\n",
       "      <td>5</td>\n",
       "      <td>NaN</td>\n",
       "      <td>1.000000</td>\n",
       "      <td>27</td>\n",
       "      <td>0</td>\n",
       "      <td>0.019917</td>\n",
       "      <td>3865.0</td>\n",
       "      <td>4</td>\n",
       "      <td>0</td>\n",
       "      <td>0</td>\n",
       "      <td>0</td>\n",
       "      <td>1.0</td>\n",
       "    </tr>\n",
       "  </tbody>\n",
       "</table>\n",
       "</div>"
      ],
      "text/plain": [
       "   Unnamed: 0  SeriousDlqin2yrs  RevolvingUtilizationOfUnsecuredLines  age  \\\n",
       "0           1               NaN                              0.885519   43   \n",
       "1           2               NaN                              0.463295   57   \n",
       "2           3               NaN                              0.043275   59   \n",
       "3           4               NaN                              0.280308   38   \n",
       "4           5               NaN                              1.000000   27   \n",
       "\n",
       "   NumberOfTime30-59DaysPastDueNotWorse  DebtRatio  MonthlyIncome  \\\n",
       "0                                     0   0.177513         5700.0   \n",
       "1                                     0   0.527237         9141.0   \n",
       "2                                     0   0.687648         5083.0   \n",
       "3                                     1   0.925961         3200.0   \n",
       "4                                     0   0.019917         3865.0   \n",
       "\n",
       "   NumberOfOpenCreditLinesAndLoans  NumberOfTimes90DaysLate  \\\n",
       "0                                4                        0   \n",
       "1                               15                        0   \n",
       "2                               12                        0   \n",
       "3                                7                        0   \n",
       "4                                4                        0   \n",
       "\n",
       "   NumberRealEstateLoansOrLines  NumberOfTime60-89DaysPastDueNotWorse  \\\n",
       "0                             0                                     0   \n",
       "1                             4                                     0   \n",
       "2                             1                                     0   \n",
       "3                             2                                     0   \n",
       "4                             0                                     0   \n",
       "\n",
       "   NumberOfDependents  \n",
       "0                 0.0  \n",
       "1                 2.0  \n",
       "2                 2.0  \n",
       "3                 0.0  \n",
       "4                 1.0  "
      ]
     },
     "execution_count": 4,
     "metadata": {},
     "output_type": "execute_result"
    }
   ],
   "source": [
    "test_df.head()    #查看测试集前5行数据"
   ]
  },
  {
   "cell_type": "code",
   "execution_count": 5,
   "id": "8b04f5fb",
   "metadata": {
    "execution": {
     "iopub.execute_input": "2021-07-19T06:07:40.629613Z",
     "iopub.status.busy": "2021-07-19T06:07:40.629013Z",
     "iopub.status.idle": "2021-07-19T06:07:40.632716Z",
     "shell.execute_reply": "2021-07-19T06:07:40.632299Z"
    },
    "papermill": {
     "duration": 0.037343,
     "end_time": "2021-07-19T06:07:40.632842",
     "exception": false,
     "start_time": "2021-07-19T06:07:40.595499",
     "status": "completed"
    },
    "tags": []
   },
   "outputs": [
    {
     "data": {
      "text/plain": [
       "Index(['Unnamed: 0', 'SeriousDlqin2yrs',\n",
       "       'RevolvingUtilizationOfUnsecuredLines', 'age',\n",
       "       'NumberOfTime30-59DaysPastDueNotWorse', 'DebtRatio', 'MonthlyIncome',\n",
       "       'NumberOfOpenCreditLinesAndLoans', 'NumberOfTimes90DaysLate',\n",
       "       'NumberRealEstateLoansOrLines', 'NumberOfTime60-89DaysPastDueNotWorse',\n",
       "       'NumberOfDependents'],\n",
       "      dtype='object')"
      ]
     },
     "execution_count": 5,
     "metadata": {},
     "output_type": "execute_result"
    }
   ],
   "source": [
    "train_df.columns   #查看训练集的特征"
   ]
  },
  {
   "cell_type": "markdown",
   "id": "9db1df25",
   "metadata": {
    "papermill": {
     "duration": 0.02903,
     "end_time": "2021-07-19T06:07:40.691207",
     "exception": false,
     "start_time": "2021-07-19T06:07:40.662177",
     "status": "completed"
    },
    "tags": []
   },
   "source": [
    "分类型特征：SeriousDlqin2yrs\n",
    "\n",
    "数值型特征：\n",
    "              比率标度：RevolvingUtilizationOfUnsecuredLines、DebtRatio\n",
    "              连续型特征：age、MonthlyIncome\n",
    "              离散型特征：NumberOfOpenCreditLinesAndLoans、NumberOfTime30-   59DaysPastDueNotWorse、NumberOfTime60-89DaysPastDueNotWorse、NumberOfTimes90DaysLate、NumberOfDependents"
   ]
  },
  {
   "cell_type": "code",
   "execution_count": 6,
   "id": "57ccf8ba",
   "metadata": {
    "execution": {
     "iopub.execute_input": "2021-07-19T06:07:40.755010Z",
     "iopub.status.busy": "2021-07-19T06:07:40.754428Z",
     "iopub.status.idle": "2021-07-19T06:07:40.774990Z",
     "shell.execute_reply": "2021-07-19T06:07:40.774505Z"
    },
    "papermill": {
     "duration": 0.054288,
     "end_time": "2021-07-19T06:07:40.775140",
     "exception": false,
     "start_time": "2021-07-19T06:07:40.720852",
     "status": "completed"
    },
    "tags": []
   },
   "outputs": [
    {
     "name": "stdout",
     "output_type": "stream",
     "text": [
      "<class 'pandas.core.frame.DataFrame'>\n",
      "RangeIndex: 150000 entries, 0 to 149999\n",
      "Data columns (total 12 columns):\n",
      " #   Column                                Non-Null Count   Dtype  \n",
      "---  ------                                --------------   -----  \n",
      " 0   Unnamed: 0                            150000 non-null  int64  \n",
      " 1   SeriousDlqin2yrs                      150000 non-null  int64  \n",
      " 2   RevolvingUtilizationOfUnsecuredLines  150000 non-null  float64\n",
      " 3   age                                   150000 non-null  int64  \n",
      " 4   NumberOfTime30-59DaysPastDueNotWorse  150000 non-null  int64  \n",
      " 5   DebtRatio                             150000 non-null  float64\n",
      " 6   MonthlyIncome                         120269 non-null  float64\n",
      " 7   NumberOfOpenCreditLinesAndLoans       150000 non-null  int64  \n",
      " 8   NumberOfTimes90DaysLate               150000 non-null  int64  \n",
      " 9   NumberRealEstateLoansOrLines          150000 non-null  int64  \n",
      " 10  NumberOfTime60-89DaysPastDueNotWorse  150000 non-null  int64  \n",
      " 11  NumberOfDependents                    146076 non-null  float64\n",
      "dtypes: float64(4), int64(8)\n",
      "memory usage: 13.7 MB\n"
     ]
    }
   ],
   "source": [
    "train_df.info()        #查看训练集信息"
   ]
  },
  {
   "cell_type": "markdown",
   "id": "257a3cac",
   "metadata": {
    "papermill": {
     "duration": 0.029946,
     "end_time": "2021-07-19T06:07:40.835221",
     "exception": false,
     "start_time": "2021-07-19T06:07:40.805275",
     "status": "completed"
    },
    "tags": []
   },
   "source": [
    "训练集总共有150000条数据，数据类型都是int和float，MonthlyIncome（月收入）和NumberOfDependents（家属数量）有缺失值"
   ]
  },
  {
   "cell_type": "code",
   "execution_count": 7,
   "id": "8e440dc6",
   "metadata": {
    "execution": {
     "iopub.execute_input": "2021-07-19T06:07:40.913690Z",
     "iopub.status.busy": "2021-07-19T06:07:40.913100Z",
     "iopub.status.idle": "2021-07-19T06:07:40.933295Z",
     "shell.execute_reply": "2021-07-19T06:07:40.932619Z"
    },
    "papermill": {
     "duration": 0.067973,
     "end_time": "2021-07-19T06:07:40.933479",
     "exception": false,
     "start_time": "2021-07-19T06:07:40.865506",
     "status": "completed"
    },
    "tags": []
   },
   "outputs": [
    {
     "name": "stdout",
     "output_type": "stream",
     "text": [
      "<class 'pandas.core.frame.DataFrame'>\n",
      "RangeIndex: 101503 entries, 0 to 101502\n",
      "Data columns (total 12 columns):\n",
      " #   Column                                Non-Null Count   Dtype  \n",
      "---  ------                                --------------   -----  \n",
      " 0   Unnamed: 0                            101503 non-null  int64  \n",
      " 1   SeriousDlqin2yrs                      0 non-null       float64\n",
      " 2   RevolvingUtilizationOfUnsecuredLines  101503 non-null  float64\n",
      " 3   age                                   101503 non-null  int64  \n",
      " 4   NumberOfTime30-59DaysPastDueNotWorse  101503 non-null  int64  \n",
      " 5   DebtRatio                             101503 non-null  float64\n",
      " 6   MonthlyIncome                         81400 non-null   float64\n",
      " 7   NumberOfOpenCreditLinesAndLoans       101503 non-null  int64  \n",
      " 8   NumberOfTimes90DaysLate               101503 non-null  int64  \n",
      " 9   NumberRealEstateLoansOrLines          101503 non-null  int64  \n",
      " 10  NumberOfTime60-89DaysPastDueNotWorse  101503 non-null  int64  \n",
      " 11  NumberOfDependents                    98877 non-null   float64\n",
      "dtypes: float64(5), int64(7)\n",
      "memory usage: 9.3 MB\n"
     ]
    }
   ],
   "source": [
    "test_df.info()    ##查看测试集信息"
   ]
  },
  {
   "cell_type": "markdown",
   "id": "5cd19245",
   "metadata": {
    "papermill": {
     "duration": 0.033458,
     "end_time": "2021-07-19T06:07:40.998341",
     "exception": false,
     "start_time": "2021-07-19T06:07:40.964883",
     "status": "completed"
    },
    "tags": []
   },
   "source": [
    "测试集总共有101503条数据，MonthlyIncome和NumberOfDependents都有缺失值。"
   ]
  },
  {
   "cell_type": "markdown",
   "id": "96f89fde",
   "metadata": {
    "papermill": {
     "duration": 0.031295,
     "end_time": "2021-07-19T06:07:41.061491",
     "exception": false,
     "start_time": "2021-07-19T06:07:41.030196",
     "status": "completed"
    },
    "tags": []
   },
   "source": [
    "**查看缺失值**"
   ]
  },
  {
   "cell_type": "code",
   "execution_count": 8,
   "id": "e66c867e",
   "metadata": {
    "execution": {
     "iopub.execute_input": "2021-07-19T06:07:41.130459Z",
     "iopub.status.busy": "2021-07-19T06:07:41.129589Z",
     "iopub.status.idle": "2021-07-19T06:07:41.137989Z",
     "shell.execute_reply": "2021-07-19T06:07:41.137504Z"
    },
    "papermill": {
     "duration": 0.045151,
     "end_time": "2021-07-19T06:07:41.138139",
     "exception": false,
     "start_time": "2021-07-19T06:07:41.092988",
     "status": "completed"
    },
    "tags": []
   },
   "outputs": [
    {
     "data": {
      "text/plain": [
       "Unnamed: 0                                  0\n",
       "SeriousDlqin2yrs                            0\n",
       "RevolvingUtilizationOfUnsecuredLines        0\n",
       "age                                         0\n",
       "NumberOfTime30-59DaysPastDueNotWorse        0\n",
       "DebtRatio                                   0\n",
       "MonthlyIncome                           29731\n",
       "NumberOfOpenCreditLinesAndLoans             0\n",
       "NumberOfTimes90DaysLate                     0\n",
       "NumberRealEstateLoansOrLines                0\n",
       "NumberOfTime60-89DaysPastDueNotWorse        0\n",
       "NumberOfDependents                       3924\n",
       "dtype: int64"
      ]
     },
     "execution_count": 8,
     "metadata": {},
     "output_type": "execute_result"
    }
   ],
   "source": [
    "train_df.isnull().sum()   #具体查看训练集缺失值"
   ]
  },
  {
   "cell_type": "code",
   "execution_count": 9,
   "id": "75be5c64",
   "metadata": {
    "execution": {
     "iopub.execute_input": "2021-07-19T06:07:41.203804Z",
     "iopub.status.busy": "2021-07-19T06:07:41.203263Z",
     "iopub.status.idle": "2021-07-19T06:07:41.210561Z",
     "shell.execute_reply": "2021-07-19T06:07:41.211008Z"
    },
    "papermill": {
     "duration": 0.042132,
     "end_time": "2021-07-19T06:07:41.211176",
     "exception": false,
     "start_time": "2021-07-19T06:07:41.169044",
     "status": "completed"
    },
    "tags": []
   },
   "outputs": [
    {
     "data": {
      "text/plain": [
       "Unnamed: 0                                   0\n",
       "SeriousDlqin2yrs                        101503\n",
       "RevolvingUtilizationOfUnsecuredLines         0\n",
       "age                                          0\n",
       "NumberOfTime30-59DaysPastDueNotWorse         0\n",
       "DebtRatio                                    0\n",
       "MonthlyIncome                            20103\n",
       "NumberOfOpenCreditLinesAndLoans              0\n",
       "NumberOfTimes90DaysLate                      0\n",
       "NumberRealEstateLoansOrLines                 0\n",
       "NumberOfTime60-89DaysPastDueNotWorse         0\n",
       "NumberOfDependents                        2626\n",
       "dtype: int64"
      ]
     },
     "execution_count": 9,
     "metadata": {},
     "output_type": "execute_result"
    }
   ],
   "source": [
    "test_df.isnull().sum()    #具体查看测试集缺失值"
   ]
  },
  {
   "cell_type": "markdown",
   "id": "55dd2316",
   "metadata": {
    "papermill": {
     "duration": 0.030459,
     "end_time": "2021-07-19T06:07:41.272669",
     "exception": false,
     "start_time": "2021-07-19T06:07:41.242210",
     "status": "completed"
    },
    "tags": []
   },
   "source": [
    "训练集和测试集的缺失值数量都占比较大，所以不能直接删除。\n",
    "MonthlyIncome属于连续型数值特征，且缺失较多，可以用平均数填补缺失值。NumberOfDependents可以用中位数填充空值。"
   ]
  },
  {
   "cell_type": "markdown",
   "id": "b34b3686",
   "metadata": {
    "papermill": {
     "duration": 0.030504,
     "end_time": "2021-07-19T06:07:41.334054",
     "exception": false,
     "start_time": "2021-07-19T06:07:41.303550",
     "status": "completed"
    },
    "tags": []
   },
   "source": [
    "**查看异常值**"
   ]
  },
  {
   "cell_type": "code",
   "execution_count": 10,
   "id": "f759f63e",
   "metadata": {
    "execution": {
     "iopub.execute_input": "2021-07-19T06:07:41.405902Z",
     "iopub.status.busy": "2021-07-19T06:07:41.405365Z",
     "iopub.status.idle": "2021-07-19T06:07:41.506529Z",
     "shell.execute_reply": "2021-07-19T06:07:41.506042Z"
    },
    "papermill": {
     "duration": 0.138224,
     "end_time": "2021-07-19T06:07:41.506657",
     "exception": false,
     "start_time": "2021-07-19T06:07:41.368433",
     "status": "completed"
    },
    "tags": []
   },
   "outputs": [
    {
     "data": {
      "text/html": [
       "<div>\n",
       "<style scoped>\n",
       "    .dataframe tbody tr th:only-of-type {\n",
       "        vertical-align: middle;\n",
       "    }\n",
       "\n",
       "    .dataframe tbody tr th {\n",
       "        vertical-align: top;\n",
       "    }\n",
       "\n",
       "    .dataframe thead th {\n",
       "        text-align: right;\n",
       "    }\n",
       "</style>\n",
       "<table border=\"1\" class=\"dataframe\">\n",
       "  <thead>\n",
       "    <tr style=\"text-align: right;\">\n",
       "      <th></th>\n",
       "      <th>Unnamed: 0</th>\n",
       "      <th>SeriousDlqin2yrs</th>\n",
       "      <th>RevolvingUtilizationOfUnsecuredLines</th>\n",
       "      <th>age</th>\n",
       "      <th>NumberOfTime30-59DaysPastDueNotWorse</th>\n",
       "      <th>DebtRatio</th>\n",
       "      <th>MonthlyIncome</th>\n",
       "      <th>NumberOfOpenCreditLinesAndLoans</th>\n",
       "      <th>NumberOfTimes90DaysLate</th>\n",
       "      <th>NumberRealEstateLoansOrLines</th>\n",
       "      <th>NumberOfTime60-89DaysPastDueNotWorse</th>\n",
       "      <th>NumberOfDependents</th>\n",
       "    </tr>\n",
       "  </thead>\n",
       "  <tbody>\n",
       "    <tr>\n",
       "      <th>count</th>\n",
       "      <td>150000.000000</td>\n",
       "      <td>150000.000000</td>\n",
       "      <td>150000.000000</td>\n",
       "      <td>150000.000000</td>\n",
       "      <td>150000.000000</td>\n",
       "      <td>150000.000000</td>\n",
       "      <td>1.202690e+05</td>\n",
       "      <td>150000.000000</td>\n",
       "      <td>150000.000000</td>\n",
       "      <td>150000.000000</td>\n",
       "      <td>150000.000000</td>\n",
       "      <td>146076.000000</td>\n",
       "    </tr>\n",
       "    <tr>\n",
       "      <th>mean</th>\n",
       "      <td>75000.500000</td>\n",
       "      <td>0.066840</td>\n",
       "      <td>6.048438</td>\n",
       "      <td>52.295207</td>\n",
       "      <td>0.421033</td>\n",
       "      <td>353.005076</td>\n",
       "      <td>6.670221e+03</td>\n",
       "      <td>8.452760</td>\n",
       "      <td>0.265973</td>\n",
       "      <td>1.018240</td>\n",
       "      <td>0.240387</td>\n",
       "      <td>0.757222</td>\n",
       "    </tr>\n",
       "    <tr>\n",
       "      <th>std</th>\n",
       "      <td>43301.414527</td>\n",
       "      <td>0.249746</td>\n",
       "      <td>249.755371</td>\n",
       "      <td>14.771866</td>\n",
       "      <td>4.192781</td>\n",
       "      <td>2037.818523</td>\n",
       "      <td>1.438467e+04</td>\n",
       "      <td>5.145951</td>\n",
       "      <td>4.169304</td>\n",
       "      <td>1.129771</td>\n",
       "      <td>4.155179</td>\n",
       "      <td>1.115086</td>\n",
       "    </tr>\n",
       "    <tr>\n",
       "      <th>min</th>\n",
       "      <td>1.000000</td>\n",
       "      <td>0.000000</td>\n",
       "      <td>0.000000</td>\n",
       "      <td>0.000000</td>\n",
       "      <td>0.000000</td>\n",
       "      <td>0.000000</td>\n",
       "      <td>0.000000e+00</td>\n",
       "      <td>0.000000</td>\n",
       "      <td>0.000000</td>\n",
       "      <td>0.000000</td>\n",
       "      <td>0.000000</td>\n",
       "      <td>0.000000</td>\n",
       "    </tr>\n",
       "    <tr>\n",
       "      <th>25%</th>\n",
       "      <td>37500.750000</td>\n",
       "      <td>0.000000</td>\n",
       "      <td>0.029867</td>\n",
       "      <td>41.000000</td>\n",
       "      <td>0.000000</td>\n",
       "      <td>0.175074</td>\n",
       "      <td>3.400000e+03</td>\n",
       "      <td>5.000000</td>\n",
       "      <td>0.000000</td>\n",
       "      <td>0.000000</td>\n",
       "      <td>0.000000</td>\n",
       "      <td>0.000000</td>\n",
       "    </tr>\n",
       "    <tr>\n",
       "      <th>50%</th>\n",
       "      <td>75000.500000</td>\n",
       "      <td>0.000000</td>\n",
       "      <td>0.154181</td>\n",
       "      <td>52.000000</td>\n",
       "      <td>0.000000</td>\n",
       "      <td>0.366508</td>\n",
       "      <td>5.400000e+03</td>\n",
       "      <td>8.000000</td>\n",
       "      <td>0.000000</td>\n",
       "      <td>1.000000</td>\n",
       "      <td>0.000000</td>\n",
       "      <td>0.000000</td>\n",
       "    </tr>\n",
       "    <tr>\n",
       "      <th>75%</th>\n",
       "      <td>112500.250000</td>\n",
       "      <td>0.000000</td>\n",
       "      <td>0.559046</td>\n",
       "      <td>63.000000</td>\n",
       "      <td>0.000000</td>\n",
       "      <td>0.868254</td>\n",
       "      <td>8.249000e+03</td>\n",
       "      <td>11.000000</td>\n",
       "      <td>0.000000</td>\n",
       "      <td>2.000000</td>\n",
       "      <td>0.000000</td>\n",
       "      <td>1.000000</td>\n",
       "    </tr>\n",
       "    <tr>\n",
       "      <th>max</th>\n",
       "      <td>150000.000000</td>\n",
       "      <td>1.000000</td>\n",
       "      <td>50708.000000</td>\n",
       "      <td>109.000000</td>\n",
       "      <td>98.000000</td>\n",
       "      <td>329664.000000</td>\n",
       "      <td>3.008750e+06</td>\n",
       "      <td>58.000000</td>\n",
       "      <td>98.000000</td>\n",
       "      <td>54.000000</td>\n",
       "      <td>98.000000</td>\n",
       "      <td>20.000000</td>\n",
       "    </tr>\n",
       "  </tbody>\n",
       "</table>\n",
       "</div>"
      ],
      "text/plain": [
       "          Unnamed: 0  SeriousDlqin2yrs  RevolvingUtilizationOfUnsecuredLines  \\\n",
       "count  150000.000000     150000.000000                         150000.000000   \n",
       "mean    75000.500000          0.066840                              6.048438   \n",
       "std     43301.414527          0.249746                            249.755371   \n",
       "min         1.000000          0.000000                              0.000000   \n",
       "25%     37500.750000          0.000000                              0.029867   \n",
       "50%     75000.500000          0.000000                              0.154181   \n",
       "75%    112500.250000          0.000000                              0.559046   \n",
       "max    150000.000000          1.000000                          50708.000000   \n",
       "\n",
       "                 age  NumberOfTime30-59DaysPastDueNotWorse      DebtRatio  \\\n",
       "count  150000.000000                         150000.000000  150000.000000   \n",
       "mean       52.295207                              0.421033     353.005076   \n",
       "std        14.771866                              4.192781    2037.818523   \n",
       "min         0.000000                              0.000000       0.000000   \n",
       "25%        41.000000                              0.000000       0.175074   \n",
       "50%        52.000000                              0.000000       0.366508   \n",
       "75%        63.000000                              0.000000       0.868254   \n",
       "max       109.000000                             98.000000  329664.000000   \n",
       "\n",
       "       MonthlyIncome  NumberOfOpenCreditLinesAndLoans  \\\n",
       "count   1.202690e+05                    150000.000000   \n",
       "mean    6.670221e+03                         8.452760   \n",
       "std     1.438467e+04                         5.145951   \n",
       "min     0.000000e+00                         0.000000   \n",
       "25%     3.400000e+03                         5.000000   \n",
       "50%     5.400000e+03                         8.000000   \n",
       "75%     8.249000e+03                        11.000000   \n",
       "max     3.008750e+06                        58.000000   \n",
       "\n",
       "       NumberOfTimes90DaysLate  NumberRealEstateLoansOrLines  \\\n",
       "count            150000.000000                 150000.000000   \n",
       "mean                  0.265973                      1.018240   \n",
       "std                   4.169304                      1.129771   \n",
       "min                   0.000000                      0.000000   \n",
       "25%                   0.000000                      0.000000   \n",
       "50%                   0.000000                      1.000000   \n",
       "75%                   0.000000                      2.000000   \n",
       "max                  98.000000                     54.000000   \n",
       "\n",
       "       NumberOfTime60-89DaysPastDueNotWorse  NumberOfDependents  \n",
       "count                         150000.000000       146076.000000  \n",
       "mean                               0.240387            0.757222  \n",
       "std                                4.155179            1.115086  \n",
       "min                                0.000000            0.000000  \n",
       "25%                                0.000000            0.000000  \n",
       "50%                                0.000000            0.000000  \n",
       "75%                                0.000000            1.000000  \n",
       "max                               98.000000           20.000000  "
      ]
     },
     "execution_count": 10,
     "metadata": {},
     "output_type": "execute_result"
    }
   ],
   "source": [
    "train_df.describe()"
   ]
  },
  {
   "cell_type": "markdown",
   "id": "ef483686",
   "metadata": {
    "papermill": {
     "duration": 0.031766,
     "end_time": "2021-07-19T06:07:41.571211",
     "exception": false,
     "start_time": "2021-07-19T06:07:41.539445",
     "status": "completed"
    },
    "tags": []
   },
   "source": [
    "训练集和测试集RevolvingUtilizationOfUnsecuredLines在75%值为0.55，最大值却为50578，可能分布不均或是异常值存在。DebtRatio也是同样的问题。NumberOf-Time30-59DaysPastDueNotWorse, NumberOfTimes90DaysLate, NumberOfTime60-89DaysPastDueNotWorse三种的最大值都是98。训练集age最小值存在0，有异常值。家属数量最大值有43。"
   ]
  },
  {
   "cell_type": "code",
   "execution_count": 11,
   "id": "fd4d675c",
   "metadata": {
    "execution": {
     "iopub.execute_input": "2021-07-19T06:07:41.647059Z",
     "iopub.status.busy": "2021-07-19T06:07:41.646001Z",
     "iopub.status.idle": "2021-07-19T06:07:41.734202Z",
     "shell.execute_reply": "2021-07-19T06:07:41.734635Z"
    },
    "papermill": {
     "duration": 0.131575,
     "end_time": "2021-07-19T06:07:41.734799",
     "exception": false,
     "start_time": "2021-07-19T06:07:41.603224",
     "status": "completed"
    },
    "tags": []
   },
   "outputs": [
    {
     "data": {
      "text/html": [
       "<div>\n",
       "<style scoped>\n",
       "    .dataframe tbody tr th:only-of-type {\n",
       "        vertical-align: middle;\n",
       "    }\n",
       "\n",
       "    .dataframe tbody tr th {\n",
       "        vertical-align: top;\n",
       "    }\n",
       "\n",
       "    .dataframe thead th {\n",
       "        text-align: right;\n",
       "    }\n",
       "</style>\n",
       "<table border=\"1\" class=\"dataframe\">\n",
       "  <thead>\n",
       "    <tr style=\"text-align: right;\">\n",
       "      <th></th>\n",
       "      <th>Unnamed: 0</th>\n",
       "      <th>SeriousDlqin2yrs</th>\n",
       "      <th>RevolvingUtilizationOfUnsecuredLines</th>\n",
       "      <th>age</th>\n",
       "      <th>NumberOfTime30-59DaysPastDueNotWorse</th>\n",
       "      <th>DebtRatio</th>\n",
       "      <th>MonthlyIncome</th>\n",
       "      <th>NumberOfOpenCreditLinesAndLoans</th>\n",
       "      <th>NumberOfTimes90DaysLate</th>\n",
       "      <th>NumberRealEstateLoansOrLines</th>\n",
       "      <th>NumberOfTime60-89DaysPastDueNotWorse</th>\n",
       "      <th>NumberOfDependents</th>\n",
       "    </tr>\n",
       "  </thead>\n",
       "  <tbody>\n",
       "    <tr>\n",
       "      <th>count</th>\n",
       "      <td>150000.000000</td>\n",
       "      <td>150000.000000</td>\n",
       "      <td>150000.000000</td>\n",
       "      <td>150000.000000</td>\n",
       "      <td>150000.000000</td>\n",
       "      <td>150000.000000</td>\n",
       "      <td>1.202690e+05</td>\n",
       "      <td>150000.000000</td>\n",
       "      <td>150000.000000</td>\n",
       "      <td>150000.000000</td>\n",
       "      <td>150000.000000</td>\n",
       "      <td>146076.000000</td>\n",
       "    </tr>\n",
       "    <tr>\n",
       "      <th>mean</th>\n",
       "      <td>75000.500000</td>\n",
       "      <td>0.066840</td>\n",
       "      <td>6.048438</td>\n",
       "      <td>52.295207</td>\n",
       "      <td>0.421033</td>\n",
       "      <td>353.005076</td>\n",
       "      <td>6.670221e+03</td>\n",
       "      <td>8.452760</td>\n",
       "      <td>0.265973</td>\n",
       "      <td>1.018240</td>\n",
       "      <td>0.240387</td>\n",
       "      <td>0.757222</td>\n",
       "    </tr>\n",
       "    <tr>\n",
       "      <th>std</th>\n",
       "      <td>43301.414527</td>\n",
       "      <td>0.249746</td>\n",
       "      <td>249.755371</td>\n",
       "      <td>14.771866</td>\n",
       "      <td>4.192781</td>\n",
       "      <td>2037.818523</td>\n",
       "      <td>1.438467e+04</td>\n",
       "      <td>5.145951</td>\n",
       "      <td>4.169304</td>\n",
       "      <td>1.129771</td>\n",
       "      <td>4.155179</td>\n",
       "      <td>1.115086</td>\n",
       "    </tr>\n",
       "    <tr>\n",
       "      <th>min</th>\n",
       "      <td>1.000000</td>\n",
       "      <td>0.000000</td>\n",
       "      <td>0.000000</td>\n",
       "      <td>0.000000</td>\n",
       "      <td>0.000000</td>\n",
       "      <td>0.000000</td>\n",
       "      <td>0.000000e+00</td>\n",
       "      <td>0.000000</td>\n",
       "      <td>0.000000</td>\n",
       "      <td>0.000000</td>\n",
       "      <td>0.000000</td>\n",
       "      <td>0.000000</td>\n",
       "    </tr>\n",
       "    <tr>\n",
       "      <th>50%</th>\n",
       "      <td>75000.500000</td>\n",
       "      <td>0.000000</td>\n",
       "      <td>0.154181</td>\n",
       "      <td>52.000000</td>\n",
       "      <td>0.000000</td>\n",
       "      <td>0.366508</td>\n",
       "      <td>5.400000e+03</td>\n",
       "      <td>8.000000</td>\n",
       "      <td>0.000000</td>\n",
       "      <td>1.000000</td>\n",
       "      <td>0.000000</td>\n",
       "      <td>0.000000</td>\n",
       "    </tr>\n",
       "    <tr>\n",
       "      <th>61%</th>\n",
       "      <td>91500.390000</td>\n",
       "      <td>0.000000</td>\n",
       "      <td>0.286275</td>\n",
       "      <td>56.000000</td>\n",
       "      <td>0.000000</td>\n",
       "      <td>0.479827</td>\n",
       "      <td>6.459000e+03</td>\n",
       "      <td>9.000000</td>\n",
       "      <td>0.000000</td>\n",
       "      <td>1.000000</td>\n",
       "      <td>0.000000</td>\n",
       "      <td>1.000000</td>\n",
       "    </tr>\n",
       "    <tr>\n",
       "      <th>62%</th>\n",
       "      <td>93000.380000</td>\n",
       "      <td>0.000000</td>\n",
       "      <td>0.301057</td>\n",
       "      <td>57.000000</td>\n",
       "      <td>0.000000</td>\n",
       "      <td>0.493251</td>\n",
       "      <td>6.537000e+03</td>\n",
       "      <td>9.000000</td>\n",
       "      <td>0.000000</td>\n",
       "      <td>1.000000</td>\n",
       "      <td>0.000000</td>\n",
       "      <td>1.000000</td>\n",
       "    </tr>\n",
       "    <tr>\n",
       "      <th>68%</th>\n",
       "      <td>102000.320000</td>\n",
       "      <td>0.000000</td>\n",
       "      <td>0.405607</td>\n",
       "      <td>60.000000</td>\n",
       "      <td>0.000000</td>\n",
       "      <td>0.598695</td>\n",
       "      <td>7.250000e+03</td>\n",
       "      <td>10.000000</td>\n",
       "      <td>0.000000</td>\n",
       "      <td>1.000000</td>\n",
       "      <td>0.000000</td>\n",
       "      <td>1.000000</td>\n",
       "    </tr>\n",
       "    <tr>\n",
       "      <th>69%</th>\n",
       "      <td>103500.310000</td>\n",
       "      <td>0.000000</td>\n",
       "      <td>0.425089</td>\n",
       "      <td>60.000000</td>\n",
       "      <td>0.000000</td>\n",
       "      <td>0.623236</td>\n",
       "      <td>7.415000e+03</td>\n",
       "      <td>10.000000</td>\n",
       "      <td>0.000000</td>\n",
       "      <td>1.000000</td>\n",
       "      <td>0.000000</td>\n",
       "      <td>1.000000</td>\n",
       "    </tr>\n",
       "    <tr>\n",
       "      <th>75%</th>\n",
       "      <td>112500.250000</td>\n",
       "      <td>0.000000</td>\n",
       "      <td>0.559046</td>\n",
       "      <td>63.000000</td>\n",
       "      <td>0.000000</td>\n",
       "      <td>0.868254</td>\n",
       "      <td>8.249000e+03</td>\n",
       "      <td>11.000000</td>\n",
       "      <td>0.000000</td>\n",
       "      <td>2.000000</td>\n",
       "      <td>0.000000</td>\n",
       "      <td>1.000000</td>\n",
       "    </tr>\n",
       "    <tr>\n",
       "      <th>80%</th>\n",
       "      <td>120000.200000</td>\n",
       "      <td>0.000000</td>\n",
       "      <td>0.698857</td>\n",
       "      <td>65.000000</td>\n",
       "      <td>0.000000</td>\n",
       "      <td>4.000000</td>\n",
       "      <td>9.083000e+03</td>\n",
       "      <td>12.000000</td>\n",
       "      <td>0.000000</td>\n",
       "      <td>2.000000</td>\n",
       "      <td>0.000000</td>\n",
       "      <td>2.000000</td>\n",
       "    </tr>\n",
       "    <tr>\n",
       "      <th>99%</th>\n",
       "      <td>148500.010000</td>\n",
       "      <td>1.000000</td>\n",
       "      <td>1.092956</td>\n",
       "      <td>87.000000</td>\n",
       "      <td>4.000000</td>\n",
       "      <td>4979.040000</td>\n",
       "      <td>2.500000e+04</td>\n",
       "      <td>24.000000</td>\n",
       "      <td>3.000000</td>\n",
       "      <td>4.000000</td>\n",
       "      <td>2.000000</td>\n",
       "      <td>4.000000</td>\n",
       "    </tr>\n",
       "    <tr>\n",
       "      <th>max</th>\n",
       "      <td>150000.000000</td>\n",
       "      <td>1.000000</td>\n",
       "      <td>50708.000000</td>\n",
       "      <td>109.000000</td>\n",
       "      <td>98.000000</td>\n",
       "      <td>329664.000000</td>\n",
       "      <td>3.008750e+06</td>\n",
       "      <td>58.000000</td>\n",
       "      <td>98.000000</td>\n",
       "      <td>54.000000</td>\n",
       "      <td>98.000000</td>\n",
       "      <td>20.000000</td>\n",
       "    </tr>\n",
       "  </tbody>\n",
       "</table>\n",
       "</div>"
      ],
      "text/plain": [
       "          Unnamed: 0  SeriousDlqin2yrs  RevolvingUtilizationOfUnsecuredLines  \\\n",
       "count  150000.000000     150000.000000                         150000.000000   \n",
       "mean    75000.500000          0.066840                              6.048438   \n",
       "std     43301.414527          0.249746                            249.755371   \n",
       "min         1.000000          0.000000                              0.000000   \n",
       "50%     75000.500000          0.000000                              0.154181   \n",
       "61%     91500.390000          0.000000                              0.286275   \n",
       "62%     93000.380000          0.000000                              0.301057   \n",
       "68%    102000.320000          0.000000                              0.405607   \n",
       "69%    103500.310000          0.000000                              0.425089   \n",
       "75%    112500.250000          0.000000                              0.559046   \n",
       "80%    120000.200000          0.000000                              0.698857   \n",
       "99%    148500.010000          1.000000                              1.092956   \n",
       "max    150000.000000          1.000000                          50708.000000   \n",
       "\n",
       "                 age  NumberOfTime30-59DaysPastDueNotWorse      DebtRatio  \\\n",
       "count  150000.000000                         150000.000000  150000.000000   \n",
       "mean       52.295207                              0.421033     353.005076   \n",
       "std        14.771866                              4.192781    2037.818523   \n",
       "min         0.000000                              0.000000       0.000000   \n",
       "50%        52.000000                              0.000000       0.366508   \n",
       "61%        56.000000                              0.000000       0.479827   \n",
       "62%        57.000000                              0.000000       0.493251   \n",
       "68%        60.000000                              0.000000       0.598695   \n",
       "69%        60.000000                              0.000000       0.623236   \n",
       "75%        63.000000                              0.000000       0.868254   \n",
       "80%        65.000000                              0.000000       4.000000   \n",
       "99%        87.000000                              4.000000    4979.040000   \n",
       "max       109.000000                             98.000000  329664.000000   \n",
       "\n",
       "       MonthlyIncome  NumberOfOpenCreditLinesAndLoans  \\\n",
       "count   1.202690e+05                    150000.000000   \n",
       "mean    6.670221e+03                         8.452760   \n",
       "std     1.438467e+04                         5.145951   \n",
       "min     0.000000e+00                         0.000000   \n",
       "50%     5.400000e+03                         8.000000   \n",
       "61%     6.459000e+03                         9.000000   \n",
       "62%     6.537000e+03                         9.000000   \n",
       "68%     7.250000e+03                        10.000000   \n",
       "69%     7.415000e+03                        10.000000   \n",
       "75%     8.249000e+03                        11.000000   \n",
       "80%     9.083000e+03                        12.000000   \n",
       "99%     2.500000e+04                        24.000000   \n",
       "max     3.008750e+06                        58.000000   \n",
       "\n",
       "       NumberOfTimes90DaysLate  NumberRealEstateLoansOrLines  \\\n",
       "count            150000.000000                 150000.000000   \n",
       "mean                  0.265973                      1.018240   \n",
       "std                   4.169304                      1.129771   \n",
       "min                   0.000000                      0.000000   \n",
       "50%                   0.000000                      1.000000   \n",
       "61%                   0.000000                      1.000000   \n",
       "62%                   0.000000                      1.000000   \n",
       "68%                   0.000000                      1.000000   \n",
       "69%                   0.000000                      1.000000   \n",
       "75%                   0.000000                      2.000000   \n",
       "80%                   0.000000                      2.000000   \n",
       "99%                   3.000000                      4.000000   \n",
       "max                  98.000000                     54.000000   \n",
       "\n",
       "       NumberOfTime60-89DaysPastDueNotWorse  NumberOfDependents  \n",
       "count                         150000.000000       146076.000000  \n",
       "mean                               0.240387            0.757222  \n",
       "std                                4.155179            1.115086  \n",
       "min                                0.000000            0.000000  \n",
       "50%                                0.000000            0.000000  \n",
       "61%                                0.000000            1.000000  \n",
       "62%                                0.000000            1.000000  \n",
       "68%                                0.000000            1.000000  \n",
       "69%                                0.000000            1.000000  \n",
       "75%                                0.000000            1.000000  \n",
       "80%                                0.000000            2.000000  \n",
       "99%                                2.000000            4.000000  \n",
       "max                               98.000000           20.000000  "
      ]
     },
     "execution_count": 11,
     "metadata": {},
     "output_type": "execute_result"
    }
   ],
   "source": [
    "train_df.describe(percentiles=[.61, .62, .68, .69, .75, .8, .99])"
   ]
  },
  {
   "cell_type": "markdown",
   "id": "0ca5a657",
   "metadata": {
    "papermill": {
     "duration": 0.033059,
     "end_time": "2021-07-19T06:07:41.800629",
     "exception": false,
     "start_time": "2021-07-19T06:07:41.767570",
     "status": "completed"
    },
    "tags": []
   },
   "source": [
    "具体查看一下age的情况"
   ]
  },
  {
   "cell_type": "code",
   "execution_count": 12,
   "id": "0d8643a7",
   "metadata": {
    "execution": {
     "iopub.execute_input": "2021-07-19T06:07:41.870821Z",
     "iopub.status.busy": "2021-07-19T06:07:41.870055Z",
     "iopub.status.idle": "2021-07-19T06:07:41.897660Z",
     "shell.execute_reply": "2021-07-19T06:07:41.897104Z"
    },
    "papermill": {
     "duration": 0.064461,
     "end_time": "2021-07-19T06:07:41.897785",
     "exception": false,
     "start_time": "2021-07-19T06:07:41.833324",
     "status": "completed"
    },
    "tags": []
   },
   "outputs": [
    {
     "data": {
      "text/html": [
       "<div>\n",
       "<style scoped>\n",
       "    .dataframe tbody tr th:only-of-type {\n",
       "        vertical-align: middle;\n",
       "    }\n",
       "\n",
       "    .dataframe tbody tr th {\n",
       "        vertical-align: top;\n",
       "    }\n",
       "\n",
       "    .dataframe thead th {\n",
       "        text-align: right;\n",
       "    }\n",
       "</style>\n",
       "<table border=\"1\" class=\"dataframe\">\n",
       "  <thead>\n",
       "    <tr style=\"text-align: right;\">\n",
       "      <th></th>\n",
       "      <th>Unnamed: 0</th>\n",
       "      <th>SeriousDlqin2yrs</th>\n",
       "      <th>RevolvingUtilizationOfUnsecuredLines</th>\n",
       "      <th>age</th>\n",
       "      <th>NumberOfTime30-59DaysPastDueNotWorse</th>\n",
       "      <th>DebtRatio</th>\n",
       "      <th>MonthlyIncome</th>\n",
       "      <th>NumberOfOpenCreditLinesAndLoans</th>\n",
       "      <th>NumberOfTimes90DaysLate</th>\n",
       "      <th>NumberRealEstateLoansOrLines</th>\n",
       "      <th>NumberOfTime60-89DaysPastDueNotWorse</th>\n",
       "      <th>NumberOfDependents</th>\n",
       "    </tr>\n",
       "  </thead>\n",
       "  <tbody>\n",
       "    <tr>\n",
       "      <th>65695</th>\n",
       "      <td>65696</td>\n",
       "      <td>0</td>\n",
       "      <td>1.0</td>\n",
       "      <td>0</td>\n",
       "      <td>1</td>\n",
       "      <td>0.436927</td>\n",
       "      <td>6000.0</td>\n",
       "      <td>6</td>\n",
       "      <td>0</td>\n",
       "      <td>2</td>\n",
       "      <td>0</td>\n",
       "      <td>2.0</td>\n",
       "    </tr>\n",
       "  </tbody>\n",
       "</table>\n",
       "</div>"
      ],
      "text/plain": [
       "       Unnamed: 0  SeriousDlqin2yrs  RevolvingUtilizationOfUnsecuredLines  \\\n",
       "65695       65696                 0                                   1.0   \n",
       "\n",
       "       age  NumberOfTime30-59DaysPastDueNotWorse  DebtRatio  MonthlyIncome  \\\n",
       "65695    0                                     1   0.436927         6000.0   \n",
       "\n",
       "       NumberOfOpenCreditLinesAndLoans  NumberOfTimes90DaysLate  \\\n",
       "65695                                6                        0   \n",
       "\n",
       "       NumberRealEstateLoansOrLines  NumberOfTime60-89DaysPastDueNotWorse  \\\n",
       "65695                             2                                     0   \n",
       "\n",
       "       NumberOfDependents  \n",
       "65695                 2.0  "
      ]
     },
     "execution_count": 12,
     "metadata": {},
     "output_type": "execute_result"
    }
   ],
   "source": [
    "train_df.loc[train_df['age'] < 18]    #查看age小于18的情况"
   ]
  },
  {
   "cell_type": "markdown",
   "id": "cf757f03",
   "metadata": {
    "papermill": {
     "duration": 0.032911,
     "end_time": "2021-07-19T06:07:41.964209",
     "exception": false,
     "start_time": "2021-07-19T06:07:41.931298",
     "status": "completed"
    },
    "tags": []
   },
   "source": [
    "age小于18的数据只有一条，用中位数填充就好"
   ]
  },
  {
   "cell_type": "markdown",
   "id": "f1b9596b",
   "metadata": {
    "papermill": {
     "duration": 0.033305,
     "end_time": "2021-07-19T06:07:42.030778",
     "exception": false,
     "start_time": "2021-07-19T06:07:41.997473",
     "status": "completed"
    },
    "tags": []
   },
   "source": [
    "查看以下三条相近特征的箱线图，看是否有异常值"
   ]
  },
  {
   "cell_type": "code",
   "execution_count": 13,
   "id": "3b92b6a9",
   "metadata": {
    "execution": {
     "iopub.execute_input": "2021-07-19T06:07:42.104759Z",
     "iopub.status.busy": "2021-07-19T06:07:42.104033Z",
     "iopub.status.idle": "2021-07-19T06:07:42.646718Z",
     "shell.execute_reply": "2021-07-19T06:07:42.646291Z"
    },
    "papermill": {
     "duration": 0.582971,
     "end_time": "2021-07-19T06:07:42.646856",
     "exception": false,
     "start_time": "2021-07-19T06:07:42.063885",
     "status": "completed"
    },
    "tags": []
   },
   "outputs": [
    {
     "data": {
      "image/png": "[encoded data removed]",
      "text/plain": [
       "<Figure size 720x360 with 1 Axes>"
      ]
     },
     "metadata": {
      "needs_background": "light"
     },
     "output_type": "display_data"
    }
   ],
   "source": [
    "plt.figure(figsize=(10, 5)) \n",
    "train_df[['NumberOfTime30-59DaysPastDueNotWorse', \n",
    "          'NumberOfTime60-89DaysPastDueNotWorse',\n",
    "          'NumberOfTimes90DaysLate']].boxplot()\n",
    "plt.show()"
   ]
  },
  {
   "cell_type": "markdown",
   "id": "17b59181",
   "metadata": {
    "papermill": {
     "duration": 0.034216,
     "end_time": "2021-07-19T06:07:42.714796",
     "exception": false,
     "start_time": "2021-07-19T06:07:42.680580",
     "status": "completed"
    },
    "tags": []
   },
   "source": [
    "可以看到三个特征都存在异常点，将异常值都删掉。"
   ]
  },
  {
   "cell_type": "code",
   "execution_count": 14,
   "id": "11ea46ca",
   "metadata": {
    "execution": {
     "iopub.execute_input": "2021-07-19T06:07:42.788537Z",
     "iopub.status.busy": "2021-07-19T06:07:42.787609Z",
     "iopub.status.idle": "2021-07-19T06:07:42.915349Z",
     "shell.execute_reply": "2021-07-19T06:07:42.914860Z"
    },
    "papermill": {
     "duration": 0.166702,
     "end_time": "2021-07-19T06:07:42.915479",
     "exception": false,
     "start_time": "2021-07-19T06:07:42.748777",
     "status": "completed"
    },
    "tags": []
   },
   "outputs": [
    {
     "name": "stderr",
     "output_type": "stream",
     "text": [
      "/opt/conda/lib/python3.7/site-packages/seaborn/_decorators.py:43: FutureWarning: Pass the following variable as a keyword arg: x. From version 0.12, the only valid positional argument will be `data`, and passing other arguments without an explicit keyword will result in an error or misinterpretation.\n",
      "  FutureWarning\n"
     ]
    },
    {
     "data": {
      "text/plain": [
       "<AxesSubplot:xlabel='SeriousDlqin2yrs', ylabel='count'>"
      ]
     },
     "execution_count": 14,
     "metadata": {},
     "output_type": "execute_result"
    },
    {
     "data": {
      "image/png": "[encoded data removed]",
      "text/plain": [
       "<Figure size 432x288 with 1 Axes>"
      ]
     },
     "metadata": {
      "needs_background": "light"
     },
     "output_type": "display_data"
    }
   ],
   "source": [
    "# 查看SeriousDlqin2yrs分布\n",
    "plt.figure()\n",
    "sns.countplot('SeriousDlqin2yrs',data=train_df)"
   ]
  },
  {
   "cell_type": "markdown",
   "id": "ec864377",
   "metadata": {
    "papermill": {
     "duration": 0.034738,
     "end_time": "2021-07-19T06:07:42.985030",
     "exception": false,
     "start_time": "2021-07-19T06:07:42.950292",
     "status": "completed"
    },
    "tags": []
   },
   "source": [
    "可以看到为0的占比大多数，分类非常不平衡，可能会造成预测性能下降。"
   ]
  },
  {
   "cell_type": "code",
   "execution_count": 15,
   "id": "b65e582f",
   "metadata": {
    "execution": {
     "iopub.execute_input": "2021-07-19T06:07:43.061560Z",
     "iopub.status.busy": "2021-07-19T06:07:43.060982Z",
     "iopub.status.idle": "2021-07-19T06:07:44.400115Z",
     "shell.execute_reply": "2021-07-19T06:07:44.400550Z"
    },
    "papermill": {
     "duration": 1.380126,
     "end_time": "2021-07-19T06:07:44.400706",
     "exception": false,
     "start_time": "2021-07-19T06:07:43.020580",
     "status": "completed"
    },
    "tags": []
   },
   "outputs": [
    {
     "data": {
      "text/plain": [
       "<AxesSubplot:title={'center':'heatmap'}>"
      ]
     },
     "execution_count": 15,
     "metadata": {},
     "output_type": "execute_result"
    },
    {
     "data": {
      "image/png": "[encoded data removed]",
      "text/plain": [
       "<Figure size 936x936 with 2 Axes>"
      ]
     },
     "metadata": {
      "needs_background": "light"
     },
     "output_type": "display_data"
    }
   ],
   "source": [
    "correlation = train_df.corr()\n",
    "f , ax = plt.subplots(figsize = (13, 13))\n",
    "plt.title('heatmap',y=1,size=16)\n",
    "sns.heatmap(correlation,annot = True,  vmax=0.8)"
   ]
  },
  {
   "cell_type": "markdown",
   "id": "caeae956",
   "metadata": {
    "papermill": {
     "duration": 0.039314,
     "end_time": "2021-07-19T06:07:44.479976",
     "exception": false,
     "start_time": "2021-07-19T06:07:44.440662",
     "status": "completed"
    },
    "tags": []
   },
   "source": [
    "这时的热力图是还没消除异常值的情况下"
   ]
  },
  {
   "cell_type": "code",
   "execution_count": 16,
   "id": "fc3dc8e6",
   "metadata": {
    "execution": {
     "iopub.execute_input": "2021-07-19T06:07:44.563544Z",
     "iopub.status.busy": "2021-07-19T06:07:44.562980Z",
     "iopub.status.idle": "2021-07-19T06:07:46.618791Z",
     "shell.execute_reply": "2021-07-19T06:07:46.618261Z"
    },
    "papermill": {
     "duration": 2.099802,
     "end_time": "2021-07-19T06:07:46.618927",
     "exception": false,
     "start_time": "2021-07-19T06:07:44.519125",
     "status": "completed"
    },
    "tags": []
   },
   "outputs": [
    {
     "name": "stderr",
     "output_type": "stream",
     "text": [
      "/opt/conda/lib/python3.7/site-packages/seaborn/distributions.py:2557: FutureWarning: `distplot` is a deprecated function and will be removed in a future version. Please adapt your code to use either `displot` (a figure-level function with similar flexibility) or `histplot` (an axes-level function for histograms).\n",
      "  warnings.warn(msg, FutureWarning)\n"
     ]
    },
    {
     "data": {
      "image/png": "[encoded data removed]",
      "text/plain": [
       "<Figure size 432x288 with 1 Axes>"
      ]
     },
     "metadata": {
      "needs_background": "light"
     },
     "output_type": "display_data"
    },
    {
     "name": "stderr",
     "output_type": "stream",
     "text": [
      "/opt/conda/lib/python3.7/site-packages/seaborn/distributions.py:2557: FutureWarning: `distplot` is a deprecated function and will be removed in a future version. Please adapt your code to use either `displot` (a figure-level function with similar flexibility) or `histplot` (an axes-level function for histograms).\n",
      "  warnings.warn(msg, FutureWarning)\n"
     ]
    },
    {
     "data": {
      "image/png": "[encoded data removed]",
      "text/plain": [
       "<Figure size 432x288 with 1 Axes>"
      ]
     },
     "metadata": {
      "needs_background": "light"
     },
     "output_type": "display_data"
    }
   ],
   "source": [
    "age=train_df['age']\n",
    "sns.distplot(age)\n",
    "plt.show()\n",
    "\n",
    "mi=train_df[train_df['MonthlyIncome']<50000]['MonthlyIncome']\n",
    "sns.distplot(mi)\n",
    "plt.show()      #观察图，年龄和收入分布皆近似正态分布！）"
   ]
  },
  {
   "cell_type": "markdown",
   "id": "f71ae126",
   "metadata": {
    "papermill": {
     "duration": 0.040867,
     "end_time": "2021-07-19T06:07:46.700880",
     "exception": false,
     "start_time": "2021-07-19T06:07:46.660013",
     "status": "completed"
    },
    "tags": []
   },
   "source": [
    "年龄和收入分布近似正态分布。"
   ]
  },
  {
   "cell_type": "markdown",
   "id": "7df97bbb",
   "metadata": {
    "papermill": {
     "duration": 0.040631,
     "end_time": "2021-07-19T06:07:46.782444",
     "exception": false,
     "start_time": "2021-07-19T06:07:46.741813",
     "status": "completed"
    },
    "tags": []
   },
   "source": [
    "# 2.数据预处理 "
   ]
  },
  {
   "cell_type": "code",
   "execution_count": 17,
   "id": "998945f5",
   "metadata": {
    "execution": {
     "iopub.execute_input": "2021-07-19T06:07:46.869163Z",
     "iopub.status.busy": "2021-07-19T06:07:46.868551Z",
     "iopub.status.idle": "2021-07-19T06:07:46.950180Z",
     "shell.execute_reply": "2021-07-19T06:07:46.950593Z"
    },
    "papermill": {
     "duration": 0.127358,
     "end_time": "2021-07-19T06:07:46.950760",
     "exception": false,
     "start_time": "2021-07-19T06:07:46.823402",
     "status": "completed"
    },
    "tags": []
   },
   "outputs": [],
   "source": [
    "train_df.drop_duplicates(inplace=True)    #去重"
   ]
  },
  {
   "cell_type": "markdown",
   "id": "3b134626",
   "metadata": {
    "papermill": {
     "duration": 0.041193,
     "end_time": "2021-07-19T06:07:47.033560",
     "exception": false,
     "start_time": "2021-07-19T06:07:46.992367",
     "status": "completed"
    },
    "tags": []
   },
   "source": [
    "对未命名的第一列重命名为ID，方便观察。"
   ]
  },
  {
   "cell_type": "code",
   "execution_count": 18,
   "id": "0fa7a68f",
   "metadata": {
    "execution": {
     "iopub.execute_input": "2021-07-19T06:07:47.120841Z",
     "iopub.status.busy": "2021-07-19T06:07:47.120284Z",
     "iopub.status.idle": "2021-07-19T06:07:47.124545Z",
     "shell.execute_reply": "2021-07-19T06:07:47.124979Z"
    },
    "papermill": {
     "duration": 0.049321,
     "end_time": "2021-07-19T06:07:47.125148",
     "exception": false,
     "start_time": "2021-07-19T06:07:47.075827",
     "status": "completed"
    },
    "tags": []
   },
   "outputs": [],
   "source": [
    "train_df.rename(columns={'Unnamed: 0':'ID'}, inplace=True)\n",
    "test_df.rename(columns={'Unnamed: 0':'ID'}, inplace=True)"
   ]
  },
  {
   "cell_type": "markdown",
   "id": "d5a3aae2",
   "metadata": {
    "papermill": {
     "duration": 0.040643,
     "end_time": "2021-07-19T06:07:47.207035",
     "exception": false,
     "start_time": "2021-07-19T06:07:47.166392",
     "status": "completed"
    },
    "tags": []
   },
   "source": [
    "将NumberOf-Time30-59DaysPastDueNotWorse, NumberOfTimes90Days-Late, NumberOfTime60-89DaysPastDueNotWorse大于90的点删除。"
   ]
  },
  {
   "cell_type": "code",
   "execution_count": 19,
   "id": "55edc567",
   "metadata": {
    "execution": {
     "iopub.execute_input": "2021-07-19T06:07:47.292085Z",
     "iopub.status.busy": "2021-07-19T06:07:47.291509Z",
     "iopub.status.idle": "2021-07-19T06:07:47.319969Z",
     "shell.execute_reply": "2021-07-19T06:07:47.319493Z"
    },
    "papermill": {
     "duration": 0.072176,
     "end_time": "2021-07-19T06:07:47.320122",
     "exception": false,
     "start_time": "2021-07-19T06:07:47.247946",
     "status": "completed"
    },
    "tags": []
   },
   "outputs": [],
   "source": [
    "train_df = train_df[train_df['NumberOfTime30-59DaysPastDueNotWorse'] < 90] \n",
    "train_df = train_df[train_df['NumberOfTimes90DaysLate'] < 90] \n",
    "train_df = train_df[train_df['NumberOfTime60-89DaysPastDueNotWorse'] < 90] "
   ]
  },
  {
   "cell_type": "markdown",
   "id": "d0c60290",
   "metadata": {
    "papermill": {
     "duration": 0.041298,
     "end_time": "2021-07-19T06:07:47.402993",
     "exception": false,
     "start_time": "2021-07-19T06:07:47.361695",
     "status": "completed"
    },
    "tags": []
   },
   "source": [
    "家属人数大于8的设为8。"
   ]
  },
  {
   "cell_type": "code",
   "execution_count": 20,
   "id": "ce8eb42a",
   "metadata": {
    "execution": {
     "iopub.execute_input": "2021-07-19T06:07:47.510896Z",
     "iopub.status.busy": "2021-07-19T06:07:47.505985Z",
     "iopub.status.idle": "2021-07-19T06:07:47.545635Z",
     "shell.execute_reply": "2021-07-19T06:07:47.545004Z"
    },
    "papermill": {
     "duration": 0.101214,
     "end_time": "2021-07-19T06:07:47.545767",
     "exception": false,
     "start_time": "2021-07-19T06:07:47.444553",
     "status": "completed"
    },
    "tags": []
   },
   "outputs": [],
   "source": [
    "k = 0\n",
    "for i in train_df['NumberOfDependents']:\n",
    "    if i>8:\n",
    "        train_df['NumberOfDependents'].values[k]=8\n",
    "    k +=1\n",
    "k = 0\n",
    "for i in test_df['NumberOfDependents']:\n",
    "    if i>8:\n",
    "        test_df['NumberOfDependents'].values[k]=8\n",
    "    k +=1"
   ]
  },
  {
   "cell_type": "markdown",
   "id": "759f6a6b",
   "metadata": {
    "papermill": {
     "duration": 0.041247,
     "end_time": "2021-07-19T06:07:47.628702",
     "exception": false,
     "start_time": "2021-07-19T06:07:47.587455",
     "status": "completed"
    },
    "tags": []
   },
   "source": [
    "age为0的用中位数填充。"
   ]
  },
  {
   "cell_type": "code",
   "execution_count": 21,
   "id": "fb2d825f",
   "metadata": {
    "execution": {
     "iopub.execute_input": "2021-07-19T06:07:47.730109Z",
     "iopub.status.busy": "2021-07-19T06:07:47.719654Z",
     "iopub.status.idle": "2021-07-19T06:07:47.765817Z",
     "shell.execute_reply": "2021-07-19T06:07:47.766219Z"
    },
    "papermill": {
     "duration": 0.09593,
     "end_time": "2021-07-19T06:07:47.766393",
     "exception": false,
     "start_time": "2021-07-19T06:07:47.670463",
     "status": "completed"
    },
    "tags": []
   },
   "outputs": [],
   "source": [
    "k = 0\n",
    "for i in test_df['age']:\n",
    "    if i==0:\n",
    "        test_df['age'].values[k]=test_df['age'].median()\n",
    "    k +=1\n",
    "k = 0\n",
    "for i in train_df['age']:\n",
    "    if i==0:\n",
    "        train_df['age'].values[k]=train_df['age'].median()\n",
    "    k +=1"
   ]
  },
  {
   "cell_type": "markdown",
   "id": "bd4d1421",
   "metadata": {
    "papermill": {
     "duration": 0.04166,
     "end_time": "2021-07-19T06:07:47.850118",
     "exception": false,
     "start_time": "2021-07-19T06:07:47.808458",
     "status": "completed"
    },
    "tags": []
   },
   "source": [
    "用中位数填充年龄小于18的数据。"
   ]
  },
  {
   "cell_type": "code",
   "execution_count": 22,
   "id": "382fb8ba",
   "metadata": {
    "execution": {
     "iopub.execute_input": "2021-07-19T06:07:47.938396Z",
     "iopub.status.busy": "2021-07-19T06:07:47.937809Z",
     "iopub.status.idle": "2021-07-19T06:07:47.946329Z",
     "shell.execute_reply": "2021-07-19T06:07:47.946703Z"
    },
    "papermill": {
     "duration": 0.05342,
     "end_time": "2021-07-19T06:07:47.946867",
     "exception": false,
     "start_time": "2021-07-19T06:07:47.893447",
     "status": "completed"
    },
    "tags": []
   },
   "outputs": [],
   "source": [
    "train_df.loc[train_df['age'] < 18, 'age'] = train_df['age'].median()"
   ]
  },
  {
   "cell_type": "markdown",
   "id": "166a4e00",
   "metadata": {
    "papermill": {
     "duration": 0.042706,
     "end_time": "2021-07-19T06:07:48.031557",
     "exception": false,
     "start_time": "2021-07-19T06:07:47.988851",
     "status": "completed"
    },
    "tags": []
   },
   "source": [
    "用平均数填充MonthlyIncome空值，用中位数填充NumberOf-Dependents空值。"
   ]
  },
  {
   "cell_type": "code",
   "execution_count": 23,
   "id": "1d0e94e1",
   "metadata": {
    "execution": {
     "iopub.execute_input": "2021-07-19T06:07:48.122565Z",
     "iopub.status.busy": "2021-07-19T06:07:48.121998Z",
     "iopub.status.idle": "2021-07-19T06:07:48.134348Z",
     "shell.execute_reply": "2021-07-19T06:07:48.133883Z"
    },
    "papermill": {
     "duration": 0.059808,
     "end_time": "2021-07-19T06:07:48.134482",
     "exception": false,
     "start_time": "2021-07-19T06:07:48.074674",
     "status": "completed"
    },
    "tags": []
   },
   "outputs": [],
   "source": [
    "train_df['MonthlyIncome'] = train_df['MonthlyIncome'].replace(np.nan,train_df['MonthlyIncome'].mean())\n",
    "test_df['MonthlyIncome'] = test_df['MonthlyIncome'].replace(np.nan,test_df['MonthlyIncome'].mean())\n",
    "train_df['NumberOfDependents'] = train_df['NumberOfDependents'].replace(np.nan,train_df['NumberOfDependents'].median())\n",
    "test_df['NumberOfDependents'] = test_df['NumberOfDependents'].replace(np.nan,test_df['NumberOfDependents'].median())"
   ]
  },
  {
   "cell_type": "markdown",
   "id": "6bd42d56",
   "metadata": {
    "papermill": {
     "duration": 0.041397,
     "end_time": "2021-07-19T06:07:48.218034",
     "exception": false,
     "start_time": "2021-07-19T06:07:48.176637",
     "status": "completed"
    },
    "tags": []
   },
   "source": [
    "划分训练集合测试集。"
   ]
  },
  {
   "cell_type": "code",
   "execution_count": 24,
   "id": "851f41f9",
   "metadata": {
    "execution": {
     "iopub.execute_input": "2021-07-19T06:07:48.306922Z",
     "iopub.status.busy": "2021-07-19T06:07:48.306155Z",
     "iopub.status.idle": "2021-07-19T06:07:48.502499Z",
     "shell.execute_reply": "2021-07-19T06:07:48.501975Z"
    },
    "papermill": {
     "duration": 0.242704,
     "end_time": "2021-07-19T06:07:48.502630",
     "exception": false,
     "start_time": "2021-07-19T06:07:48.259926",
     "status": "completed"
    },
    "tags": []
   },
   "outputs": [],
   "source": [
    "from sklearn.model_selection import train_test_split\n",
    "x = train_df.drop(['SeriousDlqin2yrs', 'ID'],axis=1)\n",
    "y= train_df['SeriousDlqin2yrs']\n",
    "x_train, x_test, y_train, y_test = train_test_split(x, y, random_state=42)"
   ]
  },
  {
   "cell_type": "markdown",
   "id": "225af90e",
   "metadata": {
    "papermill": {
     "duration": 0.042844,
     "end_time": "2021-07-19T06:07:48.588000",
     "exception": false,
     "start_time": "2021-07-19T06:07:48.545156",
     "status": "completed"
    },
    "tags": []
   },
   "source": [
    "写出绘图auc曲线函数"
   ]
  },
  {
   "cell_type": "code",
   "execution_count": 25,
   "id": "a89b2bad",
   "metadata": {
    "execution": {
     "iopub.execute_input": "2021-07-19T06:07:48.677470Z",
     "iopub.status.busy": "2021-07-19T06:07:48.676874Z",
     "iopub.status.idle": "2021-07-19T06:07:48.679736Z",
     "shell.execute_reply": "2021-07-19T06:07:48.679302Z"
    },
    "papermill": {
     "duration": 0.04987,
     "end_time": "2021-07-19T06:07:48.679869",
     "exception": false,
     "start_time": "2021-07-19T06:07:48.629999",
     "status": "completed"
    },
    "tags": []
   },
   "outputs": [],
   "source": [
    "#auc绘图\n",
    "def plot_roc_curve(fpr, tpr, label=None):\n",
    "    plt.figure(figsize=(8,6))\n",
    "    plt.plot(fpr, tpr, linewidth=2, label=label)\n",
    "    plt.plot([0,1],[0,1], \"k--\") # 画直线做参考\n",
    "    plt.axis([0,1,0,1])\n",
    "    plt.xlabel(\"False Positive Rate\")\n",
    "    plt.ylabel(\"True Positive rate\")"
   ]
  },
  {
   "cell_type": "markdown",
   "id": "9b163705",
   "metadata": {
    "papermill": {
     "duration": 0.041819,
     "end_time": "2021-07-19T06:07:48.763642",
     "exception": false,
     "start_time": "2021-07-19T06:07:48.721823",
     "status": "completed"
    },
    "tags": []
   },
   "source": [
    "# 3.模型选择"
   ]
  },
  {
   "cell_type": "code",
   "execution_count": 26,
   "id": "ba55e4e1",
   "metadata": {
    "execution": {
     "iopub.execute_input": "2021-07-19T06:07:48.854241Z",
     "iopub.status.busy": "2021-07-19T06:07:48.853661Z",
     "iopub.status.idle": "2021-07-19T06:08:11.442826Z",
     "shell.execute_reply": "2021-07-19T06:08:11.443306Z"
    },
    "papermill": {
     "duration": 22.634259,
     "end_time": "2021-07-19T06:08:11.443492",
     "exception": false,
     "start_time": "2021-07-19T06:07:48.809233",
     "status": "completed"
    },
    "tags": []
   },
   "outputs": [
    {
     "name": "stdout",
     "output_type": "stream",
     "text": [
      "AUC Score : 0.8433818393421899\n"
     ]
    },
    {
     "data": {
      "image/png": "[encoded data removed]",
      "text/plain": [
       "<Figure size 576x432 with 1 Axes>"
      ]
     },
     "metadata": {
      "needs_background": "light"
     },
     "output_type": "display_data"
    }
   ],
   "source": [
    "from sklearn.metrics import accuracy_score, roc_curve, auc, roc_auc_score\n",
    "#随机森林\n",
    "from  sklearn.ensemble import RandomForestClassifier\n",
    "rfc = RandomForestClassifier(random_state=42)\n",
    "rfc.fit(x_train,y_train)\n",
    "pred=rfc.predict_proba(x_test)[:,1]\n",
    "fpr, tpr, _ = roc_curve(y_test, pred)\n",
    "roc_auc = auc(fpr,tpr)\n",
    "plot_roc_curve(fpr,tpr)\n",
    "print ('AUC Score :', roc_auc)"
   ]
  },
  {
   "cell_type": "code",
   "execution_count": 27,
   "id": "35c0300c",
   "metadata": {
    "execution": {
     "iopub.execute_input": "2021-07-19T06:08:11.535644Z",
     "iopub.status.busy": "2021-07-19T06:08:11.534970Z",
     "iopub.status.idle": "2021-07-19T06:08:16.714005Z",
     "shell.execute_reply": "2021-07-19T06:08:16.714506Z"
    },
    "papermill": {
     "duration": 5.227494,
     "end_time": "2021-07-19T06:08:16.714679",
     "exception": false,
     "start_time": "2021-07-19T06:08:11.487185",
     "status": "completed"
    },
    "tags": []
   },
   "outputs": [
    {
     "name": "stderr",
     "output_type": "stream",
     "text": [
      "/opt/conda/lib/python3.7/site-packages/xgboost/sklearn.py:1146: UserWarning: The use of label encoder in XGBClassifier is deprecated and will be removed in a future release. To remove this warning, do the following: 1) Pass option use_label_encoder=False when constructing XGBClassifier object; and 2) Encode your labels (y) as integers starting with 0, i.e. 0, 1, 2, ..., [num_class - 1].\n",
      "  warnings.warn(label_encoder_deprecation_msg, UserWarning)\n"
     ]
    },
    {
     "name": "stdout",
     "output_type": "stream",
     "text": [
      "AUC Score : 0.8620289277399312\n"
     ]
    },
    {
     "data": {
      "image/png": "[encoded data removed]",
      "text/plain": [
       "<Figure size 576x432 with 1 Axes>"
      ]
     },
     "metadata": {
      "needs_background": "light"
     },
     "output_type": "display_data"
    }
   ],
   "source": [
    "from xgboost import XGBClassifier\n",
    "model = XGBClassifier(max_depth=5,eval_metric='auc',objective='binary:logistic')\n",
    "model.fit(x_train, y_train)\n",
    "# make predictions for test data\n",
    "y_pred = model.predict_proba(x_test)[:,1]\n",
    "# evaluate predictions\n",
    "fpr, tpr, _ = roc_curve(y_test, y_pred)\n",
    "roc_auc = auc(fpr,tpr)\n",
    "print ('AUC Score :', roc_auc)\n",
    "plot_roc_curve(fpr,tpr)"
   ]
  },
  {
   "cell_type": "code",
   "execution_count": 28,
   "id": "ff719e1e",
   "metadata": {
    "execution": {
     "iopub.execute_input": "2021-07-19T06:08:16.808448Z",
     "iopub.status.busy": "2021-07-19T06:08:16.807891Z",
     "iopub.status.idle": "2021-07-19T06:08:36.100549Z",
     "shell.execute_reply": "2021-07-19T06:08:36.100929Z"
    },
    "papermill": {
     "duration": 19.340744,
     "end_time": "2021-07-19T06:08:36.101105",
     "exception": false,
     "start_time": "2021-07-19T06:08:16.760361",
     "status": "completed"
    },
    "tags": []
   },
   "outputs": [
    {
     "name": "stdout",
     "output_type": "stream",
     "text": [
      "AUC Score : 0.8664226649455407\n"
     ]
    },
    {
     "data": {
      "image/png": "[encoded data removed]",
      "text/plain": [
       "<Figure size 576x432 with 1 Axes>"
      ]
     },
     "metadata": {
      "needs_background": "light"
     },
     "output_type": "display_data"
    }
   ],
   "source": [
    "\n",
    "from sklearn.ensemble import GradientBoostingClassifier\n",
    "gbc_clf_submission = GradientBoostingClassifier()\n",
    "gbc_clf_submission.fit(x_train,y_train)\n",
    "gbc_clf_proba = gbc_clf_submission.predict_proba(x_test)[:,1]\n",
    "fpr, tpr, _ = roc_curve(y_test, gbc_clf_proba)\n",
    "roc_auc = auc(fpr,tpr)\n",
    "print ('AUC Score :', roc_auc)\n",
    "plot_roc_curve(fpr,tpr)"
   ]
  },
  {
   "cell_type": "markdown",
   "id": "e8a70855",
   "metadata": {
    "papermill": {
     "duration": 0.04614,
     "end_time": "2021-07-19T06:08:36.194408",
     "exception": false,
     "start_time": "2021-07-19T06:08:36.148268",
     "status": "completed"
    },
    "tags": []
   },
   "source": [
    "# 4.优化调参"
   ]
  },
  {
   "cell_type": "markdown",
   "id": "36c73c93",
   "metadata": {
    "papermill": {
     "duration": 0.046249,
     "end_time": "2021-07-19T06:08:36.287087",
     "exception": false,
     "start_time": "2021-07-19T06:08:36.240838",
     "status": "completed"
    },
    "tags": []
   },
   "source": [
    "先对提升框架内的，迭代次数和学习率做调整，选一个较小的学习率，对迭代次数网格化调参。"
   ]
  },
  {
   "cell_type": "code",
   "execution_count": 29,
   "id": "4d88f1b0",
   "metadata": {
    "execution": {
     "iopub.execute_input": "2021-07-19T06:08:36.383507Z",
     "iopub.status.busy": "2021-07-19T06:08:36.382948Z",
     "iopub.status.idle": "2021-07-19T06:08:36.385100Z",
     "shell.execute_reply": "2021-07-19T06:08:36.385595Z"
    },
    "papermill": {
     "duration": 0.052551,
     "end_time": "2021-07-19T06:08:36.385765",
     "exception": false,
     "start_time": "2021-07-19T06:08:36.333214",
     "status": "completed"
    },
    "tags": []
   },
   "outputs": [],
   "source": [
    "# from sklearn.model_selection import train_test_split, cross_val_score, GridSearchCV\n",
    "# param_test1 = {'n_estimators':range(20,81,10)}\n",
    "# gsearch1 = GridSearchCV(estimator = GradientBoostingClassifier(learning_rate=0.1, min_samples_split=300,\n",
    "#                                   min_samples_leaf=20,max_depth=8,max_features='sqrt', subsample=0.8,random_state=10),\n",
    "#                        param_grid = param_test1, scoring='roc_auc',cv=5)\n",
    "# gsearch1.fit(x_train,y_train)\n",
    "# means = gsearch1.cv_results_['mean_test_score']\n",
    "# params = gsearch1.cv_results_['params']\n",
    "# print(means)\n",
    "# print(params)"
   ]
  },
  {
   "cell_type": "markdown",
   "id": "feb9bfcf",
   "metadata": {
    "papermill": {
     "duration": 0.045984,
     "end_time": "2021-07-19T06:08:36.479567",
     "exception": false,
     "start_time": "2021-07-19T06:08:36.433583",
     "status": "completed"
    },
    "tags": []
   },
   "source": [
    "找到了一个合适的迭代次数，现在开始对决策树进行调参。首先我们对决策树最大深度max_depth和内部节点再划分所需最小样本数min_samples_split进行网格搜索。"
   ]
  },
  {
   "cell_type": "code",
   "execution_count": 30,
   "id": "b96b2690",
   "metadata": {
    "execution": {
     "iopub.execute_input": "2021-07-19T06:08:36.574993Z",
     "iopub.status.busy": "2021-07-19T06:08:36.574436Z",
     "iopub.status.idle": "2021-07-19T06:08:36.577608Z",
     "shell.execute_reply": "2021-07-19T06:08:36.578151Z"
    },
    "papermill": {
     "duration": 0.052336,
     "end_time": "2021-07-19T06:08:36.578302",
     "exception": false,
     "start_time": "2021-07-19T06:08:36.525966",
     "status": "completed"
    },
    "tags": []
   },
   "outputs": [],
   "source": [
    "# param_test2 = {'max_depth':range(3,10,2), 'min_samples_split':range(100,801,200)}\n",
    "# gsearch2 = GridSearchCV(estimator = GradientBoostingClassifier(learning_rate=0.1, n_estimators=50, min_samples_leaf=20, \n",
    "#       max_features='sqrt', subsample=0.8, random_state=10), \n",
    "#    param_grid = param_test2, scoring='roc_auc', cv=5)\n",
    "# gsearch2.fit(x_train,y_train)\n",
    "# means = gsearch2.cv_results_['mean_test_score']\n",
    "# params = gsearch2.cv_results_['params']\n",
    "# print(means)\n",
    "# print(params)"
   ]
  },
  {
   "cell_type": "markdown",
   "id": "edf3ae40",
   "metadata": {
    "papermill": {
     "duration": 0.046155,
     "end_time": "2021-07-19T06:08:36.670786",
     "exception": false,
     "start_time": "2021-07-19T06:08:36.624631",
     "status": "completed"
    },
    "tags": []
   },
   "source": [
    "由于决策树深度7是一个比较合理的值，所以把它定下来，对于内部节点再划分所需最小样本数min_samples_split，暂时不能一起定下来，因为这个和决策树其他的参数存在关联。再对min_samples_split和min_samples_leaf一起调参。"
   ]
  },
  {
   "cell_type": "code",
   "execution_count": 31,
   "id": "00d9d9c3",
   "metadata": {
    "execution": {
     "iopub.execute_input": "2021-07-19T06:08:36.767545Z",
     "iopub.status.busy": "2021-07-19T06:08:36.766957Z",
     "iopub.status.idle": "2021-07-19T06:08:36.769643Z",
     "shell.execute_reply": "2021-07-19T06:08:36.769235Z"
    },
    "papermill": {
     "duration": 0.052544,
     "end_time": "2021-07-19T06:08:36.769764",
     "exception": false,
     "start_time": "2021-07-19T06:08:36.717220",
     "status": "completed"
    },
    "tags": []
   },
   "outputs": [],
   "source": [
    "# param_test3 = {'min_samples_split':range(800,1900,200), 'min_samples_leaf':range(60,101,10)}\n",
    "# gsearch3 = GridSearchCV(estimator = GradientBoostingClassifier(learning_rate=0.1, n_estimators=50,max_depth=7,\n",
    "#                                      max_features='sqrt', subsample=0.8, random_state=10), \n",
    "#                        param_grid = param_test3, scoring='roc_auc', cv=5)\n",
    "# gsearch3.fit(x_train,y_train)\n",
    "# means = gsearch3.cv_results_['mean_test_score']\n",
    "# params = gsearch3.cv_results_['params']\n",
    "# print(means)\n",
    "# print(params)"
   ]
  },
  {
   "cell_type": "code",
   "execution_count": 32,
   "id": "6dca9ad4",
   "metadata": {
    "execution": {
     "iopub.execute_input": "2021-07-19T06:08:36.867011Z",
     "iopub.status.busy": "2021-07-19T06:08:36.866454Z",
     "iopub.status.idle": "2021-07-19T06:08:36.869184Z",
     "shell.execute_reply": "2021-07-19T06:08:36.868648Z"
    },
    "papermill": {
     "duration": 0.052719,
     "end_time": "2021-07-19T06:08:36.869307",
     "exception": false,
     "start_time": "2021-07-19T06:08:36.816588",
     "status": "completed"
    },
    "tags": []
   },
   "outputs": [],
   "source": [
    "# gbm1 = GradientBoostingClassifier(learning_rate=0.1, n_estimators=50,max_depth=7, min_samples_leaf =120, \n",
    "#                min_samples_split =1000, max_features='sqrt', subsample=0.8, random_state=10)\n",
    "# gbm1.fit(x_train,y_train)\n",
    "# gbc_clf_proba = gbm1.predict_proba(x_test)[:,1]\n",
    "# y_pred = gbm1.predict(x_test)\n",
    "# fpr, tpr, _ = roc_curve(y_test, gbc_clf_proba)\n",
    "# roc_auc = auc(fpr,tpr)\n",
    "# plot_roc_curve(fpr,tpr)\n",
    "# print ('AUC Score :', roc_auc)"
   ]
  },
  {
   "cell_type": "code",
   "execution_count": 33,
   "id": "da0f633a",
   "metadata": {
    "execution": {
     "iopub.execute_input": "2021-07-19T06:08:36.966879Z",
     "iopub.status.busy": "2021-07-19T06:08:36.966312Z",
     "iopub.status.idle": "2021-07-19T06:08:36.969476Z",
     "shell.execute_reply": "2021-07-19T06:08:36.968999Z"
    },
    "papermill": {
     "duration": 0.053462,
     "end_time": "2021-07-19T06:08:36.969597",
     "exception": false,
     "start_time": "2021-07-19T06:08:36.916135",
     "status": "completed"
    },
    "tags": []
   },
   "outputs": [],
   "source": [
    "# param_test4 = {'max_features':range(1,9)}\n",
    "# gsearch4 = GridSearchCV(estimator = GradientBoostingClassifier(learning_rate=0.1, n_estimators=50,max_depth=7, min_samples_leaf =120, \n",
    "#                min_samples_split =1000, subsample=0.8, random_state=10), \n",
    "#                        param_grid = param_test4, scoring='roc_auc', cv=5)\n",
    "# gsearch4.fit(x_train,y_train)\n",
    "# means = gsearch4.cv_results_['mean_test_score']\n",
    "# params = gsearch4.cv_results_['params']\n",
    "# print(means)\n",
    "# print(params)"
   ]
  },
  {
   "cell_type": "code",
   "execution_count": 34,
   "id": "d56f2fe3",
   "metadata": {
    "execution": {
     "iopub.execute_input": "2021-07-19T06:08:37.066355Z",
     "iopub.status.busy": "2021-07-19T06:08:37.065799Z",
     "iopub.status.idle": "2021-07-19T06:08:37.069311Z",
     "shell.execute_reply": "2021-07-19T06:08:37.069736Z"
    },
    "papermill": {
     "duration": 0.053534,
     "end_time": "2021-07-19T06:08:37.069898",
     "exception": false,
     "start_time": "2021-07-19T06:08:37.016364",
     "status": "completed"
    },
    "tags": []
   },
   "outputs": [],
   "source": [
    "# param_test5 = {'subsample':[0.6,0.7,0.75,0.8,0.85,0.9]}\n",
    "# gsearch5 = GridSearchCV(estimator = GradientBoostingClassifier(learning_rate=0.1, n_estimators=50,max_depth=7, min_samples_leaf =120, \n",
    "#                min_samples_split =1000, max_features=4, random_state=10), \n",
    "#                        param_grid = param_test5, scoring='roc_auc', cv=5)\n",
    "# gsearch5.fit(x_train,y_train)\n",
    "# means = gsearch5.cv_results_['mean_test_score']\n",
    "# params = gsearch5.cv_results_['params']\n",
    "# print(means)\n",
    "# print(params)"
   ]
  },
  {
   "cell_type": "code",
   "execution_count": 35,
   "id": "eeb8121a",
   "metadata": {
    "execution": {
     "iopub.execute_input": "2021-07-19T06:08:37.167772Z",
     "iopub.status.busy": "2021-07-19T06:08:37.167187Z",
     "iopub.status.idle": "2021-07-19T06:10:35.856132Z",
     "shell.execute_reply": "2021-07-19T06:10:35.855382Z"
    },
    "papermill": {
     "duration": 118.738721,
     "end_time": "2021-07-19T06:10:35.856327",
     "exception": false,
     "start_time": "2021-07-19T06:08:37.117606",
     "status": "completed"
    },
    "tags": []
   },
   "outputs": [
    {
     "name": "stdout",
     "output_type": "stream",
     "text": [
      "AUC Score : 0.8684402994052954\n"
     ]
    },
    {
     "data": {
      "image/png": "[encoded data removed]",
      "text/plain": [
       "<Figure size 576x432 with 1 Axes>"
      ]
     },
     "metadata": {
      "needs_background": "light"
     },
     "output_type": "display_data"
    }
   ],
   "source": [
    "gbm1 = GradientBoostingClassifier(learning_rate=0.01, n_estimators=900,max_depth=7, min_samples_leaf =120, \n",
    "               min_samples_split =1000, max_features='sqrt', subsample=0.8, random_state=10)\n",
    "gbm1.fit(x_train,y_train)\n",
    "gbc_clf_proba = gbm1.predict_proba(x_test)[:,1]\n",
    "y_pred = gbm1.predict(x_test)\n",
    "fpr, tpr, _ = roc_curve(y_test, gbc_clf_proba)\n",
    "roc_auc = auc(fpr,tpr)\n",
    "plot_roc_curve(fpr,tpr)\n",
    "print ('AUC Score :', roc_auc)"
   ]
  },
  {
   "cell_type": "code",
   "execution_count": 36,
   "id": "64a33f8a",
   "metadata": {
    "execution": {
     "iopub.execute_input": "2021-07-19T06:10:35.963558Z",
     "iopub.status.busy": "2021-07-19T06:10:35.962910Z",
     "iopub.status.idle": "2021-07-19T06:10:39.092392Z",
     "shell.execute_reply": "2021-07-19T06:10:39.091720Z"
    },
    "papermill": {
     "duration": 3.187313,
     "end_time": "2021-07-19T06:10:39.092586",
     "exception": false,
     "start_time": "2021-07-19T06:10:35.905273",
     "status": "completed"
    },
    "tags": []
   },
   "outputs": [],
   "source": [
    "test_df = test_df.drop(['SeriousDlqin2yrs', 'ID'],axis=1)\n",
    "gbc_clf_proba = gbm1.predict_proba(test_df)[:,1]\n",
    "ids = np.arange(1,101504)\n",
    "submission = pd.DataFrame( {'Id': ids, 'Probability': gbc_clf_proba})\n",
    "submission.to_csv(\"submision.csv\", index=False)"
   ]
  },
  {
   "cell_type": "markdown",
   "id": "84874e58",
   "metadata": {
    "papermill": {
     "duration": 0.048418,
     "end_time": "2021-07-19T06:10:39.191685",
     "exception": false,
     "start_time": "2021-07-19T06:10:39.143267",
     "status": "completed"
    },
    "tags": []
   },
   "source": [
    "最后运用新参数拟合模型，得到最终模型。"
   ]
  }
 ],
 "metadata": {
  "kernelspec": {
   "display_name": "Python 3",
   "language": "python",
   "name": "python3"
  },
  "language_info": {
   "codemirror_mode": {
    "name": "ipython",
    "version": 3
   },
   "file_extension": ".py",
   "mimetype": "text/x-python",
   "name": "python",
   "nbconvert_exporter": "python",
   "pygments_lexer": "ipython3",
   "version": "3.7.10"
  },
  "papermill": {
   "default_parameters": {},
   "duration": 187.655721,
   "end_time": "2021-07-19T06:10:39.949921",
   "environment_variables": {},
   "exception": null,
   "input_path": "__notebook__.ipynb",
   "output_path": "__notebook__.ipynb",
   "parameters": {},
   "start_time": "2021-07-19T06:07:32.294200",
   "version": "2.3.3"
  }
 },
 "nbformat": 4,
 "nbformat_minor": 5
}
